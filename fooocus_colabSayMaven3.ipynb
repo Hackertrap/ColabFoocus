{
  "cells": [
    {
      "cell_type": "markdown",
      "metadata": {
        "id": "view-in-github",
        "colab_type": "text"
      },
      "source": [
        "<a href=\"https://colab.research.google.com/github/Hackertrap/ColabFoocus/blob/main/fooocus_colabSayMaven3.ipynb\" target=\"_parent\"><img src=\"https://colab.research.google.com/assets/colab-badge.svg\" alt=\"Open In Colab\"/></a>"
      ]
    },
    {
      "cell_type": "code",
      "execution_count": null,
      "metadata": {
        "id": "VjYy0F2gZIPR"
      },
      "outputs": [],
      "source": [
        "!pip install pygit2==1.15.1\n",
        "%cd /content\n",
        "!git clone https://github.com/lllyasviel/Fooocus.git\n",
        "%cd /content/Fooocus\n",
        "!python entry_with_update.py --share --always-high-vram\n"
      ]
    },
    {
      "cell_type": "code",
      "source": [
        "!wget -O /content/Fooocus/models/checkpoints/prefectiousXLNSFW.safetensors \"https://civitai.com/api/download/models/1111838?type=Model&format=SafeTensor&size=pruned&fp=fp16&token=6d5979eca3c585f9a91dcd83ded3f3a6\""
      ],
      "metadata": {
        "id": "GWAB36fmKxo7"
      },
      "execution_count": null,
      "outputs": []
    },
    {
      "cell_type": "code",
      "source": [
        "!wget -O /content/Fooocus/models/checkpoints/PrefectIllustriousXLV1_5.safetensors \"https://civitai.com/api/download/models/1761560?type=Model&format=SafeTensor&size=pruned&fp=fp16&token=6d5979eca3c585f9a91dcd83ded3f3a6\""
      ],
      "metadata": {
        "id": "qKKD_UXEK0-S"
      },
      "execution_count": null,
      "outputs": []
    },
    {
      "cell_type": "code",
      "source": [
        "!wget -O /content/Fooocus/models/checkpoints/NoobXLEpsilon1_1.safetensors \"https://civitai.com/api/download/models/1116447?type=Model&format=SafeTensor&size=full&fp=bf16&token=6d5979eca3c585f9a91dcd83ded3f3a6\""
      ],
      "metadata": {
        "id": "KCCLnVipnPYg"
      },
      "execution_count": null,
      "outputs": []
    },
    {
      "cell_type": "code",
      "source": [
        "!wget -O /content/Fooocus/models/checkpoints/PonyDiffV6XL.safetensors \"https://civitai.com/api/download/models/290640?type=Model&format=SafeTensor&size=pruned&fp=fp16&token=6d5979eca3c585f9a91dcd83ded3f3a6\""
      ],
      "metadata": {
        "id": "mAHFmJ-wZ4yH"
      },
      "execution_count": null,
      "outputs": []
    },
    {
      "cell_type": "code",
      "source": [
        "!wget -O /content/Fooocus/models/checkpoints/WAIiLLNSFWSDXLV13.safetensors \"https://civitai.com/api/download/models/1612720?type=Model&format=SafeTensor&size=pruned&fp=fp16&token=6d5979eca3c585f9a91dcd83ded3f3a6\"\n",
        "!wget -O /content/Fooocus/models/checkpoints/WAIiLLNSFWSDXLV14.safetensors \"https://civitai.com/api/download/models/1761560?type=Model&format=SafeTensor&size=pruned&fp=fp16&token=6d5979eca3c585f9a91dcd83ded3f3a6\""
      ],
      "metadata": {
        "id": "Jkqi_Xmf1gAT"
      },
      "execution_count": null,
      "outputs": []
    },
    {
      "cell_type": "code",
      "source": [
        "!wget -O /content/Fooocus/models/checkpoints/RaehoshiIllustXLV5_1.safetensors \"https://civitai.com/api/download/models/1912640?type=Model&format=SafeTensor&size=pruned&fp=fp16&token=6d5979eca3c585f9a91dcd83ded3f3a6\""
      ],
      "metadata": {
        "id": "PP1QQehVnTec"
      },
      "execution_count": null,
      "outputs": []
    },
    {
      "cell_type": "code",
      "source": [
        "!wget -O /content/Fooocus/models/checkpoints/GrayColor.safetensors \"https://civitai.com/api/download/models/1986688?type=Model&format=SafeTensor&size=full&fp=fp16&token=6d5979eca3c585f9a91dcd83ded3f3a6\""
      ],
      "metadata": {
        "id": "PZEwaQFlK3mO"
      },
      "execution_count": null,
      "outputs": []
    },
    {
      "cell_type": "code",
      "source": [
        "!wget -O /content/Fooocus/models/checkpoints/IllusioN-R.safetensors \"https://civitai.com/api/download/models/2025965?type=Model&format=SafeTensor&size=pruned&fp=fp16&token=6d5979eca3c585f9a91dcd83ded3f3a6\""
      ],
      "metadata": {
        "id": "OZ_3laEcK35z"
      },
      "execution_count": null,
      "outputs": []
    },
    {
      "cell_type": "code",
      "source": [
        "!wget -O /content/Fooocus/models/checkpoints/TanemoMix.safetensors \"https://civitai.com/api/download/models/2036473?type=Model&format=SafeTensor&size=pruned&fp=fp16&token=6d5979eca3c585f9a91dcd83ded3f3a6\""
      ],
      "metadata": {
        "id": "Ggm_d5LLK4SV"
      },
      "execution_count": null,
      "outputs": []
    },
    {
      "cell_type": "code",
      "source": [
        "!wget -O /content/Fooocus/models/checkpoints/IchigoMilk.safetensors \"https://civitai.com/api/download/models/2028018?type=Model&format=SafeTensor&size=pruned&fp=fp16&token=6d5979eca3c585f9a91dcd83ded3f3a6\""
      ],
      "metadata": {
        "id": "zTJDj0g5K4YS"
      },
      "execution_count": null,
      "outputs": []
    },
    {
      "cell_type": "code",
      "source": [
        "!wget -O /content/Fooocus/models/checkpoints/CatCarrier.safetensors \"https://civitai.com/api/download/models/2012704?type=Model&format=SafeTensor&size=pruned&fp=fp16&token=6d5979eca3c585f9a91dcd83ded3f3a6\""
      ],
      "metadata": {
        "id": "-0NJg9rLLzFX"
      },
      "execution_count": null,
      "outputs": []
    },
    {
      "cell_type": "code",
      "source": [
        "!wget -O /content/Fooocus/models/checkpoints/SilanceMix.safetensors \"https://civitai.com/api/download/models/2002954?type=Model&format=SafeTensor&size=full&fp=fp16&token=6d5979eca3c585f9a91dcd83ded3f3a6\""
      ],
      "metadata": {
        "id": "lWDAM41ALzQI"
      },
      "execution_count": null,
      "outputs": []
    },
    {
      "cell_type": "code",
      "source": [
        "# VAE\n",
        "!wget -O /content/Fooocus/models/vae/SDXLVAE.safetensors \"https://civitai.com/api/download/models/333245?type=Model&format=SafeTensor&token=6d5979eca3c585f9a91dcd83ded3f3a6\"\n",
        "!wget -O /content/Fooocus/models/vae/PonyDiffV6XLVAE.safetensors \"https://civitai.com/api/download/models/290640?type=VAE&format=SafeTensor&token=6d5979eca3c585f9a91dcd83ded3f3a6\""
      ],
      "metadata": {
        "id": "Rhu5icIraGi6"
      },
      "execution_count": null,
      "outputs": []
    },
    {
      "cell_type": "code",
      "source": [
        "# Ave Mujica\n",
        "!wget -O /content/Fooocus/models/loras/TogawaSakiko.safetensors \"https://civitai.com/api/download/models/1435674?type=Model&format=SafeTensor&token=6d5979eca3c585f9a91dcd83ded3f3a6\"\n",
        "!wget -O /content/Fooocus/models/loras/YutenjiNyamu.safetensors \"https://civitai.com/api/download/models/1475376?type=Model&format=SafeTensor&token=6d5979eca3c585f9a91dcd83ded3f3a6\"\n",
        "!wget -O /content/Fooocus/models/loras/YahataUmiri.safetensors \"https://civitai.com/api/download/models/1497487?type=Model&format=SafeTensor&token=6d5979eca3c585f9a91dcd83ded3f3a6\"\n",
        "!wget -O /content/Fooocus/models/loras/WakabaMutsumi.safetensors \"https://civitai.com/api/download/models/1517817?type=Model&format=SafeTensor&token=6d5979eca3c585f9a91dcd83ded3f3a6\"\n",
        "!wget -O /content/Fooocus/models/loras/MisumiUika.safetensors \"https://civitai.com/api/download/models/1485711?type=Model&format=SafeTensor&token=6d5979eca3c585f9a91dcd83ded3f3a6\"\n",
        "!wget -O /content/Fooocus/models/loras/SumitaMana.safetensors \"https://civitai.com/api/download/models/1536642?type=Model&format=SafeTensor&token=6d5979eca3c585f9a91dcd83ded3f3a6\""
      ],
      "metadata": {
        "id": "K5TTtLpWK91z"
      },
      "execution_count": null,
      "outputs": []
    },
    {
      "cell_type": "code",
      "source": [
        "# MyGO!!!!\n",
        "!wget -O /content/Fooocus/models/loras/NagasakiSoyo.safetensors \"https://civitai.com/api/download/models/1757268?type=Model&format=SafeTensor&token=6d5979eca3c585f9a91dcd83ded3f3a6\"\n",
        "!wget -O /content/Fooocus/models/loras/ShiinaTaki.safetensors \"https://civitai.com/api/download/models/1670967?type=Model&format=SafeTensor&token=6d5979eca3c585f9a91dcd83ded3f3a6\"\n",
        "!wget -O /content/Fooocus/models/loras/ChihayaAnon.safetensors \"https://civitai.com/api/download/models/1692854?type=Model&format=SafeTensor&token=6d5979eca3c585f9a91dcd83ded3f3a6\"\n",
        "!wget -O /content/Fooocus/models/loras/TakamatuTomori.safetensors \"https://civitai.com/api/download/models/1651289?type=Model&format=SafeTensor&token=6d5979eca3c585f9a91dcd83ded3f3a6\"\n",
        "!wget -O /content/Fooocus/models/loras/KanameRaana.safetensors \"https://civitai.com/api/download/models/955903?type=Model&format=SafeTensor&token=6d5979eca3c585f9a91dcd83ded3f3a6\""
      ],
      "metadata": {
        "id": "Vij8av3dLsB_"
      },
      "execution_count": null,
      "outputs": []
    },
    {
      "cell_type": "code",
      "source": [
        "# Soutsa Model\n",
        "!wget -O /content/Fooocus/models/loras/MatsubaraKanonSoutsa.safetensors \"https://civitai.com/api/download/models/1853283?type=Model&format=SafeTensor&token=6d5979eca3c585f9a91dcd83ded3f3a6\"\n",
        "!wget -O /content/Fooocus/models/loras/YamabukiSaayaSoutsa.safetensors \"https://civitai.com/api/download/models/1826126?type=Model&format=SafeTensor&token=6d5979eca3c585f9a91dcd83ded3f3a6\"\n",
        "!wget -O /content/Fooocus/models/loras/HanazonoTaeSoutsa.safetensors \"https://civitai.com/api/download/models/2005156?type=Model&format=SafeTensor&token=6d5979eca3c585f9a91dcd83ded3f3a6\"\n",
        "!wget -O /content/Fooocus/models/loras/ToyamaKasumiSoutsa.safetensors \"https://civitai.com/api/download/models/2011281?type=Model&format=SafeTensor&token=6d5979eca3c585f9a91dcd83ded3f3a6\"\n",
        "!wget -O /content/Fooocus/models/loras/UshigomeRimiSoutsa.safetensors \"https://civitai.com/api/download/models/2019871?type=Model&format=SafeTensor&token=6d5979eca3c585f9a91dcd83ded3f3a6\"\n",
        "!wget -O /content/Fooocus/models/loras/TakamatsuTomoriSoutsa.safetensors \"https://civitai.com/api/download/models/1952526?type=Model&format=SafeTensor&token=6d5979eca3c585f9a91dcd83ded3f3a6\"\n",
        "!wget -O /content/Fooocus/models/loras/MaruyamaAyaSoutsa.safetensors \"https://civitai.com/api/download/models/1824587?type=Model&format=SafeTensor&token=6d5979eca3c585f9a91dcd83ded3f3a6\"\n",
        "!wget -O /content/Fooocus/models/loras/OomuroNadeshikoSoutsa.safetensors \"https://civitai.com/api/download/models/1907749?type=Model&format=SafeTensor&token=6d5979eca3c585f9a91dcd83ded3f3a6\"\n",
        "!wget -O /content/Fooocus/models/loras/OomuroHanakoSoutsa.safetensors \"https://civitai.com/api/download/models/1903508?type=Model&format=SafeTensor&token=6d5979eca3c585f9a91dcd83ded3f3a6\"\n",
        "!wget -O /content/Fooocus/models/loras/MisakiTakasakiSoutsa.safetensors \"https://civitai.com/api/download/models/1905974?type=Model&format=SafeTensor&token=6d5979eca3c585f9a91dcd83ded3f3a6\""
      ],
      "metadata": {
        "id": "3MSM2150axxO"
      },
      "execution_count": null,
      "outputs": []
    },
    {
      "cell_type": "code",
      "source": [
        "# HelloHappyWorld\n",
        "!wget -O /content/Fooocus/models/loras/MatsubaraKanon.safetensors \"https://civitai.com/api/download/models/1023038?type=Model&format=SafeTensor&token=6d5979eca3c585f9a91dcd83ded3f3a6\"\n",
        "!wget -O /content/Fooocus/models/loras/OkusawaMisaki.safetensors \"https://civitai.com/api/download/models/877985?type=Model&format=SafeTensor&token=6d5979eca3c585f9a91dcd83ded3f3a6\"\n",
        "!wget -O /content/Fooocus/models/loras/TsurumakiKokoro.safetensors \"https://civitai.com/api/download/models/1327000?type=Model&format=SafeTensor&token=6d5979eca3c585f9a91dcd83ded3f3a6\""
      ],
      "metadata": {
        "id": "QBlLCOjBS9Ec"
      },
      "execution_count": null,
      "outputs": []
    },
    {
      "cell_type": "code",
      "source": [
        "#PastelPalettes\n",
        "!wget -O /content/Fooocus/models/loras/MaruyamaAyaNoobAI.safetensors \"https://civitai.com/api/download/models/1647912?type=Model&format=SafeTensor&token=6d5979eca3c585f9a91dcd83ded3f3a6\"\n",
        "!wget -O /content/Fooocus/models/loras/ShirasagiChisato.safetensors \"https://civitai.com/api/download/models/1931034?type=Model&format=SafeTensor&token=6d5979eca3c585f9a91dcd83ded3f3a6\"\n",
        "!wget -O /content/Fooocus/models/loras/HikawaHina.safetensors \"https://civitai.com/api/download/models/1919900?type=Model&format=SafeTensor&token=6d5979eca3c585f9a91dcd83ded3f3a6\"\n",
        "!wget -O /content/Fooocus/models/loras/WakamiyaEve.safetensors \"https://civitai.com/api/download/models/1956559?type=Model&format=SafeTensor&token=6d5979eca3c585f9a91dcd83ded3f3a6\"\n",
        "!wget -O /content/Fooocus/models/loras/YamatoMaya.safetensors \"https://civitai.com/api/download/models/121272?type=Model&format=SafeTensor&token=6d5979eca3c585f9a91dcd83ded3f3a6\""
      ],
      "metadata": {
        "id": "AR0yp7NynF0X"
      },
      "execution_count": null,
      "outputs": []
    },
    {
      "cell_type": "code",
      "source": [
        "# GBC\n",
        "!wget -O /content/Fooocus/models/loras/NinaIseri.safetensors \"https://civitai.com/api/download/models/1468578?type=Model&format=SafeTensor&token=6d5979eca3c585f9a91dcd83ded3f3a6\""
      ],
      "metadata": {
        "id": "10JRQWbnagyc"
      },
      "execution_count": null,
      "outputs": []
    },
    {
      "cell_type": "code",
      "source": [
        "# Koisuru Otome\n",
        "!wget -O /content/Fooocus/models/loras/HiuraMihate.safetensors \"https://civitai.com/api/download/models/1826280?type=Model&format=SafeTensor&token=6d5979eca3c585f9a91dcd83ded3f3a6\""
      ],
      "metadata": {
        "id": "2lgWjU3hay5c"
      },
      "execution_count": null,
      "outputs": []
    },
    {
      "cell_type": "code",
      "source": [
        "# Watashi ni Tenshi ga Maoirita\n",
        "!wget -O /content/Fooocus/models/loras/HoshinoMiyako.safetensors \"https://civitai.com/api/download/models/1748699?type=Model&format=SafeTensor&token=6d5979eca3c585f9a91dcd83ded3f3a6\"\n",
        "!wget -O /content/Fooocus/models/loras/HoshinoHinata.safetensors \"https://civitai.com/api/download/models/1748631?type=Model&format=SafeTensor&token=6d5979eca3c585f9a91dcd83ded3f3a6\"\n",
        "!wget -O /content/Fooocus/models/loras/MatsumotoKouko.safetensors \"https://civitai.com/api/download/models/1744050?type=Model&format=SafeTensor&token=6d5979eca3c585f9a91dcd83ded3f3a6\"\n",
        "!wget -O /content/Fooocus/models/loras/HimesakaNoa.safetensors \"https://civitai.com/api/download/models/1752476?type=Model&format=SafeTensor&token=6d5979eca3c585f9a91dcd83ded3f3a6\"\n",
        "!wget -O /content/Fooocus/models/loras/ShirosakiHana.safetensors \"https://civitai.com/api/download/models/1744171?type=Model&format=SafeTensor&token=6d5979eca3c585f9a91dcd83ded3f3a6\"\n",
        "!wget -O /content/Fooocus/models/loras/KonomoriKanon.safetensors \"https://civitai.com/api/download/models/1752841?type=Model&format=SafeTensor&token=6d5979eca3c585f9a91dcd83ded3f3a6\"\n",
        "!wget -O /content/Fooocus/models/loras/TanemuraKoyori.safetensors \"https://civitai.com/api/download/models/1752906?type=Model&format=SafeTensor&token=6d5979eca3c585f9a91dcd83ded3f3a6\""
      ],
      "metadata": {
        "id": "v4S4sShiu1-Z"
      },
      "execution_count": null,
      "outputs": []
    },
    {
      "cell_type": "code",
      "source": [
        "# GnP\n",
        "!wget -O /content/Fooocus/models/loras/NishizumiMiho.safetensors \"https://civitai.com/api/download/models/370384?type=Model&format=SafeTensor&token=6d5979eca3c585f9a91dcd83ded3f3a6\"\n",
        "!wget -O /content/Fooocus/models/loras/MikaGnP.safetensors \"https://civitai.com/api/download/models/1617647?type=Model&format=SafeTensor&token=6d5979eca3c585f9a91dcd83ded3f3a6\""
      ],
      "metadata": {
        "id": "17zxXVZ1dyVx"
      },
      "execution_count": null,
      "outputs": []
    },
    {
      "cell_type": "code",
      "source": [
        "# Project Sekai\n",
        "!wget -O /content/Fooocus/models/loras/AkiyamaMizukiNoobAI.safetensors \"https://civitai.com/api/download/models/1929244?type=Model&format=SafeTensor&token=6d5979eca3c585f9a91dcd83ded3f3a6\"\n",
        "!wget -O /content/Fooocus/models/loras/ShinonomeEna.safetensors \"https://civitai.com/api/download/models/1929221?type=Model&format=SafeTensor&token=6d5979eca3c585f9a91dcd83ded3f3a6\"\n",
        "!wget -O /content/Fooocus/models/loras/OotoriEmu.safetensors \"https://civitai.com/api/download/models/1798182?type=Model&format=SafeTensor&token=6d5979eca3c585f9a91dcd83ded3f3a6\"\n",
        "!wget -O /content/Fooocus/models/loras/AsahinaMafuyu.safetensors \"https://civitai.com/api/download/models/1950316?type=Model&format=SafeTensor&token=6d5979eca3c585f9a91dcd83ded3f3a6\""
      ],
      "metadata": {
        "id": "bMhQmpqAe8la"
      },
      "execution_count": null,
      "outputs": []
    },
    {
      "cell_type": "code",
      "source": [
        "# WUWA\n",
        "!wget -O /content/Fooocus/models/loras/CartethyiaNoobAI.safetensors \"https://civitai.com/api/download/models/1571621?type=Model&format=SafeTensor&token=6d5979eca3c585f9a91dcd83ded3f3a6\""
      ],
      "metadata": {
        "id": "65lXHVJrfy1X"
      },
      "execution_count": null,
      "outputs": []
    },
    {
      "cell_type": "code",
      "source": [
        "# Gakuen Idolmaster\n",
        "!wget -O /content/Fooocus/models/loras/HanamiSaki.safetensors \"https://civitai.com/api/download/models/1925782?type=Model&format=SafeTensor&token=6d5979eca3c585f9a91dcd83ded3f3a6\"\n",
        "!wget -O /content/Fooocus/models/loras/MadokaHiguchi.safetensors \"https://civitai.com/api/download/models/1139940?type=Model&format=SafeTensor&token=6d5979eca3c585f9a91dcd83ded3f3a6\"\n",
        "!wget -O /content/Fooocus/models/loras/HanamiUme.safetensors \"https://civitai.com/api/download/models/2017159?type=Model&format=SafeTensor&token=6d5979eca3c585f9a91dcd83ded3f3a6\"\n",
        "!wget -O /content/Fooocus/models/loras/MaoArimura.safetensors \"https://civitai.com/api/download/models/2002880?type=Model&format=SafeTensor&token=6d5979eca3c585f9a91dcd83ded3f3a6\"\n",
        "!wget -O /content/Fooocus/models/loras/SenaJuo.safetensors \"https://civitai.com/api/download/models/2017235?type=Model&format=SafeTensor&token=6d5979eca3c585f9a91dcd83ded3f3a6\"\n",
        "!wget -O /content/Fooocus/models/loras/MisuzuHataya.safetensors \"https://civitai.com/api/download/models/2017209?type=Model&format=SafeTensor&token=6d5979eca3c585f9a91dcd83ded3f3a6\"\n",
        "!wget -O /content/Fooocus/models/loras/SumikaShiun.safetensors \"https://civitai.com/api/download/models/2008243?type=Model&format=SafeTensor&token=6d5979eca3c585f9a91dcd83ded3f3a6\"\n",
        "!wget -O /content/Fooocus/models/loras/LiljaKatsuragi.safetensors \"https://civitai.com/api/download/models/2002871?type=Model&format=SafeTensor&token=6d5979eca3c585f9a91dcd83ded3f3a6\"\n",
        "!wget -O /content/Fooocus/models/loras/TemariTsukimura.safetensors \"https://civitai.com/api/download/models/1927908?type=Model&format=SafeTensor&token=6d5979eca3c585f9a91dcd83ded3f3a6\"\n",
        "!wget -O /content/Fooocus/models/loras/RinamiHimesaki.safetensors \"https://civitai.com/api/download/models/2008357?type=Model&format=SafeTensor&token=6d5979eca3c585f9a91dcd83ded3f3a6\"\n",
        "!wget -O /content/Fooocus/models/loras/ChinaKuramoto.safetensors \"https://civitai.com/api/download/models/2003018?type=Model&format=SafeTensor&token=6d5979eca3c585f9a91dcd83ded3f3a6\"\n",
        "!wget -O /content/Fooocus/models/loras/KotoneFujita.safetensors \"https://civitai.com/api/download/models/1924793?type=Model&format=SafeTensor&token=6d5979eca3c585f9a91dcd83ded3f3a6\"\n",
        "!wget -O /content/Fooocus/models/loras/HiroShinosawa.safetensors \"https://civitai.com/api/download/models/2008314?type=Model&format=SafeTensor&token=6d5979eca3c585f9a91dcd83ded3f3a6\""
      ],
      "metadata": {
        "id": "s61bx36M8WPN"
      },
      "execution_count": null,
      "outputs": []
    },
    {
      "cell_type": "code",
      "source": [
        "# HOYO\n",
        "# HSR\n",
        "!wget -O /content/Fooocus/models/loras/March7.safetensors \"https://civitai.com/api/download/models/1282252?type=Model&format=SafeTensor&token=6d5979eca3c585f9a91dcd83ded3f3a6\"\n",
        "# Genshin\n",
        "!wget -O /content/Fooocus/models/loras/Venti.safetensors \"https://civitai.com/api/download/models/1564844?type=Model&format=SafeTensor&token=6d5979eca3c585f9a91dcd83ded3f3a6\"\n",
        "# ZZZ\n",
        "!wget -O /content/Fooocus/models/loras/Belle-AllClothes.safetensors \"https://civitai.com/api/download/models/2002211?type=Model&format=SafeTensor&token=6d5979eca3c585f9a91dcd83ded3f3a6\""
      ],
      "metadata": {
        "id": "qZp5AmeM8fkX"
      },
      "execution_count": null,
      "outputs": []
    },
    {
      "cell_type": "code",
      "source": [
        "# Watanare\n",
        "!wget -O /content/Fooocus/models/loras/RenakoAmaori.safetensors \"https://civitai.com/api/download/models/1197946?type=Model&format=SafeTensor&token=6d5979eca3c585f9a91dcd83ded3f3a6\"\n",
        "!wget -O /content/Fooocus/models/loras/Renako_Mayu.safetensors \"https://civitai.com/api/download/models/1900984?type=Model&format=SafeTensor&token=6d5979eca3c585f9a91dcd83ded3f3a6\"\n",
        "!wget -O /content/Fooocus/models/loras/AjisaiSena.safetensors \"https://civitai.com/api/download/models/1218489?type=Model&format=SafeTensor&token=6d5979eca3c585f9a91dcd83ded3f3a6\""
      ],
      "metadata": {
        "id": "DXvT-3u_JdNw"
      },
      "execution_count": null,
      "outputs": []
    },
    {
      "cell_type": "code",
      "source": [
        "# All in One\n",
        "!wget -O /content/Fooocus/models/loras/MorfonicaALLinOne.safetensors \"https://civitai.com/api/download/models/1174227?type=Model&format=SafeTensor&token=6d5979eca3c585f9a91dcd83ded3f3a6\"\n",
        "!wget -O /content/Fooocus/models/loras/MyGO7in1.safetensors \"https://civitai.com/api/download/models/965382?type=Model&format=SafeTensor&token=6d5979eca3c585f9a91dcd83ded3f3a6\"\n",
        "!wget -O /content/Fooocus/models/loras/AveMujicaAllinOne.safetensors \"https://civitai.com/api/download/models/1232373?type=Model&format=SafeTensor&token=6d5979eca3c585f9a91dcd83ded3f3a6\"\n",
        "!wget -O /content/Fooocus/models/loras/AveMujica5in1NoobXL.safetensors \"https://civitai.com/api/download/models/1545137?type=Model&format=SafeTensor&token=6d5979eca3c585f9a91dcd83ded3f3a6\""
      ],
      "metadata": {
        "id": "dzrx-kGtXjk4"
      },
      "execution_count": null,
      "outputs": []
    },
    {
      "cell_type": "code",
      "source": [
        "# Roselia\n",
        "!wget -O /content/Fooocus/models/loras/ShirokaneRinko.safetensors \"https://civitai.com/api/download/models/1945429?type=Model&format=SafeTensor&token=6d5979eca3c585f9a91dcd83ded3f3a6\"\n",
        "!wget -O /content/Fooocus/models/loras/HikawaSayo.safetensors \"https://civitai.com/api/download/models/1962826?type=Model&format=SafeTensor&token=6d5979eca3c585f9a91dcd83ded3f3a6\"\n",
        "!wget -O /content/Fooocus/models/loras/UdagawaAko.safetensors \"https://civitai.com/api/download/models/1939016?type=Model&format=SafeTensor&token=6d5979eca3c585f9a91dcd83ded3f3a6\"\n",
        "!wget -O /content/Fooocus/models/loras/MinatoYukina.safetensors \"https://civitai.com/api/download/models/1652261?type=Model&format=SafeTensor&token=6d5979eca3c585f9a91dcd83ded3f3a6\"\n",
        "!wget -O /content/Fooocus/models/loras/LisaImai.safetensors \"https://civitai.com/api/download/models/1779126?type=Model&format=SafeTensor&token=6d5979eca3c585f9a91dcd83ded3f3a6\""
      ],
      "metadata": {
        "id": "4-OAWRh2YbjZ"
      },
      "execution_count": null,
      "outputs": []
    },
    {
      "cell_type": "code",
      "source": [
        "# Blue Archive\n",
        "!wget -O /content/Fooocus/models/loras/TangaIbukiRegulerClothes.safetensors \"https://civitai.com/api/download/models/1779126?type=Model&format=SafeTensor&token=6d5979eca3c585f9a91dcd83ded3f3a6\"\n",
        "!wget -O /content/Fooocus/models/loras/TangaIbukiOnePieceDress.safetensors \"https://civitai.com/api/download/models/1188296?type=Model&format=SafeTensor&token=6d5979eca3c585f9a91dcd83ded3f3a6\"\n",
        "!wget -O /content/Fooocus/models/loras/TangaIbukiSwimsuit.safetensors \"https://civitai.com/api/download/models/1682670?type=Model&format=SafeTensor&token=6d5979eca3c585f9a91dcd83ded3f3a6\"\n",
        "!wget -O /content/Fooocus/models/loras/AronaPony.safetensors \"https://civitai.com/api/download/models/638450?type=Model&format=SafeTensor&token=6d5979eca3c585f9a91dcd83ded3f3a6\"\n",
        "!wget -O /content/Fooocus/models/loras/AjitaniHifumi.safetensors \"https://civitai.com/api/download/models/1508388?type=Model&format=SafeTensor&token=6d5979eca3c585f9a91dcd83ded3f3a6\"\n",
        "!wget -O /content/Fooocus/models/loras/MisonoMika.safetensors \"https://civitai.com/api/download/models/2027410?type=Model&format=SafeTensor&token=6d5979eca3c585f9a91dcd83ded3f3a6\""
      ],
      "metadata": {
        "id": "x8LDvbBNYyq7"
      },
      "execution_count": null,
      "outputs": []
    },
    {
      "cell_type": "code",
      "source": [
        "# Afterglow\n",
        "!wget -O /content/Fooocus/models/loras/MitakeRan.safetensors \"https://civitai.com/api/download/models/1859679?type=Model&format=SafeTensor&token=6d5979eca3c585f9a91dcd83ded3f3a6\"\n",
        "!wget -O /content/Fooocus/models/loras/HimariUehara.safetensors \"https://civitai.com/api/download/models/1938495?type=Model&format=SafeTensor&token=6d5979eca3c585f9a91dcd83ded3f3a6\"\n",
        "!wget -O /content/Fooocus/models/loras/AobaMoca.safetensors \"https://civitai.com/api/download/models/1952670?type=Model&format=SafeTensor&token=6d5979eca3c585f9a91dcd83ded3f3a6\"\n",
        "!wget -O /content/Fooocus/models/loras/UdagawaTomoe.safetensors \"https://civitai.com/api/download/models/1841271?type=Model&format=SafeTensor&token=6d5979eca3c585f9a91dcd83ded3f3a6\""
      ],
      "metadata": {
        "id": "ZLsyr4fzVMhD"
      },
      "execution_count": null,
      "outputs": []
    },
    {
      "cell_type": "code",
      "source": [
        "# Raise a Suilen\n",
        "!wget -O /content/Fooocus/models/loras/NyubaraReona.safetensors \"https://civitai.com/api/download/models/1657298?type=Model&format=SafeTensor&token=6d5979eca3c585f9a91dcd83ded3f3a6\"\n",
        "!wget -O /content/Fooocus/models/loras/TamadeChiyuPony.safetensors \"https://civitai.com/api/download/models/1209434?type=Model&format=SafeTensor&token=6d5979eca3c585f9a91dcd83ded3f3a6\"\n",
        "!wget -O /content/Fooocus/models/loras/SatoMasukiPony.safetensors \"https://civitai.com/api/download/models/1202355?type=Model&format=SafeTensor&token=6d5979eca3c585f9a91dcd83ded3f3a6\"\n",
        "!wget -O /content/Fooocus/models/loras/WakanaReiPony.safetensors \"https://civitai.com/api/download/models/1129228?type=Model&format=SafeTensor&token=6d5979eca3c585f9a91dcd83ded3f3a6\""
      ],
      "metadata": {
        "id": "jxMc7Cz9VVfZ"
      },
      "execution_count": null,
      "outputs": []
    },
    {
      "cell_type": "code",
      "source": [
        "# Poppin'Party\n",
        "!wget -O /content/Fooocus/models/loras/YamabukiSaaya.safetensors \"https://civitai.com/api/download/models/1919702?type=Model&format=SafeTensor&token=6d5979eca3c585f9a91dcd83ded3f3a6\"\n",
        "!wget -O /content/Fooocus/models/loras/UshigomeRimi.safetensors \"https://civitai.com/api/download/models/1901772?type=Model&format=SafeTensor&token=6d5979eca3c585f9a91dcd83ded3f3a6\"\n",
        "!wget -O /content/Fooocus/models/loras/IchigayaArisa.safetensors \"https://civitai.com/api/download/models/1648456?type=Model&format=SafeTensor&token=6d5979eca3c585f9a91dcd83ded3f3a6\"\n",
        "!wget -O /content/Fooocus/models/loras/HanazonoTae.safetensors \"https://civitai.com/api/download/models/1666003?type=Model&format=SafeTensor&token=6d5979eca3c585f9a91dcd83ded3f3a6\"\n",
        "!wget -O /content/Fooocus/models/loras/ToyamaKasumi.safetensors \"https://civitai.com/api/download/models/1891404?type=Model&format=SafeTensor&token=6d5979eca3c585f9a91dcd83ded3f3a6\""
      ],
      "metadata": {
        "id": "BFzBiC0gVVhs"
      },
      "execution_count": null,
      "outputs": []
    },
    {
      "cell_type": "code",
      "source": [
        "# Morfonica\n",
        "!wget -O /content/Fooocus/models/loras/KurataMashiroAiden2023.safetensors \"https://civitai.com/api/download/models/1170241?type=Model&format=SafeTensor&token=6d5979eca3c585f9a91dcd83ded3f3a6\"\n",
        "!wget -O /content/Fooocus/models/loras/KurataMashiroKafuuChino.safetensors \"https://civitai.com/api/download/models/980011?type=Model&format=SafeTensor&token=6d5979eca3c585f9a91dcd83ded3f3a6\"\n",
        "!wget -O /content/Fooocus/models/loras/KurataMashiroAlterb0x.safetensors \"https://civitai.com/api/download/models/2021201?type=Model&format=SafeTensor&token=6d5979eca3c585f9a91dcd83ded3f3a6\""
      ],
      "metadata": {
        "id": "th6XvboEV3Gi"
      },
      "execution_count": null,
      "outputs": []
    },
    {
      "cell_type": "code",
      "source": [
        "# Yuru Yuri\n",
        "!wget -O /content/Fooocus/models/loras/SugiuraAyano.safetensors \"https://civitai.com/api/download/models/1301392?type=Model&format=SafeTensor&token=6d5979eca3c585f9a91dcd83ded3f3a6\"\n",
        "!wget -O /content/Fooocus/models/loras/AkazaAkari.safetensors \"https://civitai.com/api/download/models/1301295?type=Model&format=SafeTensor&token=6d5979eca3c585f9a91dcd83ded3f3a6\"\n",
        "!wget -O /content/Fooocus/models/loras/ToshinoKyouko.safetensors \"https://civitai.com/api/download/models/1301554?type=Model&format=SafeTensor&token=6d5979eca3c585f9a91dcd83ded3f3a6\"\n",
        "!wget -O /content/Fooocus/models/loras/FunamiYui.safetensors \"https://civitai.com/api/download/models/1301531?type=Model&format=SafeTensor&token=6d5979eca3c585f9a91dcd83ded3f3a6\"\n",
        "!wget -O /content/Fooocus/models/loras/MatsumotoRise.safetensors \"https://civitai.com/api/download/models/1301492?type=Model&format=SafeTensor&token=6d5979eca3c585f9a91dcd83ded3f3a6\"\n",
        "!wget -O /content/Fooocus/models/loras/IkedaChitose.safetensors \"https://civitai.com/api/download/models/1301465?type=Model&format=SafeTensor&token=6d5979eca3c585f9a91dcd83ded3f3a6\"\n",
        "!wget -O /content/Fooocus/models/loras/YoshikawaChinatsu.safetensors \"https://civitai.com/api/download/models/1301433?type=Model&format=SafeTensor&token=6d5979eca3c585f9a91dcd83ded3f3a6\"\n",
        "!wget -O /content/Fooocus/models/loras/OomuroSakurako.safetensors \"https://civitai.com/api/download/models/1293184?type=Model&format=SafeTensor&token=6d5979eca3c585f9a91dcd83ded3f3a6\"\n",
        "!wget -O /content/Fooocus/models/loras/FurutaniHimawari.safetensors \"https://civitai.com/api/download/models/546226?type=Model&format=SafeTensor&token=6d5979eca3c585f9a91dcd83ded3f3a6\""
      ],
      "metadata": {
        "id": "1Zilb3Koq6v5"
      },
      "execution_count": null,
      "outputs": []
    },
    {
      "cell_type": "code",
      "source": [
        "# Vocaloid\n",
        "!wget -O /content/Fooocus/models/loras/HatsuneMikuRemake.safetensors \"https://civitai.com/api/download/models/1296787?type=Model&format=SafeTensor&token=6d5979eca3c585f9a91dcd83ded3f3a6\"\n",
        "!wget -O /content/Fooocus/models/loras/KagamineRinRemake.safetensors \"https://civitai.com/api/download/models/1296796?type=Model&format=SafeTensor&token=6d5979eca3c585f9a91dcd83ded3f3a6\""
      ],
      "metadata": {
        "id": "FH_XDimErn_J"
      },
      "execution_count": null,
      "outputs": []
    },
    {
      "cell_type": "code",
      "source": [
        "# Uma Musume\n",
        "!wget -O /content/Fooocus/models/loras/MejiroArdanNocheKaiser.safetensors \"https://civitai.com/api/download/models/1954956?type=Model&format=SafeTensor&token=6d5979eca3c585f9a91dcd83ded3f3a6\"\n",
        "!wget -O /content/Fooocus/models/loras/OguriCapNocheKaiser.safetensors \"https://civitai.com/api/download/models/1954973?type=Model&format=SafeTensor&token=6d5979eca3c585f9a91dcd83ded3f3a6\""
      ],
      "metadata": {
        "id": "mvy7GGYGm4vn"
      },
      "execution_count": null,
      "outputs": []
    },
    {
      "cell_type": "code",
      "source": [
        "# Hololive\n",
        "!wget -O /content/Fooocus/models/loras/ShigureUi.safetensors \"https://civitai.com/api/download/models/1634366?type=Model&format=SafeTensor&token=6d5979eca3c585f9a91dcd83ded3f3a6\""
      ],
      "metadata": {
        "id": "Y7-2gAmmroDX"
      },
      "execution_count": null,
      "outputs": []
    },
    {
      "cell_type": "code",
      "source": [
        "# Bocchi the Rock\n",
        "!wget -O /content/Fooocus/models/loras/IkuyoKita.safetensors \"https://civitai.com/api/download/models/1637804?type=Model&format=SafeTensor&token=6d5979eca3c585f9a91dcd83ded3f3a6\"\n",
        "!wget -O /content/Fooocus/models/loras/IjichiNijika.safetensors \"https://civitai.com/api/download/models/1566761?type=Model&format=SafeTensor&token=6d5979eca3c585f9a91dcd83ded3f3a6\"\n",
        "!wget -O /content/Fooocus/models/loras/YamadaRyo.safetensors \"https://civitai.com/api/download/models/1405037?type=Model&format=SafeTensor&token=6d5979eca3c585f9a91dcd83ded3f3a6\"\n",
        "!wget -O /content/Fooocus/models/loras/GotohHitori.safetensors \"https://civitai.com/api/download/models/1375057?type=Model&format=SafeTensor&token=6d5979eca3c585f9a91dcd83ded3f3a6\""
      ],
      "metadata": {
        "id": "FLlEPbRoS4n-"
      },
      "execution_count": null,
      "outputs": []
    },
    {
      "cell_type": "code",
      "source": [
        "# Takopi no Genzai\n",
        "!wget -O /content/Fooocus/models/loras/MarinaKirazaka.safetensors \"https://civitai.com/api/download/models/1958010?type=Model&format=SafeTensor&token=6d5979eca3c585f9a91dcd83ded3f3a6\"\n",
        "!wget -O /content/Fooocus/models/loras/ShizukaKuze.safetensors \"https://civitai.com/api/download/models/1958011?type=Model&format=SafeTensor&token=6d5979eca3c585f9a91dcd83ded3f3a6\""
      ],
      "metadata": {
        "id": "CE3xHKIVDp9r"
      },
      "execution_count": null,
      "outputs": []
    },
    {
      "cell_type": "code",
      "source": [
        "# Clothing\n",
        "!wget -O /content/Fooocus/models/loras/KindergartenClothing.safetensors \"https://civitai.com/api/download/models/1869048?type=Model&format=SafeTensor&token=6d5979eca3c585f9a91dcd83ded3f3a6\"\n",
        "!wget -O /content/Fooocus/models/loras/HospitalGown.safetensors \"https://civitai.com/api/download/models/1806743?type=Model&format=SafeTensor&token=6d5979eca3c585f9a91dcd83ded3f3a6\"\n",
        "!wget -O /content/Fooocus/models/loras/PlayboyBunnySuit.safetensors \"https://civitai.com/api/download/models/1618535?type=Model&format=SafeTensor&token=6d5979eca3c585f9a91dcd83ded3f3a6\"\n",
        "!wget -O /content/Fooocus/models/loras/SiriusRabbitofParadise.safetensors \"https://civitai.com/api/download/models/1121716?type=Model&format=SafeTensor&token=6d5979eca3c585f9a91dcd83ded3f3a6\"\n",
        "!wget -O /content/Fooocus/models/loras/MicroBikini.safetensors \"https://civitai.com/api/download/models/1687553?type=Model&format=SafeTensor&token=6d5979eca3c585f9a91dcd83ded3f3a6\"\n",
        "!wget -O /content/Fooocus/models/loras/SailorBikiniUniform.safetensors \"https://civitai.com/api/download/models/1973711?type=Model&format=SafeTensor&token=6d5979eca3c585f9a91dcd83ded3f3a6\"\n",
        "!wget -O /content/Fooocus/models/loras/RuffleBikini.safetensors \"https://civitai.com/api/download/models/1640416?type=Model&format=SafeTensor&token=6d5979eca3c585f9a91dcd83ded3f3a6\"\n",
        "!wget -O /content/Fooocus/models/loras/NurseryTeacherApron.safetensors \"https://civitai.com/api/download/models/1438444?type=Model&format=SafeTensor&token=6d5979eca3c585f9a91dcd83ded3f3a6\"\n",
        "!wget -O /content/Fooocus/models/loras/SportsBraandPanties.safetensors \"https://civitai.com/api/download/models/1990291?type=Model&format=SafeTensor&token=6d5979eca3c585f9a91dcd83ded3f3a6\"\n",
        "!wget -O /content/Fooocus/models/loras/IdolOutfit.safetensors \"https://civitai.com/api/download/models/1467517?type=Model&format=SafeTensor&token=6d5979eca3c585f9a91dcd83ded3f3a6\"\n",
        "!wget -O /content/Fooocus/models/loras/GlitteringIdolOutfit.safetensors \"https://civitai.com/api/download/models/1438461?type=Model&format=SafeTensor&token=6d5979eca3c585f9a91dcd83ded3f3a6\"\n",
        "!wget -O /content/Fooocus/models/loras/GymUniform.safetensors \"https://civitai.com/api/download/models/1205178?type=Model&format=SafeTensor&token=6d5979eca3c585f9a91dcd83ded3f3a6\"\n",
        "!wget -O /content/Fooocus/models/loras/.safetensors \"&token=6d5979eca3c585f9a91dcd83ded3f3a6\""
      ],
      "metadata": {
        "id": "-AHhqSqzBqQc"
      },
      "execution_count": null,
      "outputs": []
    },
    {
      "cell_type": "code",
      "source": [
        "# Concept\n",
        "!wget -O /content/Fooocus/models/loras/HusbandAndWifePregnant.safetensors \"https://civitai.com/api/download/models/1698137?type=Model&format=SafeTensor&token=6d5979eca3c585f9a91dcd83ded3f3a6\"\n",
        "!wget -O /content/Fooocus/models/loras/LightingCigarette.safetensors \"https://civitai.com/api/download/models/1874325?type=Model&format=SafeTensor&token=6d5979eca3c585f9a91dcd83ded3f3a6\"\n",
        "!wget -O /content/Fooocus/models/loras/IncomingPockyKiss.safetensors \"https://civitai.com/api/download/models/1762096?type=Model&format=SafeTensor&token=6d5979eca3c585f9a91dcd83ded3f3a6\"\n",
        "!wget -O /content/Fooocus/models/loras/MoeMoeKyun.safetensors \"https://civitai.com/api/download/models/1130919?type=Model&format=SafeTensor&token=6d5979eca3c585f9a91dcd83ded3f3a6\"\n",
        "!wget -O /content/Fooocus/models/loras/LapPillow.safetensors \"https://civitai.com/api/download/models/1551883?type=Model&format=SafeTensor&token=6d5979eca3c585f9a91dcd83ded3f3a6\"\n",
        "!wget -O /content/Fooocus/models/loras/LeaningOnPersonSide-By-Side.safetensors \"https://civitai.com/api/download/models/1547960?type=Model&format=SafeTensor&token=6d5979eca3c585f9a91dcd83ded3f3a6\"\n",
        "!wget -O /content/Fooocus/models/loras/AnimeFeet.safetensors \"https://civitai.com/api/download/models/1277962?type=Model&format=SafeTensor&token=6d5979eca3c585f9a91dcd83ded3f3a6\"\n",
        "!wget -O /content/Fooocus/models/loras/PantyPullUndressingFromBehind.safetensors \"https://civitai.com/api/download/models/1976993?type=Model&format=SafeTensor&token=6d5979eca3c585f9a91dcd83ded3f3a6\"\n",
        "!wget -O /content/Fooocus/models/loras/PussySandwitch.safetensors \"https://civitai.com/api/download/models/1693313?type=Model&format=SafeTensor&token=6d5979eca3c585f9a91dcd83ded3f3a6\"\n",
        "!wget -O /content/Fooocus/models/loras/BetterDetailedPussyandAnus.safetensors \"https://civitai.com/api/download/models/1785482?type=Model&format=SafeTensor&token=6d5979eca3c585f9a91dcd83ded3f3a6\"\n",
        "!wget -O /content/Fooocus/models/loras/.safetensors \"&token=6d5979eca3c585f9a91dcd83ded3f3a6\"\n",
        "!wget -O /content/Fooocus/models/loras/.safetensors \"&token=6d5979eca3c585f9a91dcd83ded3f3a6\"\n",
        "!wget -O /content/Fooocus/models/loras/.safetensors \"&token=6d5979eca3c585f9a91dcd83ded3f3a6\"\n",
        "!wget -O /content/Fooocus/models/loras/.safetensors \"&token=6d5979eca3c585f9a91dcd83ded3f3a6\"\n",
        "!wget -O /content/Fooocus/models/loras/.safetensors \"&token=6d5979eca3c585f9a91dcd83ded3f3a6\""
      ],
      "metadata": {
        "id": "GUkxbkx-B5Te"
      },
      "execution_count": null,
      "outputs": []
    },
    {
      "cell_type": "code",
      "source": [
        "# Style\n",
        "!wget -O /content/Fooocus/models/loras/AnimeFigureNendroidStyle.safetensors \"https://civitai.com/api/download/models/1025465?type=Model&format=SafeTensor&token=6d5979eca3c585f9a91dcd83ded3f3a6\"\n",
        "!wget -O /content/Fooocus/models/loras/LineArtStyle.safetensors \"https://civitai.com/api/download/models/1224875?type=Model&format=SafeTensor&token=6d5979eca3c585f9a91dcd83ded3f3a6\"\n",
        "!wget -O /content/Fooocus/models/loras/T1kosewadStyle.safetensors \"https://civitai.com/api/download/models/1796684?type=Model&format=SafeTensor&token=6d5979eca3c585f9a91dcd83ded3f3a6\"\n",
        "!wget -O /content/Fooocus/models/loras/MangamasterStyle.safetensors \"https://civitai.com/api/download/models/1168742?type=Model&format=SafeTensor&token=6d5979eca3c585f9a91dcd83ded3f3a6\"\n",
        "!wget -O /content/Fooocus/models/loras/AnimePosterStyle.safetensors \"https://civitai.com/api/download/models/972368?type=Model&format=SafeTensor&token=6d5979eca3c585f9a91dcd83ded3f3a6\"\n",
        "!wget -O /content/Fooocus/models/loras/HLStyleWSSKXAestheticBloom.safetensors \"https://civitai.com/api/download/models/1261280?type=Model&format=SafeTensor&token=6d5979eca3c585f9a91dcd83ded3f3a6\"\n",
        "!wget -O /content/Fooocus/models/loras/STYLESGENillust0_2v.safetensors \"https://civitai.com/api/download/models/1099179?type=Model&format=SafeTensor&token=6d5979eca3c585f9a91dcd83ded3f3a6\"\n",
        "!wget -O /content/Fooocus/models/loras/Haraid21ShiiroStyles.safetensors \"https://civitai.com/api/download/models/1436066?type=Model&format=SafeTensor&token=6d5979eca3c585f9a91dcd83ded3f3a6\"\n",
        "!wget -O /content/Fooocus/models/loras/ZenlessZoneZeroShiiroStyles.safetensors \"https://civitai.com/api/download/models/1579846?type=Model&format=SafeTensor&token=6d5979eca3c585f9a91dcd83ded3f3a6\"\n",
        "!wget -O /content/Fooocus/models/loras/Aosiai123ShiiroStyles.safetensors \"https://civitai.com/api/download/models/1520880?type=Model&format=SafeTensor&token=6d5979eca3c585f9a91dcd83ded3f3a6\"\n",
        "!wget -O /content/Fooocus/models/loras/.safetensors \"&token=6d5979eca3c585f9a91dcd83ded3f3a6\"\n",
        "!wget -O /content/Fooocus/models/loras/.safetensors \"&token=6d5979eca3c585f9a91dcd83ded3f3a6\""
      ],
      "metadata": {
        "id": "fxklDXZbnpoh"
      },
      "execution_count": null,
      "outputs": []
    },
    {
      "cell_type": "code",
      "source": [
        "# Tool\n",
        "!wget -O /content/Fooocus/models/loras/Above_BelowAngleSlider.safetensors \"https://civitai.com/api/download/models/1331815?type=Model&format=SafeTensor&token=6d5979eca3c585f9a91dcd83ded3f3a6\""
      ],
      "metadata": {
        "id": "GMuEPlJcp_1t"
      },
      "execution_count": null,
      "outputs": []
    },
    {
      "cell_type": "code",
      "source": [
        "# Poses\n",
        "!wget -O /content/Fooocus/models/loras/DynamicPosesSlider.safetensors \"https://civitai.com/api/download/models/1607510?type=Model&format=SafeTensor&token=6d5979eca3c585f9a91dcd83ded3f3a6\"\n",
        "!wget -O /content/Fooocus/models/loras/MaruchanAkaiKitsuneUdon.safetensors \"https://civitai.com/api/download/models/1429662?type=Model&format=SafeTensor&token=6d5979eca3c585f9a91dcd83ded3f3a6\"\n",
        "!wget -O /content/Fooocus/models/loras/BandagedArm.safetensors \"https://civitai.com/api/download/models/1863701?type=Model&format=SafeTensor&token=6d5979eca3c585f9a91dcd83ded3f3a6\"\n",
        "!wget -O /content/Fooocus/models/loras/FanSpeaking.safetensors \"https://civitai.com/api/download/models/1935308?type=Model&format=SafeTensor&token=6d5979eca3c585f9a91dcd83ded3f3a6\"\n",
        "!wget -O /content/Fooocus/models/loras/WaterMasturbation.safetensors \"https://civitai.com/api/download/models/2018081?type=Model&format=SafeTensor&token=6d5979eca3c585f9a91dcd83ded3f3a6\"\n",
        "!wget -O /content/Fooocus/models/loras/LiftingDress.safetensors \"https://civitai.com/api/download/models/1612228?type=Model&format=SafeTensor&token=6d5979eca3c585f9a91dcd83ded3f3a6\"\n",
        "!wget -O /content/Fooocus/models/loras/HeartArms.safetensors \"https://civitai.com/api/download/models/1604366?type=Model&format=SafeTensor&token=6d5979eca3c585f9a91dcd83ded3f3a6\"\n",
        "!wget -O /content/Fooocus/models/loras/WaterFight.safetensors \"https://civitai.com/api/download/models/1912986?type=Model&format=SafeTensor&token=6d5979eca3c585f9a91dcd83ded3f3a6\"\n",
        "!wget -O /content/Fooocus/models/loras/Akanbe.safetensors \"https://civitai.com/api/download/models/946088?type=Model&format=SafeTensor&token=6d5979eca3c585f9a91dcd83ded3f3a6\"\n",
        "!wget -O /content/Fooocus/models/loras/TuckingHair.safetensors \"https://civitai.com/api/download/models/1778841?type=Model&format=SafeTensor&token=6d5979eca3c585f9a91dcd83ded3f3a6\"\n",
        "!wget -O /content/Fooocus/models/loras/WaterKicking.safetensors \"https://civitai.com/api/download/models/1916698?type=Model&format=SafeTensor&token=6d5979eca3c585f9a91dcd83ded3f3a6\"\n",
        "!wget -O /content/Fooocus/models/loras/POVFellatio+Glansjob.safetensors \"https://civitai.com/api/download/models/1684810?type=Model&format=SafeTensor&token=6d5979eca3c585f9a91dcd83ded3f3a6\"\n",
        "!wget -O /content/Fooocus/models/loras/StompingandSex.safetensors \"https://civitai.com/api/download/models/1880548?type=Model&format=SafeTensor&token=6d5979eca3c585f9a91dcd83ded3f3a6\"\n",
        "!wget -O /content/Fooocus/models/loras/RamenJiro.safetensors \"https://civitai.com/api/download/models/1254792?type=Model&format=SafeTensor&token=6d5979eca3c585f9a91dcd83ded3f3a6\"\n",
        "!wget -O /content/Fooocus/models/loras/JapaneseSquatToiletType1.safetensors \"https://civitai.com/api/download/models/1565334?type=Model&format=SafeTensor&token=6d5979eca3c585f9a91dcd83ded3f3a6\"\n",
        "!wget -O /content/Fooocus/models/loras/Kissonlips.safetensors \"https://civitai.com/api/download/models/1186557?type=Model&format=SafeTensor&token=6d5979eca3c585f9a91dcd83ded3f3a6\"\n",
        "!wget -O /content/Fooocus/models/loras/BunnyRabbitPiece.safetensors \"https://civitai.com/api/download/models/1547356?type=Model&format=SafeTensor&token=6d5979eca3c585f9a91dcd83ded3f3a6\"\n",
        "!wget -O /content/Fooocus/models/loras/OverflowVomitCum.safetensors \"https://civitai.com/api/download/models/1835458?type=Model&format=SafeTensor&token=6d5979eca3c585f9a91dcd83ded3f3a6\"\n",
        "!wget -O /content/Fooocus/models/loras/OneFootinTheWater.safetensors \"https://civitai.com/api/download/models/1476471?type=Model&format=SafeTensor&token=6d5979eca3c585f9a91dcd83ded3f3a6\"\n",
        "!wget -O /content/Fooocus/models/loras/MarriageProposal.safetensors \"https://civitai.com/api/download/models/1762741?type=Model&format=SafeTensor&token=6d5979eca3c585f9a91dcd83ded3f3a6\"\n",
        "!wget -O /content/Fooocus/models/loras/DryingHair.safetensors \"https://civitai.com/api/download/models/1683056?type=Model&format=SafeTensor&token=6d5979eca3c585f9a91dcd83ded3f3a6\"\n",
        "!wget -O /content/Fooocus/models/loras/Seesaw.safetensors \"https://civitai.com/api/download/models/1502924?type=Model&format=SafeTensor&token=6d5979eca3c585f9a91dcd83ded3f3a6\"\n",
        "!wget -O /content/Fooocus/models/loras/SmellingPanties.safetensors \"https://civitai.com/api/download/models/1177307?type=Model&format=SafeTensor&token=6d5979eca3c585f9a91dcd83ded3f3a6\"\n",
        "!wget -O /content/Fooocus/models/loras/MoonlightGreatsword.safetensors \"https://civitai.com/api/download/models/1371003?type=Model&format=SafeTensor&token=6d5979eca3c585f9a91dcd83ded3f3a6\"\n",
        "!wget -O /content/Fooocus/models/loras/HeadLockSex.safetensors \"https://civitai.com/api/download/models/1855459?type=Model&format=SafeTensor&token=6d5979eca3c585f9a91dcd83ded3f3a6\"\n",
        "!wget -O /content/Fooocus/models/loras/GroupSex.safetensors \"https://civitai.com/api/download/models/1987286?type=Model&format=SafeTensor&token=6d5979eca3c585f9a91dcd83ded3f3a6\"\n",
        "!wget -O /content/Fooocus/models/loras/DoorChain.safetensors \"https://civitai.com/api/download/models/1403455?type=Model&format=SafeTensor&token=6d5979eca3c585f9a91dcd83ded3f3a6\"\n",
        "!wget -O /content/Fooocus/models/loras/PovCowgirlLookingDown.safetensors \"https://civitai.com/api/download/models/2003586?type=Model&format=SafeTensor&token=6d5979eca3c585f9a91dcd83ded3f3a6\"\n",
        "!wget -O /content/Fooocus/models/loras/土下座DogezaLyCoris.safetensors \"https://civitai.com/api/download/models/1225761?type=Model&format=SafeTensor&token=6d5979eca3c585f9a91dcd83ded3f3a6\"\n",
        "!wget -O /content/Fooocus/models/loras/PantyPullStandingOnTheOneLegLyCoris.safetensors \"https://civitai.com/api/download/models/1399516?type=Model&format=SafeTensor&token=6d5979eca3c585f9a91dcd83ded3f3a6\"\n",
        "!wget -O /content/Fooocus/models/loras/SkirtTug.safetensors \"https://civitai.com/api/download/models/1151574?type=Model&format=SafeTensor&token=6d5979eca3c585f9a91dcd83ded3f3a6\"\n",
        "!wget -O /content/Fooocus/models/loras/HoshinoAiPose.safetensors \"https://civitai.com/api/download/models/1411818?type=Model&format=SafeTensor&token=6d5979eca3c585f9a91dcd83ded3f3a6\"\n",
        "!wget -O /content/Fooocus/models/loras/DrinkingBottle.safetensors \"https://civitai.com/api/download/models/1109772?type=Model&format=SafeTensor&token=6d5979eca3c585f9a91dcd83ded3f3a6\"\n",
        "!wget -O /content/Fooocus/models/loras/Crouching.safetensors \"https://civitai.com/api/download/models/1168677?type=Model&format=SafeTensor&token=6d5979eca3c585f9a91dcd83ded3f3a6\"\n",
        "!wget -O /content/Fooocus/models/loras/Megaphone.safetensors \"https://civitai.com/api/download/models/1197483?type=Model&format=SafeTensor&token=6d5979eca3c585f9a91dcd83ded3f3a6\"\n",
        "!wget -O /content/Fooocus/models/loras/BattoujutsuStance.safetensors \"https://civitai.com/api/download/models/1314402?type=Model&format=SafeTensor&token=6d5979eca3c585f9a91dcd83ded3f3a6\"\n",
        "!wget -O /content/Fooocus/models/loras/RabbitPose.safetensors \"https://civitai.com/api/download/models/1778842?type=Model&format=SafeTensor&token=6d5979eca3c585f9a91dcd83ded3f3a6\"\n",
        "!wget -O /content/Fooocus/models/loras/LookingBack,ReachingTowardsViewerPoses.safetensors \"https://civitai.com/api/download/models/1336173?type=Model&format=SafeTensor&token=6d5979eca3c585f9a91dcd83ded3f3a6\"\n",
        "!wget -O /content/Fooocus/models/loras/CenterAxisRelockStancePoses.safetensors \"https://civitai.com/api/download/models/1360770?type=Model&format=SafeTensor&token=6d5979eca3c585f9a91dcd83ded3f3a6\"\n",
        "!wget -O /content/Fooocus/models/loras/HeartHandsDuoPoses.safetensors \"https://civitai.com/api/download/models/1479281?type=Model&format=SafeTensor&token=6d5979eca3c585f9a91dcd83ded3f3a6\"\n",
        "!wget -O /content/Fooocus/models/loras/GatotsuStancePoses.safetensors \"https://civitai.com/api/download/models/1307087?type=Model&format=SafeTensor&token=6d5979eca3c585f9a91dcd83ded3f3a6\"\n",
        "!wget -O /content/Fooocus/models/loras/SwordGuardStancePoses.safetensors \"https://civitai.com/api/download/models/1336738?type=Model&format=SafeTensor&token=6d5979eca3c585f9a91dcd83ded3f3a6\""
      ],
      "metadata": {
        "id": "CVbDvM0UoL2b"
      },
      "execution_count": null,
      "outputs": []
    },
    {
      "cell_type": "code",
      "source": [
        "# Background\n",
        "!wget -O /content/Fooocus/models/loras/TraininBackground.safetensors \"https://civitai.com/api/download/models/1820808?type=Model&format=SafeTensor&token=6d5979eca3c585f9a91dcd83ded3f3a6\"\n",
        "!wget -O /content/Fooocus/models/loras/TrainInteriorViewType1.safetensors \"https://civitai.com/api/download/models/1390172?type=Model&format=SafeTensor&token=6d5979eca3c585f9a91dcd83ded3f3a6\"\n",
        "!wget -O /content/Fooocus/models/loras/SaltFlatsMirror.safetensors \"https://civitai.com/api/download/models/1415141?type=Model&format=SafeTensor&token=6d5979eca3c585f9a91dcd83ded3f3a6\"\n",
        "!wget -O /content/Fooocus/models/loras/SchoolRooftop.safetensors \"https://civitai.com/api/download/models/1538386?type=Model&format=SafeTensor&token=6d5979eca3c585f9a91dcd83ded3f3a6\"\n",
        "!wget -O /content/Fooocus/models/loras/Backstage.safetensors \"https://civitai.com/api/download/models/1487364?type=Model&format=SafeTensor&token=6d5979eca3c585f9a91dcd83ded3f3a6\"\n",
        "!wget -O /content/Fooocus/models/loras/SchoolPoolV2.safetensors \"https://civitai.com/api/download/models/1815788?type=Model&format=SafeTensor&token=6d5979eca3c585f9a91dcd83ded3f3a6\"\n",
        "!wget -O /content/Fooocus/models/loras/Schoolyard.safetensors \"https://civitai.com/api/download/models/1556740?type=Model&format=SafeTensor&token=6d5979eca3c585f9a91dcd83ded3f3a6\"\n",
        "!wget -O /content/Fooocus/models/loras/TrainInteriorViewType2.safetensors \"https://civitai.com/api/download/models/1412559?type=Model&format=SafeTensor&token=6d5979eca3c585f9a91dcd83ded3f3a6\"\n",
        "!wget -O /content/Fooocus/models/loras/WashingBodySceneinthemirror.safetensors \"https://civitai.com/api/download/models/1476626?type=Model&format=SafeTensor&token=6d5979eca3c585f9a91dcd83ded3f3a6\""
      ],
      "metadata": {
        "id": "Ez_MAOd76c7G"
      },
      "execution_count": null,
      "outputs": []
    },
    {
      "cell_type": "code",
      "source": [
        "# Random Character\n",
        "!wget -O /content/Fooocus/models/loras/MahiroOyama.safetensors \"https://civitai.com/api/download/models/2000635?type=Model&format=SafeTensor&token=6d5979eca3c585f9a91dcd83ded3f3a6\"\n",
        "!wget -O /content/Fooocus/models/loras/SayuOgiwara.safetensors \"https://civitai.com/api/download/models/1982686?type=Model&format=SafeTensor&token=6d5979eca3c585f9a91dcd83ded3f3a6\"\n",
        "!wget -O /content/Fooocus/models/loras/KotegawaChisa.safetensors \"https://civitai.com/api/download/models/1573986?type=Model&format=SafeTensor&token=6d5979eca3c585f9a91dcd83ded3f3a6\"\n",
        "!wget -O /content/Fooocus/models/loras/ChitandaEru.safetensors \"https://civitai.com/api/download/models/1897534?type=Model&format=SafeTensor&token=6d5979eca3c585f9a91dcd83ded3f3a6\"\n",
        "!wget -O /content/Fooocus/models/loras/NagisaFurukawa.safetensors \"https://civitai.com/api/download/models/1900577?type=Model&format=SafeTensor&token=6d5979eca3c585f9a91dcd83ded3f3a6\"\n",
        "!wget -O /content/Fooocus/models/loras/VioletEvergarden.safetensors \"https://civitai.com/api/download/models/1942342?type=Model&format=SafeTensor&token=6d5979eca3c585f9a91dcd83ded3f3a6\""
      ],
      "metadata": {
        "id": "2LzDguZv6u8-"
      },
      "execution_count": null,
      "outputs": []
    }
  ],
  "metadata": {
    "accelerator": "GPU",
    "colab": {
      "gpuType": "T4",
      "provenance": [],
      "include_colab_link": true
    },
    "kernelspec": {
      "display_name": "Python 3",
      "name": "python3"
    },
    "language_info": {
      "name": "python"
    }
  },
  "nbformat": 4,
  "nbformat_minor": 0
}