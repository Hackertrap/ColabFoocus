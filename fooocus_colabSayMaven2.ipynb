{
  "cells": [
    {
      "cell_type": "markdown",
      "metadata": {
        "id": "view-in-github",
        "colab_type": "text"
      },
      "source": [
        "<a href=\"https://colab.research.google.com/github/Hackertrap/ColabFoocus/blob/main/fooocus_colabSayMaven2.ipynb\" target=\"_parent\"><img src=\"https://colab.research.google.com/assets/colab-badge.svg\" alt=\"Open In Colab\"/></a>"
      ]
    },
    {
      "cell_type": "code",
      "execution_count": null,
      "metadata": {
        "id": "VjYy0F2gZIPR"
      },
      "outputs": [],
      "source": [
        "!pip install pygit2==1.15.1\n",
        "%cd /content\n",
        "!git clone https://github.com/lllyasviel/Fooocus.git\n",
        "%cd /content/Fooocus\n",
        "!python entry_with_update.py --share --always-high-vram\n"
      ]
    },
    {
      "cell_type": "code",
      "source": [
        "!wget -O /content/Fooocus/models/checkpoints/illustriousXLV2.safetensors \"https://civitai.com/api/download/models/1546777?type=Model&format=SafeTensor&size=pruned&fp=fp16&token=6d5979eca3c585f9a91dcd83ded3f3a6\""
      ],
      "metadata": {
        "id": "h0_T8pVFKvjB"
      },
      "execution_count": null,
      "outputs": []
    },
    {
      "cell_type": "code",
      "source": [
        "!wget -O /content/Fooocus/models/checkpoints/prefectiousXLNSFW.safetensors \"https://civitai.com/api/download/models/1111838?type=Model&format=SafeTensor&size=pruned&fp=fp16&token=6d5979eca3c585f9a91dcd83ded3f3a6\""
      ],
      "metadata": {
        "id": "GWAB36fmKxo7"
      },
      "execution_count": null,
      "outputs": []
    },
    {
      "cell_type": "code",
      "source": [
        "!wget -O /content/Fooocus/models/checkpoints/PrefectIllustriousXLV1_5.safetensors \"https://civitai.com/api/download/models/1761560?type=Model&format=SafeTensor&size=pruned&fp=fp16&token=6d5979eca3c585f9a91dcd83ded3f3a6\""
      ],
      "metadata": {
        "id": "qKKD_UXEK0-S"
      },
      "execution_count": null,
      "outputs": []
    },
    {
      "cell_type": "code",
      "source": [
        "!wget -O /content/Fooocus/models/checkpoints/NoobXLEpsilon1_1.safetensors \"https://civitai.com/api/download/models/1116447?type=Model&format=SafeTensor&size=full&fp=bf16&token=6d5979eca3c585f9a91dcd83ded3f3a6\""
      ],
      "metadata": {
        "id": "KCCLnVipnPYg"
      },
      "execution_count": null,
      "outputs": []
    },
    {
      "cell_type": "code",
      "source": [
        "!wget -O /content/Fooocus/models/checkpoints/PonyDiffV6XL.safetensors \"https://civitai.com/api/download/models/290640?type=Model&format=SafeTensor&size=pruned&fp=fp16&token=6d5979eca3c585f9a91dcd83ded3f3a6\""
      ],
      "metadata": {
        "id": "mAHFmJ-wZ4yH"
      },
      "execution_count": null,
      "outputs": []
    },
    {
      "cell_type": "code",
      "source": [
        "!wget -O /content/Fooocus/models/checkpoints/WAIiLLNSFWSDXLV13.safetensors \"https://civitai.com/api/download/models/1612720?type=Model&format=SafeTensor&size=pruned&fp=fp16&token=6d5979eca3c585f9a91dcd83ded3f3a6\""
      ],
      "metadata": {
        "id": "Jkqi_Xmf1gAT"
      },
      "execution_count": null,
      "outputs": []
    },
    {
      "cell_type": "code",
      "source": [
        "!wget -O /content/Fooocus/models/vae/SDXLVAE.safetensors \"https://civitai.com/api/download/models/333245?type=Model&format=SafeTensor&token=6d5979eca3c585f9a91dcd83ded3f3a6\""
      ],
      "metadata": {
        "id": "Rhu5icIraGi6"
      },
      "execution_count": null,
      "outputs": []
    },
    {
      "cell_type": "code",
      "source": [
        "!wget -O /content/Fooocus/models/vae/PonyDiffV6XLVAE.safetensors \"https://civitai.com/api/download/models/290640?type=VAE&format=SafeTensor&token=6d5979eca3c585f9a91dcd83ded3f3a6\""
      ],
      "metadata": {
        "id": "tcW1eVbvaJ_8"
      },
      "execution_count": null,
      "outputs": []
    },
    {
      "cell_type": "code",
      "source": [
        "!wget -O /content/Fooocus/models/loras/OtotsuYume.safetensors \"https://civitai.com/api/download/models/1886687?type=Model&format=SafeTensor&token=6d5979eca3c585f9a91dcd83ded3f3a6\""
      ],
      "metadata": {
        "id": "7apwucIAUAO6"
      },
      "execution_count": null,
      "outputs": []
    },
    {
      "cell_type": "code",
      "source": [
        "!wget -O /content/Fooocus/models/loras/MareSEphemeral.safetensors \"https://civitai.com/api/download/models/1888140?type=Model&format=SafeTensor&token=6d5979eca3c585f9a91dcd83ded3f3a6\""
      ],
      "metadata": {
        "id": "dcBi6mTUUqfm"
      },
      "execution_count": null,
      "outputs": []
    },
    {
      "cell_type": "code",
      "source": [
        "!wget -O /content/Fooocus/models/loras/MinahoshiAsuho.safetensors \"https://civitai.com/api/download/models/1612179?type=Model&format=SafeTensor&token=6d5979eca3c585f9a91dcd83ded3f3a6\""
      ],
      "metadata": {
        "id": "HRgz-0EbXX3H"
      },
      "execution_count": null,
      "outputs": []
    },
    {
      "cell_type": "code",
      "source": [
        "!wget -O /content/Fooocus/models/loras/HisakakiKomomo.safetensors \"https://civitai.com/api/download/models/1629958?type=Model&format=SafeTensor&token=6d5979eca3c585f9a91dcd83ded3f3a6\""
      ],
      "metadata": {
        "id": "GrBLjiXOXX5k"
      },
      "execution_count": null,
      "outputs": []
    },
    {
      "cell_type": "code",
      "source": [
        "!wget -O /content/Fooocus/models/loras/HisakakiKosame.safetensors \"https://civitai.com/api/download/models/1653549?type=Model&format=SafeTensor&token=6d5979eca3c585f9a91dcd83ded3f3a6\""
      ],
      "metadata": {
        "id": "GC3VnH26XX8A"
      },
      "execution_count": null,
      "outputs": []
    },
    {
      "cell_type": "code",
      "source": [
        "!wget -O /content/Fooocus/models/loras/AoiIsuzu.safetensors \"https://civitai.com/api/download/models/1629810?type=Model&format=SafeTensor&token=6d5979eca3c585f9a91dcd83ded3f3a6\""
      ],
      "metadata": {
        "id": "a-sOyDgzYBvN"
      },
      "execution_count": null,
      "outputs": []
    },
    {
      "cell_type": "code",
      "source": [
        "!wget -O /content/Fooocus/models/loras/YasumiItsuki.safetensors \"https://civitai.com/api/download/models/1916536?type=Model&format=SafeTensor&token=6d5979eca3c585f9a91dcd83ded3f3a6\""
      ],
      "metadata": {
        "id": "ed_0W_UmYBxi"
      },
      "execution_count": null,
      "outputs": []
    },
    {
      "cell_type": "code",
      "source": [
        "!wget -O /content/Fooocus/models/loras/NaruseShiroha.safetensors \"https://civitai.com/api/download/models/1652580?type=Model&format=SafeTensor&token=6d5979eca3c585f9a91dcd83ded3f3a6\""
      ],
      "metadata": {
        "id": "rVryHNJQXYAd"
      },
      "execution_count": null,
      "outputs": []
    },
    {
      "cell_type": "code",
      "source": [
        "!wget -O /content/Fooocus/models/loras/NikaidoShinku.safetensors \"https://civitai.com/api/download/models/1920786?type=Model&format=SafeTensor&token=6d5979eca3c585f9a91dcd83ded3f3a6\""
      ],
      "metadata": {
        "id": "YFEbZvbJUqiM"
      },
      "execution_count": null,
      "outputs": []
    },
    {
      "cell_type": "code",
      "source": [
        "!wget -O /content/Fooocus/models/loras/NikaidoSora.safetensors \"https://civitai.com/api/download/models/1942905?type=Model&format=SafeTensor&token=6d5979eca3c585f9a91dcd83ded3f3a6\""
      ],
      "metadata": {
        "id": "fkUO0FhMUqkx"
      },
      "execution_count": null,
      "outputs": []
    },
    {
      "cell_type": "code",
      "source": [
        "!wget -O /content/Fooocus/models/loras/Shirobana.safetensors \"https://civitai.com/api/download/models/1840619?type=Model&format=SafeTensor&token=6d5979eca3c585f9a91dcd83ded3f3a6\""
      ],
      "metadata": {
        "id": "56MuVdv2UqnA"
      },
      "execution_count": null,
      "outputs": []
    },
    {
      "cell_type": "code",
      "source": [
        "!wget -O /content/Fooocus/models/loras/NatsusakiYomi.safetensors \"https://civitai.com/api/download/models/1893700?type=Model&format=SafeTensor&token=6d5979eca3c585f9a91dcd83ded3f3a6\""
      ],
      "metadata": {
        "id": "_gPjhuxDUqpV"
      },
      "execution_count": null,
      "outputs": []
    },
    {
      "cell_type": "code",
      "source": [
        "!wget -O /content/Fooocus/models/loras/ShirahaYuki.safetensors \"https://civitai.com/api/download/models/1888251?type=Model&format=SafeTensor&token=6d5979eca3c585f9a91dcd83ded3f3a6\""
      ],
      "metadata": {
        "id": "myxELbPsUqrg"
      },
      "execution_count": null,
      "outputs": []
    },
    {
      "cell_type": "code",
      "source": [
        "!wget -O /content/Fooocus/models/loras/YukimuraChieri.safetensors \"https://civitai.com/api/download/models/1880936?type=Model&format=SafeTensor&token=6d5979eca3c585f9a91dcd83ded3f3a6\""
      ],
      "metadata": {
        "id": "RJSsVi0sUqtw"
      },
      "execution_count": null,
      "outputs": []
    },
    {
      "cell_type": "code",
      "source": [
        "!wget -O /content/Fooocus/models/loras/TsukimoriRin.safetensors \"https://civitai.com/api/download/models/1871403?type=Model&format=SafeTensor&token=6d5979eca3c585f9a91dcd83ded3f3a6\""
      ],
      "metadata": {
        "id": "5s9Myt3SUrE3"
      },
      "execution_count": null,
      "outputs": []
    },
    {
      "cell_type": "code",
      "source": [
        "!wget -O /content/Fooocus/models/loras/Otohime.safetensors \"https://civitai.com/api/download/models/1840463?type=Model&format=SafeTensor&token=6d5979eca3c585f9a91dcd83ded3f3a6\""
      ],
      "metadata": {
        "id": "it_xtbgJUrHa"
      },
      "execution_count": null,
      "outputs": []
    },
    {
      "cell_type": "code",
      "source": [
        "!wget -O /content/Fooocus/models/loras/KuroSakuraMoyu.safetensors \"https://civitai.com/api/download/models/1661857?type=Model&format=SafeTensor&token=6d5979eca3c585f9a91dcd83ded3f3a6\""
      ],
      "metadata": {
        "id": "gY7QXwljUrJn"
      },
      "execution_count": null,
      "outputs": []
    },
    {
      "cell_type": "code",
      "source": [
        "!wget -O /content/Fooocus/models/loras/YuukiAstralAir.safetensors \"https://civitai.com/api/download/models/1648354?type=Model&format=SafeTensor&token=6d5979eca3c585f9a91dcd83ded3f3a6\""
      ],
      "metadata": {
        "id": "mThjX9s3UrL5"
      },
      "execution_count": null,
      "outputs": []
    }
  ],
  "metadata": {
    "accelerator": "GPU",
    "colab": {
      "gpuType": "T4",
      "provenance": [],
      "include_colab_link": true
    },
    "kernelspec": {
      "display_name": "Python 3",
      "name": "python3"
    },
    "language_info": {
      "name": "python"
    }
  },
  "nbformat": 4,
  "nbformat_minor": 0
}