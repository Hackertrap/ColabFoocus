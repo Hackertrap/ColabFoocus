{
  "cells": [
    {
      "cell_type": "markdown",
      "metadata": {
        "id": "view-in-github",
        "colab_type": "text"
      },
      "source": [
        "<a href=\"https://colab.research.google.com/github/Hackertrap/ColabFoocus/blob/main/fooocus_colabSayMaven3_aria2c.ipynb\" target=\"_parent\"><img src=\"https://colab.research.google.com/assets/colab-badge.svg\" alt=\"Open In Colab\"/></a>"
      ]
    },
    {
      "cell_type": "code",
      "execution_count": null,
      "metadata": {
        "id": "a4h9PnrNJkg6",
        "collapsed": true
      },
      "outputs": [],
      "source": [
        "!apt install -y aria2"
      ]
    },
    {
      "cell_type": "code",
      "execution_count": null,
      "metadata": {
        "id": "VjYy0F2gZIPR"
      },
      "outputs": [],
      "source": [
        "!pip install pygit2==1.15.1\n",
        "%cd /content\n",
        "!git clone https://github.com/Hackertrap/Fooocus.git\n",
        "%cd /content/Fooocus\n",
        "!python entry_with_update.py --share --always-high-vram\n"
      ]
    },
    {
      "cell_type": "code",
      "execution_count": null,
      "metadata": {
        "id": "GWAB36fmKxo7",
        "collapsed": true
      },
      "outputs": [],
      "source": [
        "!aria2c -x 16 -s 16 -d /content/Fooocus/models/checkpoints -o prefectiousXLNSFW.safetensors \"https://civitai.com/api/download/models/1111838?type=Model&format=SafeTensor&size=pruned&fp=fp16&token=6d5979eca3c585f9a91dcd83ded3f3a6\"\n",
        "!aria2c -x 16 -s 16 -d /content/Fooocus/models/checkpoints -o PrefectIllustriousXLV1_5.safetensors \"https://civitai.com/api/download/models/1761560?type=Model&format=SafeTensor&size=pruned&fp=fp16&token=6d5979eca3c585f9a91dcd83ded3f3a6\"\n",
        "!aria2c -x 16 -s 16 -d /content/Fooocus/models/checkpoints -o PlantMilk-FLAX.safetensors \"https://civitai.com/api/download/models/1331188?type=Model&format=SafeTensor&size=pruned&fp=fp16&token=6d5979eca3c585f9a91dcd83ded3f3a6\""
      ]
    },
    {
      "cell_type": "code",
      "execution_count": null,
      "metadata": {
        "id": "KCCLnVipnPYg"
      },
      "outputs": [],
      "source": [
        "!aria2c -x 16 -s 16 -d /content/Fooocus/models/checkpoints -o NoobXLEpsilon1_1.safetensors \"https://civitai.com/api/download/models/1116447?type=Model&format=SafeTensor&size=full&fp=bf16&token=6d5979eca3c585f9a91dcd83ded3f3a6\"\n",
        "!aria2c -x 16 -s 16 -d /content/Fooocus/models/checkpoints -o RaehoshiIllustXLV5_1.safetensors \"https://civitai.com/api/download/models/1912640?type=Model&format=SafeTensor&size=pruned&fp=fp16&token=6d5979eca3c585f9a91dcd83ded3f3a6\""
      ]
    },
    {
      "cell_type": "code",
      "execution_count": null,
      "metadata": {
        "id": "Jkqi_Xmf1gAT"
      },
      "outputs": [],
      "source": [
        "!aria2c -x 16 -s 16 -d /content/Fooocus/models/checkpoints -o WAIiLLNSFWSDXLV13.safetensors \"https://civitai.com/api/download/models/1612720?type=Model&format=SafeTensor&size=pruned&fp=fp16&token=6d5979eca3c585f9a91dcd83ded3f3a6\"\n",
        "!aria2c -x 16 -s 16 -d /content/Fooocus/models/checkpoints -o WAIiLLNSFWSDXLV15.safetensors \"https://civitai.com/api/download/models/2167369?type=Model&format=SafeTensor&size=pruned&fp=fp16&token=6d5979eca3c585f9a91dcd83ded3f3a6\""
      ]
    },
    {
      "cell_type": "code",
      "execution_count": null,
      "metadata": {
        "id": "PZEwaQFlK3mO"
      },
      "outputs": [],
      "source": [
        "!aria2c -x 16 -s 16 -d /content/Fooocus/models/checkpoints -o GrayColor.safetensors \"https://civitai.com/api/download/models/1986688?type=Model&format=SafeTensor&size=full&fp=fp16&token=6d5979eca3c585f9a91dcd83ded3f3a6\"\n",
        "!aria2c -x 16 -s 16 -d /content/Fooocus/models/checkpoints -o IllustriousNXT.safetensors \"https://civitai.com/api/download/models/1844167?type=Model&format=SafeTensor&size=full&fp=fp16&token=6d5979eca3c585f9a91dcd83ded3f3a6\""
      ]
    },
    {
      "cell_type": "code",
      "execution_count": null,
      "metadata": {
        "id": "OZ_3laEcK35z"
      },
      "outputs": [],
      "source": [
        "!aria2c -x 16 -s 16 -d /content/Fooocus/models/checkpoints -o TanemoMix.safetensors \"https://civitai.com/api/download/models/2036473?type=Model&format=SafeTensor&size=pruned&fp=fp16&token=6d5979eca3c585f9a91dcd83ded3f3a6\"\n",
        "!aria2c -x 16 -s 16 -d /content/Fooocus/models/checkpoints -o IllusioN-R.safetensors \"https://civitai.com/api/download/models/2025965?type=Model&format=SafeTensor&size=pruned&fp=fp16&token=6d5979eca3c585f9a91dcd83ded3f3a6\""
      ]
    },
    {
      "cell_type": "code",
      "execution_count": null,
      "metadata": {
        "id": "zTJDj0g5K4YS"
      },
      "outputs": [],
      "source": [
        "!aria2c -x 16 -s 16 -d /content/Fooocus/models/checkpoints -o CatCarrier.safetensors \"https://civitai.com/api/download/models/2012704?type=Model&format=SafeTensor&size=pruned&fp=fp16&token=6d5979eca3c585f9a91dcd83ded3f3a6\"\n",
        "!aria2c -x 16 -s 16 -d /content/Fooocus/models/checkpoints -o IchigoMilk.safetensors \"https://civitai.com/api/download/models/2028018?type=Model&format=SafeTensor&size=pruned&fp=fp16&token=6d5979eca3c585f9a91dcd83ded3f3a6\""
      ]
    },
    {
      "cell_type": "code",
      "execution_count": null,
      "metadata": {
        "id": "sdIJIJa_-IC-"
      },
      "outputs": [],
      "source": [
        "!aria2c -x 16 -s 16 -d /content/Fooocus/models/checkpoints -o SilanceMix.safetensors \"https://civitai.com/api/download/models/2002954?type=Model&format=SafeTensor&size=full&fp=fp16&token=6d5979eca3c585f9a91dcd83ded3f3a6\"\n",
        "!aria2c -x 16 -s 16 -d /content/Fooocus/models/loras -o UnholyDesireMixV5.safetensors \"https://civitai.com/api/download/models/1723898?type=Model&format=SafeTensor&size=pruned&fp=fp16&token=6d5979eca3c585f9a91dcd83ded3f3a6\""
      ]
    },
    {
      "cell_type": "code",
      "execution_count": null,
      "metadata": {
        "id": "Rhu5icIraGi6",
        "collapsed": true
      },
      "outputs": [],
      "source": [
        "# VAE\n",
        "!aria2c -x 16 -s 16 -d /content/Fooocus/models/vae -o SDXLVAE.safetensors \"https://civitai.com/api/download/models/333245?type=Model&format=SafeTensor&token=6d5979eca3c585f9a91dcd83ded3f3a6\"\n",
        "!aria2c -x 16 -s 16 -d /content/Fooocus/models/vae -o XL_VAE_C_G9_5.safetensors \"https://civitai.com/api/download/models/1796277?type=Model&format=SafeTensor&token=6d5979eca3c585f9a91dcd83ded3f3a6\""
      ]
    },
    {
      "cell_type": "code",
      "source": [
        "# Upscale\n",
        "!aria2c -x 16 -s 16 -d /content/Fooocus/models/upscale_models -o Remacri.safetensors \"https://civitai.com/api/download/models/164821?type=Model&format=SafeTensor&token=6d5979eca3c585f9a91dcd83ded3f3a6\""
      ],
      "metadata": {
        "id": "CpSS0XpYxVH7"
      },
      "execution_count": null,
      "outputs": []
    },
    {
      "cell_type": "code",
      "source": [
        "#Embeddings\n",
        "!aria2c -x 16 -s 16 -d /content/Fooocus/models/embeddings -o SmoothPositiveIllus+.safetensors \"https://civitai.com/api/download/models/1470551?type=Model&format=SafeTensor&token=6d5979eca3c585f9a91dcd83ded3f3a6\"\n",
        "!aria2c -x 16 -s 16 -d /content/Fooocus/models/embeddings -o SmoothNegativeIllus.safetensors \"https://civitai.com/api/download/models/1195487?type=Negative&format=Other&token=6d5979eca3c585f9a91dcd83ded3f3a6\""
      ],
      "metadata": {
        "id": "WUpjZ4ElxV9v"
      },
      "execution_count": null,
      "outputs": []
    },
    {
      "cell_type": "code",
      "execution_count": null,
      "metadata": {
        "id": "K5TTtLpWK91z",
        "collapsed": true
      },
      "outputs": [],
      "source": [
        "# Ave Mujica\n",
        "!aria2c -x 16 -s 16 -d /content/Fooocus/models/loras -o TogawaSakiko.safetensors \"https://civitai.com/api/download/models/1435674?type=Model&format=SafeTensor&token=6d5979eca3c585f9a91dcd83ded3f3a6\"\n",
        "!aria2c -x 16 -s 16 -d /content/Fooocus/models/loras -o YutenjiNyamu.safetensors \"https://civitai.com/api/download/models/1475376?type=Model&format=SafeTensor&token=6d5979eca3c585f9a91dcd83ded3f3a6\"\n",
        "!aria2c -x 16 -s 16 -d /content/Fooocus/models/loras -o YahataUmiri.safetensors \"https://civitai.com/api/download/models/1497487?type=Model&format=SafeTensor&token=6d5979eca3c585f9a91dcd83ded3f3a6\"\n",
        "!aria2c -x 16 -s 16 -d /content/Fooocus/models/loras -o WakabaMutsumi.safetensors \"https://civitai.com/api/download/models/1517817?type=Model&format=SafeTensor&token=6d5979eca3c585f9a91dcd83ded3f3a6\"\n",
        "!aria2c -x 16 -s 16 -d /content/Fooocus/models/loras -o MisumiUika.safetensors \"https://civitai.com/api/download/models/1485711?type=Model&format=SafeTensor&token=6d5979eca3c585f9a91dcd83ded3f3a6\"\n",
        "!aria2c -x 16 -s 16 -d /content/Fooocus/models/loras -o SumitaMana.safetensors \"https://civitai.com/api/download/models/1536642?type=Model&format=SafeTensor&token=6d5979eca3c585f9a91dcd83ded3f3a6\""
      ]
    },
    {
      "cell_type": "code",
      "execution_count": null,
      "metadata": {
        "id": "Vij8av3dLsB_",
        "collapsed": true
      },
      "outputs": [],
      "source": [
        "# MyGO!!!!\n",
        "!aria2c -x 16 -s 16 -d /content/Fooocus/models/loras -o NagasakiSoyo.safetensors \"https://civitai.com/api/download/models/1757268?type=Model&format=SafeTensor&token=6d5979eca3c585f9a91dcd83ded3f3a6\"\n",
        "!aria2c -x 16 -s 16 -d /content/Fooocus/models/loras -o ShiinaTaki.safetensors \"https://civitai.com/api/download/models/1670967?type=Model&format=SafeTensor&token=6d5979eca3c585f9a91dcd83ded3f3a6\"\n",
        "!aria2c -x 16 -s 16 -d /content/Fooocus/models/loras -o ChihayaAnon.safetensors \"https://civitai.com/api/download/models/1692854?type=Model&format=SafeTensor&token=6d5979eca3c585f9a91dcd83ded3f3a6\"\n",
        "!aria2c -x 16 -s 16 -d /content/Fooocus/models/loras -o TakamatuTomori.safetensors \"https://civitai.com/api/download/models/1651289?type=Model&format=SafeTensor&token=6d5979eca3c585f9a91dcd83ded3f3a6\"\n",
        "!aria2c -x 16 -s 16 -d /content/Fooocus/models/loras -o KanameRaana.safetensors \"https://civitai.com/api/download/models/2046056?type=Model&format=SafeTensor&token=6d5979eca3c585f9a91dcd83ded3f3a6\""
      ]
    },
    {
      "cell_type": "code",
      "execution_count": null,
      "metadata": {
        "id": "3MSM2150axxO",
        "collapsed": true
      },
      "outputs": [],
      "source": [
        "# Soutsa Model\n",
        "!aria2c -x 16 -s 16 -d /content/Fooocus/models/loras -o MatsubaraKanonSoutsa.safetensors \"https://civitai.com/api/download/models/1853283?type=Model&format=SafeTensor&token=6d5979eca3c585f9a91dcd83ded3f3a6\"\n",
        "!aria2c -x 16 -s 16 -d /content/Fooocus/models/loras -o YamabukiSaayaSoutsa.safetensors \"https://civitai.com/api/download/models/1826126?type=Model&format=SafeTensor&token=6d5979eca3c585f9a91dcd83ded3f3a6\"\n",
        "!aria2c -x 16 -s 16 -d /content/Fooocus/models/loras -o HanazonoTaeSoutsa.safetensors \"https://civitai.com/api/download/models/2005156?type=Model&format=SafeTensor&token=6d5979eca3c585f9a91dcd83ded3f3a6\"\n",
        "!aria2c -x 16 -s 16 -d /content/Fooocus/models/loras -o ToyamaKasumiSoutsa.safetensors \"https://civitai.com/api/download/models/2011281?type=Model&format=SafeTensor&token=6d5979eca3c585f9a91dcd83ded3f3a6\"\n",
        "!aria2c -x 16 -s 16 -d /content/Fooocus/models/loras -o UshigomeRimiSoutsa.safetensors \"https://civitai.com/api/download/models/2019871?type=Model&format=SafeTensor&token=6d5979eca3c585f9a91dcd83ded3f3a6\"\n",
        "!aria2c -x 16 -s 16 -d /content/Fooocus/models/loras -o TakamatsuTomoriSoutsa.safetensors \"https://civitai.com/api/download/models/1952526?type=Model&format=SafeTensor&token=6d5979eca3c585f9a91dcd83ded3f3a6\"\n",
        "!aria2c -x 16 -s 16 -d /content/Fooocus/models/loras -o MaruyamaAyaSoutsa.safetensors \"https://civitai.com/api/download/models/1824587?type=Model&format=SafeTensor&token=6d5979eca3c585f9a91dcd83ded3f3a6\"\n",
        "!aria2c -x 16 -s 16 -d /content/Fooocus/models/loras -o OomuroNadeshikoSoutsa.safetensors \"https://civitai.com/api/download/models/1907749?type=Model&format=SafeTensor&token=6d5979eca3c585f9a91dcd83ded3f3a6\"\n",
        "!aria2c -x 16 -s 16 -d /content/Fooocus/models/loras -o OomuroHanakoSoutsa.safetensors \"https://civitai.com/api/download/models/1903508?type=Model&format=SafeTensor&token=6d5979eca3c585f9a91dcd83ded3f3a6\"\n",
        "!aria2c -x 16 -s 16 -d /content/Fooocus/models/loras -o MisakiTakasakiSoutsa.safetensors \"https://civitai.com/api/download/models/1905974?type=Model&format=SafeTensor&token=6d5979eca3c585f9a91dcd83ded3f3a6\""
      ]
    },
    {
      "cell_type": "code",
      "execution_count": null,
      "metadata": {
        "id": "QBlLCOjBS9Ec"
      },
      "outputs": [],
      "source": [
        "# HelloHappyWorld\n",
        "!aria2c -x 16 -s 16 -d /content/Fooocus/models/loras -o MatsubaraKanon.safetensors \"https://civitai.com/api/download/models/1023038?type=Model&format=SafeTensor&token=6d5979eca3c585f9a91dcd83ded3f3a6\"\n",
        "!aria2c -x 16 -s 16 -d /content/Fooocus/models/loras -o OkusawaMisaki.safetensors \"https://civitai.com/api/download/models/877985?type=Model&format=SafeTensor&token=6d5979eca3c585f9a91dcd83ded3f3a6\"\n",
        "!aria2c -x 16 -s 16 -d /content/Fooocus/models/loras -o TsurumakiKokoro.safetensors \"https://civitai.com/api/download/models/1327000?type=Model&format=SafeTensor&token=6d5979eca3c585f9a91dcd83ded3f3a6\""
      ]
    },
    {
      "cell_type": "code",
      "execution_count": null,
      "metadata": {
        "id": "AR0yp7NynF0X"
      },
      "outputs": [],
      "source": [
        "#PastelPalettes\n",
        "!aria2c -x 16 -s 16 -d /content/Fooocus/models/loras -o MaruyamaAyaNoobAI.safetensors \"https://civitai.com/api/download/models/1647912?type=Model&format=SafeTensor&token=6d5979eca3c585f9a91dcd83ded3f3a6\"\n",
        "!aria2c -x 16 -s 16 -d /content/Fooocus/models/loras -o ShirasagiChisato.safetensors \"https://civitai.com/api/download/models/1931034?type=Model&format=SafeTensor&token=6d5979eca3c585f9a91dcd83ded3f3a6\"\n",
        "!aria2c -x 16 -s 16 -d /content/Fooocus/models/loras -o HikawaHina.safetensors \"https://civitai.com/api/download/models/1919900?type=Model&format=SafeTensor&token=6d5979eca3c585f9a91dcd83ded3f3a6\"\n",
        "!aria2c -x 16 -s 16 -d /content/Fooocus/models/loras -o WakamiyaEve.safetensors \"https://civitai.com/api/download/models/1956559?type=Model&format=SafeTensor&token=6d5979eca3c585f9a91dcd83ded3f3a6\"\n",
        "!aria2c -x 16 -s 16 -d /content/Fooocus/models/loras -o YamatoMaya.safetensors \"https://civitai.com/api/download/models/121272?type=Model&format=SafeTensor&token=6d5979eca3c585f9a91dcd83ded3f3a6\""
      ]
    },
    {
      "cell_type": "code",
      "execution_count": null,
      "metadata": {
        "id": "10JRQWbnagyc",
        "collapsed": true
      },
      "outputs": [],
      "source": [
        "# GBC\n",
        "!aria2c -x 16 -s 16 -d /content/Fooocus/models/loras -o NinaIseri.safetensors \"https://civitai.com/api/download/models/1468578?type=Model&format=SafeTensor&token=6d5979eca3c585f9a91dcd83ded3f3a6\"\n",
        "!aria2c -x 16 -s 16 -d /content/Fooocus/models/loras -o SubaruAwa.safetensors \"https://civitai.com/api/download/models/1468561?type=Model&format=SafeTensor&token=6d5979eca3c585f9a91dcd83ded3f3a6\"\n",
        "!aria2c -x 16 -s 16 -d /content/Fooocus/models/loras -o MomokaKawaragi.safetensors \"https://civitai.com/api/download/models/1540321?type=Model&format=SafeTensor&token=6d5979eca3c585f9a91dcd83ded3f3a6\"\n",
        "!aria2c -x 16 -s 16 -d /content/Fooocus/models/loras -o Rupa.safetensors \"https://civitai.com/api/download/models/1344224?type=Model&format=SafeTensor&token=6d5979eca3c585f9a91dcd83ded3f3a6\"\n",
        "!aria2c -x 16 -s 16 -d /content/Fooocus/models/loras -o TomoEbizuka.safetensors \"https://civitai.com/api/download/models/1269877?type=Model&format=SafeTensor&token=6d5979eca3c585f9a91dcd83ded3f3a6\"\n",
        "!aria2c -x 16 -s 16 -d /content/Fooocus/models/loras -o HinaGBC.safetensors \"https://civitai.com/api/download/models/1344279?type=Model&format=SafeTensor&token=6d5979eca3c585f9a91dcd83ded3f3a6\""
      ]
    },
    {
      "cell_type": "code",
      "execution_count": null,
      "metadata": {
        "id": "2lgWjU3hay5c"
      },
      "outputs": [],
      "source": [
        "# Koisuru Otome\n",
        "!aria2c -x 16 -s 16 -d /content/Fooocus/models/loras -o HiuraMihate.safetensors \"https://civitai.com/api/download/models/1826280?type=Model&format=SafeTensor&token=6d5979eca3c585f9a91dcd83ded3f3a6\""
      ]
    },
    {
      "cell_type": "code",
      "source": [
        "# Fate/Kalleid Liner Prisma Illya\n",
        "!aria2c -x 16 -s 16 -d /content/Fooocus/models/loras -o IllyasvielVonEinzbern_C2P.safetensors \"https://civitai.com/api/download/models/1932645?type=Model&format=SafeTensor&token=6d5979eca3c585f9a91dcd83ded3f3a6\"\n",
        "!aria2c -x 16 -s 16 -d /content/Fooocus/models/loras -o IllyasvielVonEinzbern_h_madoka.safetensors \"https://civitai.com/api/download/models/1053652?type=Model&format=SafeTensor&token=6d5979eca3c585f9a91dcd83ded3f3a6\"\n",
        "!aria2c -x 16 -s 16 -d /content/Fooocus/models/loras -o ChloeVonEinzbern_C2P.safetensors \"https://civitai.com/api/download/models/1995009?type=Model&format=SafeTensor&token=6d5979eca3c585f9a91dcd83ded3f3a6\"\n",
        "!aria2c -x 16 -s 16 -d /content/Fooocus/models/loras -o ChloeVonEinzbern_XViviochanX.safetensors \"https://civitai.com/api/download/models/2115054?type=Model&format=SafeTensor&token=6d5979eca3c585f9a91dcd83ded3f3a6\"\n",
        "!aria2c -x 16 -s 16 -d /content/Fooocus/models/loras -o MiyuEdelfelt_C2P.safetensors \"https://civitai.com/api/download/models/1991781?type=Model&format=SafeTensor&token=6d5979eca3c585f9a91dcd83ded3f3a6\"\n",
        "!aria2c -x 16 -s 16 -d /content/Fooocus/models/loras -o MiyuEdelfelt.safetensors \"https://civitai.com/api/download/models/1991781?type=Model&format=SafeTensor&token=6d5979eca3c585f9a91dcd83ded3f3a6\"\n",
        "!aria2c -x 16 -s 16 -d /content/Fooocus/models/loras -o PrismaIllyaStyle.safetensors \"https://civitai.com/api/download/models/1120160?type=Model&format=SafeTensor&token=6d5979eca3c585f9a91dcd83ded3f3a6\"\n",
        "!aria2c -x 16 -s 16 -d /content/Fooocus/models/loras -o MeMaXLFlatAnimeStyleV3C.safetensors \"https://civitai.com/api/download/models/1045741?type=Model&format=SafeTensor&token=6d5979eca3c585f9a91dcd83ded3f3a6\""
      ],
      "metadata": {
        "id": "E7vqkWiieEmf"
      },
      "execution_count": null,
      "outputs": []
    },
    {
      "cell_type": "code",
      "source": [
        "# Gamers\n",
        "!aria2c -x 16 -s 16 -d /content/Fooocus/models/loras -o TendouKaren.safetensors \"https://civitai.com/api/download/models/1311788?type=Model&format=SafeTensor&token=6d5979eca3c585f9a91dcd83ded3f3a6\"\n",
        "!aria2c -x 16 -s 16 -d /content/Fooocus/models/loras -o HoshinomoriChiaki.safetensors \"https://civitai.com/api/download/models/1311964?type=Model&format=SafeTensor&token=6d5979eca3c585f9a91dcd83ded3f3a6\"\n",
        "!aria2c -x 16 -s 16 -d /content/Fooocus/models/loras -o SakuranoAguri.safetensors \"https://civitai.com/api/download/models/1311852?type=Model&format=SafeTensor&token=6d5979eca3c585f9a91dcd83ded3f3a6\"\n",
        "!aria2c -x 16 -s 16 -d /content/Fooocus/models/loras -o HoshinomoriKonoha.safetensors \"https://civitai.com/api/download/models/1712012?type=Model&format=SafeTensor&token=6d5979eca3c585f9a91dcd83ded3f3a6\""
      ],
      "metadata": {
        "id": "vLgAb6Sv1zfM"
      },
      "execution_count": null,
      "outputs": []
    },
    {
      "cell_type": "code",
      "source": [
        "# Date A Live\n",
        "!aria2c -x 16 -s 16 -d /content/Fooocus/models/loras -o YatogamiTohka.safetensors \"https://civitai.com/api/download/models/1319966?type=Model&format=SafeTensor&token=6d5979eca3c585f9a91dcd83ded3f3a6\"\n",
        "!aria2c -x 16 -s 16 -d /content/Fooocus/models/loras -o ItsukaKotori.safetensors \"https://civitai.com/api/download/models/1315152?type=Model&format=SafeTensor&token=6d5979eca3c585f9a91dcd83ded3f3a6\"\n",
        "!aria2c -x 16 -s 16 -d /content/Fooocus/models/loras -o YamaiYuzuru.safetensors \"https://civitai.com/api/download/models/1336053?type=Model&format=SafeTensor&token=6d5979eca3c585f9a91dcd83ded3f3a6\"\n",
        "!aria2c -x 16 -s 16 -d /content/Fooocus/models/loras -o YamaiKaguya.safetensors \"https://civitai.com/api/download/models/1329128?type=Model&format=SafeTensor&token=6d5979eca3c585f9a91dcd83ded3f3a6\"\n",
        "!aria2c -x 16 -s 16 -d /content/Fooocus/models/loras -o TakamiyaMio.safetensors \"https://civitai.com/api/download/models/1360785?type=Model&format=SafeTensor&token=6d5979eca3c585f9a91dcd83ded3f3a6\"\n",
        "!aria2c -x 16 -s 16 -d /content/Fooocus/models/loras -o Mayuri.safetensors \"https://civitai.com/api/download/models/1416632?type=Model&format=SafeTensor&token=6d5979eca3c585f9a91dcd83ded3f3a6\"\n",
        "!aria2c -x 16 -s 16 -d /content/Fooocus/models/loras -o NatsumiKyouno.safetensors \"https://civitai.com/api/download/models/1345754?type=Model&format=SafeTensor&token=6d5979eca3c585f9a91dcd83ded3f3a6\"\n",
        "!aria2c -x 16 -s 16 -d /content/Fooocus/models/loras -o NiaHonjou.safetensors \"https://civitai.com/api/download/models/1349332?type=Model&format=SafeTensor&token=6d5979eca3c585f9a91dcd83ded3f3a6\"\n",
        "!aria2c -x 16 -s 16 -d /content/Fooocus/models/loras -o SonogamiRinne.safetensors \"https://civitai.com/api/download/models/1364892?type=Model&format=SafeTensor&token=6d5979eca3c585f9a91dcd83ded3f3a6\"\n",
        "!aria2c -x 16 -s 16 -d /content/Fooocus/models/loras -o MariaArusu.safetensors \"https://civitai.com/api/download/models/1419518?type=Model&format=SafeTensor&token=6d5979eca3c585f9a91dcd83ded3f3a6\"\n",
        "!aria2c -x 16 -s 16 -d /content/Fooocus/models/loras -o TokisakiKurumiC2P.safetensors \"https://civitai.com/api/download/models/1356515?type=Model&format=SafeTensor&token=6d5979eca3c585f9a91dcd83ded3f3a6\"\n",
        "!aria2c -x 16 -s 16 -d /content/Fooocus/models/loras -o TokisakiKurumiUnholyDesire.safetensors \"https://civitai.com/api/download/models/1608752?type=Model&format=SafeTensor&token=6d5979eca3c585f9a91dcd83ded3f3a6\"\n",
        "!aria2c -x 16 -s 16 -d /content/Fooocus/models/loras -o ItsukaShidou.safetensors \"https://civitai.com/api/download/models/1298121?type=Model&format=SafeTensor&token=6d5979eca3c585f9a91dcd83ded3f3a6\"\n",
        "!aria2c -x 16 -s 16 -d /content/Fooocus/models/loras -o TakamiyaMana.safetensors \"https://civitai.com/api/download/models/1880733?type=Model&format=SafeTensor&token=6d5979eca3c585f9a91dcd83ded3f3a6\"\n",
        "!aria2c -x 16 -s 16 -d /content/Fooocus/models/loras -o ItsukaShiori.safetensors \"https://civitai.com/api/download/models/1936624?type=Model&format=SafeTensor&token=6d5979eca3c585f9a91dcd83ded3f3a6\"\n",
        "!aria2c -x 16 -s 16 -d /content/Fooocus/models/loras -o TobiichiOrigamiAngleAstral.safetensors \"https://civitai.com/api/download/models/1267382?type=Model&format=SafeTensor&token=6d5979eca3c585f9a91dcd83ded3f3a6\"\n",
        "!aria2c -x 16 -s 16 -d /content/Fooocus/models/loras -o TobiichiOrigamiDevilAstral.safetensors \"https://civitai.com/api/download/models/1271586?type=Model&format=SafeTensor&token=6d5979eca3c585f9a91dcd83ded3f3a6\"\n",
        "!aria2c -x 16 -s 16 -d /content/Fooocus/models/loras -o HimekawaYoshino.safetensors \"https://civitai.com/api/download/models/1341144?type=Model&format=SafeTensor&token=6d5979eca3c585f9a91dcd83ded3f3a6\"\n",
        "!aria2c -x 16 -s 16 -d /content/Fooocus/models/loras -o IzayoiMiku.safetensors \"https://civitai.com/api/download/models/1337609?type=Model&format=SafeTensor&token=6d5979eca3c585f9a91dcd83ded3f3a6\"\n",
        "!aria2c -x 16 -s 16 -d /content/Fooocus/models/loras -o HoshimiyaMukuro.safetensors \"https://civitai.com/api/download/models/1352427?type=Model&format=SafeTensor&token=6d5979eca3c585f9a91dcd83ded3f3a6\""
      ],
      "metadata": {
        "id": "3WKWtlaUDCen"
      },
      "execution_count": null,
      "outputs": []
    },
    {
      "cell_type": "code",
      "source": [
        "# Summer Pocket\n",
        "!aria2c -x 16 -s 16 -d /content/Fooocus/models/loras -o UmiKatou.safetensors \"https://civitai.com/api/download/models/1829812?type=Model&format=SafeTensor&token=6d5979eca3c585f9a91dcd83ded3f3a6\"\n",
        "!aria2c -x 16 -s 16 -d /content/Fooocus/models/loras -o KushimaKamome.safetensors \"https://civitai.com/api/download/models/1574704?type=Model&format=SafeTensor&token=6d5979eca3c585f9a91dcd83ded3f3a6\"\n",
        "!aria2c -x 16 -s 16 -d /content/Fooocus/models/loras -o NaruseShiroha.safetensors \"https://civitai.com/api/download/models/1574560?type=Model&format=SafeTensor&token=6d5979eca3c585f9a91dcd83ded3f3a6\"\n",
        "!aria2c -x 16 -s 16 -d /content/Fooocus/models/loras -o TsumugiWenders.safetensors \"https://civitai.com/api/download/models/1574599?type=Model&format=SafeTensor&token=6d5979eca3c585f9a91dcd83ded3f3a6\"\n",
        "!aria2c -x 16 -s 16 -d /content/Fooocus/models/loras -o SorakadoAo.safetensors \"https://civitai.com/api/download/models/1574686?type=Model&format=SafeTensor&token=6d5979eca3c585f9a91dcd83ded3f3a6\""
      ],
      "metadata": {
        "id": "wBQ3pjWKsuBI"
      },
      "execution_count": null,
      "outputs": []
    },
    {
      "cell_type": "code",
      "execution_count": null,
      "metadata": {
        "id": "v4S4sShiu1-Z"
      },
      "outputs": [],
      "source": [
        "# Watashi ni Tenshi ga Maoirita\n",
        "!aria2c -x 16 -s 16 -d /content/Fooocus/models/loras -o HoshinoMiyako.safetensors \"https://civitai.com/api/download/models/1748699?type=Model&format=SafeTensor&token=6d5979eca3c585f9a91dcd83ded3f3a6\"\n",
        "!aria2c -x 16 -s 16 -d /content/Fooocus/models/loras -o HoshinoHinata.safetensors \"https://civitai.com/api/download/models/1748631?type=Model&format=SafeTensor&token=6d5979eca3c585f9a91dcd83ded3f3a6\"\n",
        "!aria2c -x 16 -s 16 -d /content/Fooocus/models/loras -o MatsumotoKouko.safetensors \"https://civitai.com/api/download/models/1744050?type=Model&format=SafeTensor&token=6d5979eca3c585f9a91dcd83ded3f3a6\"\n",
        "!aria2c -x 16 -s 16 -d /content/Fooocus/models/loras -o HimesakaNoa.safetensors \"https://civitai.com/api/download/models/1752476?type=Model&format=SafeTensor&token=6d5979eca3c585f9a91dcd83ded3f3a6\"\n",
        "!aria2c -x 16 -s 16 -d /content/Fooocus/models/loras -o ShirosakiHana.safetensors \"https://civitai.com/api/download/models/1744171?type=Model&format=SafeTensor&token=6d5979eca3c585f9a91dcd83ded3f3a6\"\n",
        "!aria2c -x 16 -s 16 -d /content/Fooocus/models/loras -o KonomoriKanon.safetensors \"https://civitai.com/api/download/models/1752841?type=Model&format=SafeTensor&token=6d5979eca3c585f9a91dcd83ded3f3a6\"\n",
        "!aria2c -x 16 -s 16 -d /content/Fooocus/models/loras -o TanemuraKoyori.safetensors \"https://civitai.com/api/download/models/1752906?type=Model&format=SafeTensor&token=6d5979eca3c585f9a91dcd83ded3f3a6\""
      ]
    },
    {
      "cell_type": "code",
      "execution_count": null,
      "metadata": {
        "id": "17zxXVZ1dyVx"
      },
      "outputs": [],
      "source": [
        "# GnP\n",
        "!aria2c -x 16 -s 16 -d /content/Fooocus/models/loras -o NishizumiMiho.safetensors \"https://civitai.com/api/download/models/370384?type=Model&format=SafeTensor&token=6d5979eca3c585f9a91dcd83ded3f3a6\"\n",
        "!aria2c -x 16 -s 16 -d /content/Fooocus/models/loras -o MikaGnP.safetensors \"https://civitai.com/api/download/models/1617647?type=Model&format=SafeTensor&token=6d5979eca3c585f9a91dcd83ded3f3a6\""
      ]
    },
    {
      "cell_type": "code",
      "execution_count": null,
      "metadata": {
        "id": "bMhQmpqAe8la",
        "collapsed": true
      },
      "outputs": [],
      "source": [
        "# Project Sekai\n",
        "!aria2c -x 16 -s 16 -d /content/Fooocus/models/loras -o AkiyamaMizukiNoobAI.safetensors \"https://civitai.com/api/download/models/1790671?type=Model&format=SafeTensor&token=6d5979eca3c585f9a91dcd83ded3f3a6\"\n",
        "!aria2c -x 16 -s 16 -d /content/Fooocus/models/loras -o ShinonomeEna.safetensors \"https://civitai.com/api/download/models/1786450?type=Model&format=SafeTensor&token=6d5979eca3c585f9a91dcd83ded3f3a6\"\n",
        "!aria2c -x 16 -s 16 -d /content/Fooocus/models/loras -o OotoriEmu.safetensors \"https://civitai.com/api/download/models/1778410?type=Model&format=SafeTensor&token=6d5979eca3c585f9a91dcd83ded3f3a6\"\n",
        "!aria2c -x 16 -s 16 -d /content/Fooocus/models/loras -o AsahinaMafuyu.safetensors \"https://civitai.com/api/download/models/1950316?type=Model&format=SafeTensor&token=6d5979eca3c585f9a91dcd83ded3f3a6\"\n",
        "!aria2c -x 16 -s 16 -d /content/Fooocus/models/loras -o HatsuneMikuWhiteMovie.safetensors \"https://civitai.com/api/download/models/1841184?type=Model&format=SafeTensor&token=6d5979eca3c585f9a91dcd83ded3f3a6\"\n",
        "!aria2c -x 16 -s 16 -d /content/Fooocus/models/loras -o HatsuneMikuDarkMovie.safetensors \"https://civitai.com/api/download/models/1754159?type=Model&format=SafeTensor&token=6d5979eca3c585f9a91dcd83ded3f3a6\"\n",
        "!aria2c -x 16 -s 16 -d /content/Fooocus/models/loras -o HanasatoMinori.safetensors \"https://civitai.com/api/download/models/1916396?type=Model&format=SafeTensor&token=6d5979eca3c585f9a91dcd83ded3f3a6\"\n",
        "!aria2c -x 16 -s 16 -d /content/Fooocus/models/loras -o TenmaSaki.safetensors \"https://civitai.com/api/download/models/1913508?type=Model&format=SafeTensor&token=6d5979eca3c585f9a91dcd83ded3f3a6\"\n",
        "!aria2c -x 16 -s 16 -d /content/Fooocus/models/loras -o YoisakiKanade.safetensors \"https://civitai.com/api/download/models/1929189?type=Model&format=SafeTensor&token=6d5979eca3c585f9a91dcd83ded3f3a6\"\n",
        "!aria2c -x 16 -s 16 -d /content/Fooocus/models/loras -o AzusawaKohane.safetensors \"https://civitai.com/api/download/models/2036832?type=Model&format=SafeTensor&token=6d5979eca3c585f9a91dcd83ded3f3a6\"\n",
        "!aria2c -x 16 -s 16 -d /content/Fooocus/models/loras -o ShiraishiAn.safetensors \"https://civitai.com/api/download/models/1954306?type=Model&format=SafeTensor&token=6d5979eca3c585f9a91dcd83ded3f3a6\"\n",
        "!aria2c -x 16 -s 16 -d /content/Fooocus/models/loras -o KusanagiNene.safetensors \"https://civitai.com/api/download/models/2025576?type=Model&format=SafeTensor&token=6d5979eca3c585f9a91dcd83ded3f3a6\"\n",
        "!aria2c -x 16 -s 16 -d /content/Fooocus/models/loras -o HoshinoIchika.safetensors \"https://civitai.com/api/download/models/1913426?type=Model&format=SafeTensor&token=6d5979eca3c585f9a91dcd83ded3f3a6\"\n",
        "!aria2c -x 16 -s 16 -d /content/Fooocus/models/loras -o MochizukiHonami.safetensors \"https://civitai.com/api/download/models/1913566?type=Model&format=SafeTensor&token=6d5979eca3c585f9a91dcd83ded3f3a6\"\n",
        "!aria2c -x 16 -s 16 -d /content/Fooocus/models/loras -o HinomoriShiho.safetensors \"https://civitai.com/api/download/models/1249606?type=Model&format=SafeTensor&token=6d5979eca3c585f9a91dcd83ded3f3a6\"\n",
        "!aria2c -x 16 -s 16 -d /content/Fooocus/models/loras -o KiritaniHaruka.safetensors \"https://civitai.com/api/download/models/1916363?type=Model&format=SafeTensor&token=6d5979eca3c585f9a91dcd83ded3f3a6\""
      ]
    },
    {
      "cell_type": "code",
      "execution_count": null,
      "metadata": {
        "id": "65lXHVJrfy1X"
      },
      "outputs": [],
      "source": [
        "# WUWA\n",
        "!aria2c -x 16 -s 16 -d /content/Fooocus/models/loras -o CartethyiaFleurdelys.safetensors \"https://civitai.com/api/download/models/1899025?type=Model&format=SafeTensor&token=6d5979eca3c585f9a91dcd83ded3f3a6\"\n",
        "!aria2c -x 16 -s 16 -d /content/Fooocus/models/loras -o Carlotta.safetensors \"https://civitai.com/api/download/models/1876219?type=Model&format=SafeTensor&token=6d5979eca3c585f9a91dcd83ded3f3a6\"\n",
        "!aria2c -x 16 -s 16 -d /content/Fooocus/models/loras -o Zhezhi.safetensors \"https://civitai.com/api/download/models/1951361?type=Model&format=SafeTensor&token=6d5979eca3c585f9a91dcd83ded3f3a6\"\n",
        "!aria2c -x 16 -s 16 -d /content/Fooocus/models/loras -o Phoebe.safetensors \"https://civitai.com/api/download/models/1876254?type=Model&format=SafeTensor&token=6d5979eca3c585f9a91dcd83ded3f3a6\"\n",
        "!aria2c -x 16 -s 16 -d /content/Fooocus/models/loras -o Camellya.safetensors \"https://civitai.com/api/download/models/1827301?type=Model&format=SafeTensor&token=6d5979eca3c585f9a91dcd83ded3f3a6\"\n",
        "!aria2c -x 16 -s 16 -d /content/Fooocus/models/loras -o Shorekeeper.safetensors \"https://civitai.com/api/download/models/1003291?type=Model&format=SafeTensor&token=6d5979eca3c585f9a91dcd83ded3f3a6\"\n"
      ]
    },
    {
      "cell_type": "code",
      "execution_count": null,
      "metadata": {
        "id": "s61bx36M8WPN",
        "collapsed": true
      },
      "outputs": [],
      "source": [
        "# Gakuen Idolmaster\n",
        "!aria2c -x 16 -s 16 -d /content/Fooocus/models/loras -o HanamiSaki.safetensors \"https://civitai.com/api/download/models/1002397?type=Model&format=SafeTensor&token=6d5979eca3c585f9a91dcd83ded3f3a6\"\n",
        "!aria2c -x 16 -s 16 -d /content/Fooocus/models/loras -o MadokaHiguchi.safetensors \"https://civitai.com/api/download/models/1139940?type=Model&format=SafeTensor&token=6d5979eca3c585f9a91dcd83ded3f3a6\"\n",
        "!aria2c -x 16 -s 16 -d /content/Fooocus/models/loras -o HanamiUme.safetensors \"https://civitai.com/api/download/models/1002423?type=Model&format=SafeTensor&token=6d5979eca3c585f9a91dcd83ded3f3a6\"\n",
        "!aria2c -x 16 -s 16 -d /content/Fooocus/models/loras -o MaoArimura.safetensors \"https://civitai.com/api/download/models/1002122?type=Model&format=SafeTensor&token=6d5979eca3c585f9a91dcd83ded3f3a6\"\n",
        "!aria2c -x 16 -s 16 -d /content/Fooocus/models/loras -o SenaJuo.safetensors \"https://civitai.com/api/download/models/2017235?type=Model&format=SafeTensor&token=6d5979eca3c585f9a91dcd83ded3f3a6\"\n",
        "!aria2c -x 16 -s 16 -d /content/Fooocus/models/loras -o MisuzuHataya.safetensors \"https://civitai.com/api/download/models/2017209?type=Model&format=SafeTensor&token=6d5979eca3c585f9a91dcd83ded3f3a6\"\n",
        "!aria2c -x 16 -s 16 -d /content/Fooocus/models/loras -o SumikaShiun.safetensors \"https://civitai.com/api/download/models/1002474?type=Model&format=SafeTensor&token=6d5979eca3c585f9a91dcd83ded3f3a6\"\n",
        "!aria2c -x 16 -s 16 -d /content/Fooocus/models/loras -o LiljaKatsuragi.safetensors \"https://civitai.com/api/download/models/1002456?type=Model&format=SafeTensor&token=6d5979eca3c585f9a91dcd83ded3f3a6\"\n",
        "!aria2c -x 16 -s 16 -d /content/Fooocus/models/loras -o TemariTsukimura.safetensors \"https://civitai.com/api/download/models/1002299?type=Model&format=SafeTensor&token=6d5979eca3c585f9a91dcd83ded3f3a6\"\n",
        "!aria2c -x 16 -s 16 -d /content/Fooocus/models/loras -o RinamiHimesaki.safetensors \"https://civitai.com/api/download/models/1002489?type=Model&format=SafeTensor&token=6d5979eca3c585f9a91dcd83ded3f3a6\"\n",
        "!aria2c -x 16 -s 16 -d /content/Fooocus/models/loras -o ChinaKuramoto.safetensors \"https://civitai.com/api/download/models/1002264?type=Model&format=SafeTensor&token=6d5979eca3c585f9a91dcd83ded3f3a6\"\n",
        "!aria2c -x 16 -s 16 -d /content/Fooocus/models/loras -o KotoneFujita.safetensors \"https://civitai.com/api/download/models/1002443?type=Model&format=SafeTensor&token=6d5979eca3c585f9a91dcd83ded3f3a6\"\n",
        "!aria2c -x 16 -s 16 -d /content/Fooocus/models/loras -o HiroShinosawa.safetensors \"https://civitai.com/api/download/models/1002194?type=Model&format=SafeTensor&token=6d5979eca3c585f9a91dcd83ded3f3a6\""
      ]
    },
    {
      "cell_type": "code",
      "source": [
        "# THE iDOLM@STER Cinderella Girls: U149\n",
        "!aria2c -x 16 -s 16 -d /content/Fooocus/models/loras -o MomokaSakurai.safetensors \"https://civitai.com/api/download/models/1452633?type=Model&format=SafeTensor&token=6d5979eca3c585f9a91dcd83ded3f3a6\"\n",
        "!aria2c -x 16 -s 16 -d /content/Fooocus/models/loras -o ArisuTachibana.safetensors \"https://civitai.com/api/download/models/1430437?type=Model&format=SafeTensor&token=6d5979eca3c585f9a91dcd83ded3f3a6\"\n",
        "!aria2c -x 16 -s 16 -d /content/Fooocus/models/loras -o MiriaAkagi.safetensors \"https://civitai.com/api/download/models/1955654?type=Model&format=SafeTensor&token=6d5979eca3c585f9a91dcd83ded3f3a6\"\n",
        "!aria2c -x 16 -s 16 -d /content/Fooocus/models/loras -o YuukiHaru.safetensors \"https://civitai.com/api/download/models/1984250?type=Model&format=SafeTensor&token=6d5979eca3c585f9a91dcd83ded3f3a6\"\n",
        "!aria2c -x 16 -s 16 -d /content/Fooocus/models/loras -o IchikawaNina.safetensors \"https://civitai.com/api/download/models/1976413?type=Model&format=SafeTensor&token=6d5979eca3c585f9a91dcd83ded3f3a6\"\n",
        "!aria2c -x 16 -s 16 -d /content/Fooocus/models/loras -o MotobaRisa.safetensors \"https://civitai.com/api/download/models/1999947?type=Model&format=SafeTensor&token=6d5979eca3c585f9a91dcd83ded3f3a6\"\n",
        "!aria2c -x 16 -s 16 -d /content/Fooocus/models/loras -o KogaKoharu.safetensors \"https://civitai.com/api/download/models/1963519?type=Model&format=SafeTensor&token=6d5979eca3c585f9a91dcd83ded3f3a6\"\n",
        "!aria2c -x 16 -s 16 -d /content/Fooocus/models/loras -o RyuuzakiKaoru.safetensors \"https://civitai.com/api/download/models/1974011?type=Model&format=SafeTensor&token=6d5979eca3c585f9a91dcd83ded3f3a6\"\n",
        "!aria2c -x 16 -s 16 -d /content/Fooocus/models/loras -o SasakiChie.safetensors \"https://civitai.com/api/download/models/1970423?type=Model&format=SafeTensor&token=6d5979eca3c585f9a91dcd83ded3f3a6\"\n",
        "!aria2c -x 16 -s 16 -d /content/Fooocus/models/loras -o SajoYukimi.safetensors \"https://civitai.com/api/download/models/1999975?type=Model&format=SafeTensor&token=6d5979eca3c585f9a91dcd83ded3f3a6\"\n",
        "!aria2c -x 16 -s 16 -d /content/Fooocus/models/loras -o YokoyamaChika.safetensors \"https://civitai.com/api/download/models/1999892?type=Model&format=SafeTensor&token=6d5979eca3c585f9a91dcd83ded3f3a6\"\n",
        "!aria2c -x 16 -s 16 -d /content/Fooocus/models/loras -o FukuyamaMai.safetensors \"https://civitai.com/api/download/models/1961333?type=Model&format=SafeTensor&token=6d5979eca3c585f9a91dcd83ded3f3a6\"\n",
        "!aria2c -x 16 -s 16 -d /content/Fooocus/models/loras -o YusaKozue.safetensors \"https://civitai.com/api/download/models/1966792?type=Model&format=SafeTensor&token=6d5979eca3c585f9a91dcd83ded3f3a6\""
      ],
      "metadata": {
        "id": "mhmCRTMPBKWx"
      },
      "execution_count": null,
      "outputs": []
    },
    {
      "cell_type": "code",
      "execution_count": null,
      "metadata": {
        "id": "qZp5AmeM8fkX"
      },
      "outputs": [],
      "source": [
        "# HOYO\n",
        "# HSR\n",
        "!aria2c -x 16 -s 16 -d /content/Fooocus/models/loras -o March7.safetensors \"https://civitai.com/api/download/models/1282252?type=Model&format=SafeTensor&token=6d5979eca3c585f9a91dcd83ded3f3a6\"\n",
        "!aria2c -x 16 -s 16 -d /content/Fooocus/models/loras -o March7inGame.safetensors \"https://civitai.com/api/download/models/1807093?type=Model&format=SafeTensor&token=6d5979eca3c585f9a91dcd83ded3f3a6\"\n",
        "!aria2c -x 16 -s 16 -d /content/Fooocus/models/loras -o Firefly.safetensors \"https://civitai.com/api/download/models/1291255?type=Model&format=SafeTensor&token=6d5979eca3c585f9a91dcd83ded3f3a6\"\n",
        "!aria2c -x 16 -s 16 -d /content/Fooocus/models/loras -o Sparkle.safetensors \"https://civitai.com/api/download/models/1655634?type=Model&format=SafeTensor&token=6d5979eca3c585f9a91dcd83ded3f3a6\"\n",
        "!aria2c -x 16 -s 16 -d /content/Fooocus/models/loras -o RuanMei.safetensors \"https://civitai.com/api/download/models/1626556?type=Model&format=SafeTensor&token=6d5979eca3c585f9a91dcd83ded3f3a6\"\n",
        "!aria2c -x 16 -s 16 -d /content/Fooocus/models/loras -o Stelle.safetensors \"https://civitai.com/api/download/models/1837460?type=Model&format=SafeTensor&token=6d5979eca3c585f9a91dcd83ded3f3a6\"\n",
        "!aria2c -x 16 -s 16 -d /content/Fooocus/models/loras -o Castorice.safetensors \"https://civitai.com/api/download/models/1831996?type=Model&format=SafeTensor&token=6d5979eca3c585f9a91dcd83ded3f3a6\"\n",
        "!aria2c -x 16 -s 16 -d /content/Fooocus/models/loras -o HertaDoll.safetensors \"https://civitai.com/api/download/models/1671114?type=Model&format=SafeTensor&token=6d5979eca3c585f9a91dcd83ded3f3a6\"\n",
        "!aria2c -x 16 -s 16 -d /content/Fooocus/models/loras -o Acheron.safetensors \"https://civitai.com/api/download/models/1662905?type=Model&format=SafeTensor&token=6d5979eca3c585f9a91dcd83ded3f3a6\"\n",
        "!aria2c -x 16 -s 16 -d /content/Fooocus/models/loras -o Qinque.safetensors \"https://civitai.com/api/download/models/1662826?type=Model&format=SafeTensor&token=6d5979eca3c585f9a91dcd83ded3f3a6\"\n",
        "!aria2c -x 16 -s 16 -d /content/Fooocus/models/loras -o SilverWolf.safetensors \"https://civitai.com/api/download/models/1651349?type=Model&format=SafeTensor&token=6d5979eca3c585f9a91dcd83ded3f3a6\"\n",
        "!aria2c -x 16 -s 16 -d /content/Fooocus/models/loras -o Tribbie.safetensors \"https://civitai.com/api/download/models/1514135?type=Model&format=SafeTensor&token=6d5979eca3c585f9a91dcd83ded3f3a6\"\n",
        "!aria2c -x 16 -s 16 -d /content/Fooocus/models/loras -o Hycine.safetensors \"https://civitai.com/api/download/models/1822896?type=Model&format=SafeTensor&token=6d5979eca3c585f9a91dcd83ded3f3a6\"\n",
        "!aria2c -x 16 -s 16 -d /content/Fooocus/models/loras -o Aglaea.safetensors \"https://civitai.com/api/download/models/1429295?type=Model&format=SafeTensor&token=6d5979eca3c585f9a91dcd83ded3f3a6\"\n",
        "!aria2c -x 16 -s 16 -d /content/Fooocus/models/loras -o Robin.safetensors \"https://civitai.com/api/download/models/1673234?type=Model&format=SafeTensor&token=6d5979eca3c585f9a91dcd83ded3f3a6\"\n",
        "!aria2c -x 16 -s 16 -d /content/Fooocus/models/loras -o Cyrine.safetensors \"https://civitai.com/api/download/models/1812519?type=Model&format=SafeTensor&token=6d5979eca3c585f9a91dcd83ded3f3a6\"\n",
        "!aria2c -x 16 -s 16 -d /content/Fooocus/models/loras -o ArtoriaPendragon.safetensors \"https://civitai.com/api/download/models/1823852?type=Model&format=SafeTensor&token=6d5979eca3c585f9a91dcd83ded3f3a6\"\n",
        "!aria2c -x 16 -s 16 -d /content/Fooocus/models/loras -o Pela.safetensors \"https://civitai.com/api/download/models/1441559?type=Model&format=SafeTensor&token=6d5979eca3c585f9a91dcd83ded3f3a6\"\n",
        "!aria2c -x 16 -s 16 -d /content/Fooocus/models/loras -o HuoHuo.safetensors \"https://civitai.com/api/download/models/1330338?type=Model&format=SafeTensor&token=6d5979eca3c585f9a91dcd83ded3f3a6\"\n",
        "!aria2c -x 16 -s 16 -d /content/Fooocus/models/loras -o Yunli.safetensors \"https://civitai.com/api/download/models/1330281?type=Model&format=SafeTensor&token=6d5979eca3c585f9a91dcd83ded3f3a6\"\n",
        "!aria2c -x 16 -s 16 -d /content/Fooocus/models/loras -o ShushangHSR.safetensors \"https://civitai.com/api/download/models/1871697?type=Model&format=SafeTensor&token=6d5979eca3c585f9a91dcd83ded3f3a6\"\n",
        "!aria2c -x 16 -s 16 -d /content/Fooocus/models/loras -o Topaz.safetensors \"https://civitai.com/api/download/models/1517494?type=Model&format=SafeTensor&token=6d5979eca3c585f9a91dcd83ded3f3a6\"\n",
        "!aria2c -x 16 -s 16 -d /content/Fooocus/models/loras -o HuoHuoinGame.safetensors \"https://civitai.com/api/download/models/1872412?type=Model&format=SafeTensor&token=6d5979eca3c585f9a91dcd83ded3f3a6\"\n",
        "!aria2c -x 16 -s 16 -d /content/Fooocus/models/loras -o LingshainGame.safetensors \"https://civitai.com/api/download/models/1872350?type=Model&format=SafeTensor&token=6d5979eca3c585f9a91dcd83ded3f3a6\"\n",
        "!aria2c -x 16 -s 16 -d /content/Fooocus/models/loras -o Cerydra.safetensors \"https://civitai.com/api/download/models/1994474?type=Model&format=SafeTensor&token=6d5979eca3c585f9a91dcd83ded3f3a6\"\n",
        "# Genshin\n",
        "!aria2c -x 16 -s 16 -d /content/Fooocus/models/loras -o Venti.safetensors \"https://civitai.com/api/download/models/1564844?type=Model&format=SafeTensor&token=6d5979eca3c585f9a91dcd83ded3f3a6\"\n",
        "# ZZZ\n",
        "!aria2c -x 16 -s 16 -d /content/Fooocus/models/loras -o Belle-AllClothes.safetensors \"https://civitai.com/api/download/models/2002211?type=Model&format=SafeTensor&token=6d5979eca3c585f9a91dcd83ded3f3a6\"\n",
        "# HI3\n",
        "!aria2c -x 16 -s 16 -d /content/Fooocus/models/loras -o ShushangHI3.safetensors \"https://civitai.com/api/download/models/1487133?type=Model&format=SafeTensor&token=6d5979eca3c585f9a91dcd83ded3f3a6\"\n",
        "!aria2c -x 16 -s 16 -d /content/Fooocus/models/loras -o KianaKaslana.safetensors \"https://civitai.com/api/download/models/1303454?type=Model&format=SafeTensor&token=6d5979eca3c585f9a91dcd83ded3f3a6\"\n",
        "!aria2c -x 16 -s 16 -d /content/Fooocus/models/loras -o BronyaZaychik.safetensors \"https://civitai.com/api/download/models/1952375?type=Model&format=SafeTensor&token=6d5979eca3c585f9a91dcd83ded3f3a6\"\n",
        "!aria2c -x 16 -s 16 -d /content/Fooocus/models/loras -o BronyaZaychik24in1.safetensors \"https://civitai.com/api/download/models/1303351?type=Model&format=SafeTensor&token=6d5979eca3c585f9a91dcd83ded3f3a6\""
      ]
    },
    {
      "cell_type": "code",
      "execution_count": null,
      "metadata": {
        "id": "DXvT-3u_JdNw",
        "collapsed": true
      },
      "outputs": [],
      "source": [
        "# Watanare\n",
        "!aria2c -x 16 -s 16 -d /content/Fooocus/models/loras -o RenakoAmaori.safetensors \"https://civitai.com/api/download/models/2082083?type=Model&format=SafeTensor&token=6d5979eca3c585f9a91dcd83ded3f3a6\"\n",
        "!aria2c -x 16 -s 16 -d /content/Fooocus/models/loras -o Renako_Mayu.safetensors \"https://civitai.com/api/download/models/1900984?type=Model&format=SafeTensor&token=6d5979eca3c585f9a91dcd83ded3f3a6\"\n",
        "!aria2c -x 16 -s 16 -d /content/Fooocus/models/loras -o AjisaiSena.safetensors \"https://civitai.com/api/download/models/2028406?type=Model&format=SafeTensor&token=6d5979eca3c585f9a91dcd83ded3f3a6\"\n",
        "!aria2c -x 16 -s 16 -d /content/Fooocus/models/loras -o AjisaiandRenakoandMayuwatanare.safetensors \"https://civitai.com/api/download/models/1233262?type=Model&format=SafeTensor&token=6d5979eca3c585f9a91dcd83ded3f3a6\"\n",
        "!aria2c -x 16 -s 16 -d /content/Fooocus/models/loras -o MaiOuzuka.safetensors \"https://civitai.com/api/download/models/2045162?type=Model&format=SafeTensor&token=6d5979eca3c585f9a91dcd83ded3f3a6\"\n",
        "!aria2c -x 16 -s 16 -d /content/Fooocus/models/loras -o SatsukiKoto.safetensors \"https://civitai.com/api/download/models/2077476?type=Model&format=SafeTensor&token=6d5979eca3c585f9a91dcd83ded3f3a6\"\n",
        "!aria2c -x 16 -s 16 -d /content/Fooocus/models/loras -o KahoKoyanagi.safetensors \"https://civitai.com/api/download/models/2084238?type=Model&format=SafeTensor&token=6d5979eca3c585f9a91dcd83ded3f3a6\""
      ]
    },
    {
      "cell_type": "code",
      "source": [
        "# Nukitashi the Animation\n",
        "!aria2c -x 16 -s 16 -d /content/Fooocus/models/loras -o ReiTadasugawa.safetensors \"https://civitai.com/api/download/models/2029054?type=Model&format=SafeTensor&token=6d5979eca3c585f9a91dcd83ded3f3a6\"\n",
        "!aria2c -x 16 -s 16 -d /content/Fooocus/models/loras -o OtomeTanahashi.safetensors \"https://civitai.com/api/download/models/2029069?type=Model&format=SafeTensor&token=6d5979eca3c585f9a91dcd83ded3f3a6\"\n",
        "!aria2c -x 16 -s 16 -d /content/Fooocus/models/loras -o AsaneTachibana.safetensors \"https://civitai.com/api/download/models/2029081?type=Model&format=SafeTensor&token=6d5979eca3c585f9a91dcd83ded3f3a6\"\n",
        "!aria2c -x 16 -s 16 -d /content/Fooocus/models/loras -o NanaseKatagiri.safetensors \"https://civitai.com/api/download/models/2029076?type=Model&format=SafeTensor&token=6d5979eca3c585f9a91dcd83ded3f3a6\"\n",
        "!aria2c -x 16 -s 16 -d /content/Fooocus/models/loras -o RanHanamaru.safetensors \"https://civitai.com/api/download/models/2029060?type=Model&format=SafeTensor&token=6d5979eca3c585f9a91dcd83ded3f3a6\"\n",
        "!aria2c -x 16 -s 16 -d /content/Fooocus/models/loras -o MozumeSan.safetensors \"https://civitai.com/api/download/models/2029048?type=Model&format=SafeTensor&token=6d5979eca3c585f9a91dcd83ded3f3a6\"\n",
        "!aria2c -x 16 -s 16 -d /content/Fooocus/models/loras -o KoukiSenba.safetensors \"https://civitai.com/api/download/models/2029040?type=Model&format=SafeTensor&token=6d5979eca3c585f9a91dcd83ded3f3a6\"\n",
        "!aria2c -x 16 -s 16 -d /content/Fooocus/models/loras -o JunnosukeTachibana.safetensors \"https://civitai.com/api/download/models/2029033?type=Model&format=SafeTensor&token=6d5979eca3c585f9a91dcd83ded3f3a6\"\n",
        "!aria2c -x 16 -s 16 -d /content/Fooocus/models/loras -o HinamiWatarai.safetensors \"https://civitai.com/api/download/models/2080088?type=Model&format=SafeTensor&token=6d5979eca3c585f9a91dcd83ded3f3a6\"\n"
      ],
      "metadata": {
        "id": "RJBVVX3-9BkZ"
      },
      "execution_count": null,
      "outputs": []
    },
    {
      "cell_type": "code",
      "source": [
        "# Sasayaku You ni Koi wo Utau\n",
        "!aria2c -x 16 -s 16 -d /content/Fooocus/models/loras -o HimariKino.safetensors \"https://civitai.com/api/download/models/1412700?type=Model&format=SafeTensor&token=6d5979eca3c585f9a91dcd83ded3f3a6\"\n",
        "!aria2c -x 16 -s 16 -d /content/Fooocus/models/loras -o YoriAsanagi.safetensors \"https://civitai.com/api/download/models/1443948?type=Model&format=SafeTensor&token=6d5979eca3c585f9a91dcd83ded3f3a6\""
      ],
      "metadata": {
        "id": "GMPkTi_vC9Zx"
      },
      "execution_count": null,
      "outputs": []
    },
    {
      "cell_type": "code",
      "source": [
        "# One ROOM\n",
        "!aria2c -x 16 -s 16 -d /content/Fooocus/models/loras -o MokaAoshima.safetensors \"https://civitai.com/api/download/models/1424234?type=Model&format=SafeTensor&token=6d5979eca3c585f9a91dcd83ded3f3a6\""
      ],
      "metadata": {
        "id": "C2QJwmziFiC5"
      },
      "execution_count": null,
      "outputs": []
    },
    {
      "cell_type": "code",
      "source": [
        "# Akebi-chan no Sailor Fuku\n",
        "!aria2c -x 16 -s 16 -d /content/Fooocus/models/loras -o KomichiAkebi.safetensors \"https://civitai.com/api/download/models/1411623?type=Model&format=SafeTensor&token=6d5979eca3c585f9a91dcd83ded3f3a6\""
      ],
      "metadata": {
        "id": "Iekky-CuF03o"
      },
      "execution_count": null,
      "outputs": []
    },
    {
      "cell_type": "code",
      "source": [
        "# Wonder Egg Priority\n",
        "!aria2c -x 16 -s 16 -d /content/Fooocus/models/loras -o AiOhto.safetensors \"https://civitai.com/api/download/models/1418298?type=Model&format=SafeTensor&token=6d5979eca3c585f9a91dcd83ded3f3a6\"\n",
        "!aria2c -x 16 -s 16 -d /content/Fooocus/models/loras -o NeiruAonuma.safetensors \"https://civitai.com/api/download/models/1461997?type=Model&format=SafeTensor&token=6d5979eca3c585f9a91dcd83ded3f3a6\""
      ],
      "metadata": {
        "id": "7FO5De0nDomZ"
      },
      "execution_count": null,
      "outputs": []
    },
    {
      "cell_type": "code",
      "source": [
        "# Yagate kimi ni naru\n",
        "!aria2c -x 16 -s 16 -d /content/Fooocus/models/loras -o YuuKoito.safetensors \"https://civitai.com/api/download/models/1424033?type=Model&format=SafeTensor&token=6d5979eca3c585f9a91dcd83ded3f3a6\""
      ],
      "metadata": {
        "id": "nj2A5FEVE3XH"
      },
      "execution_count": null,
      "outputs": []
    },
    {
      "cell_type": "code",
      "source": [
        "# Citrus\n",
        "!aria2c -x 16 -s 16 -d /content/Fooocus/models/loras -o YuzuAihara.safetensors \"https://civitai.com/api/download/models/1438030?type=Model&format=SafeTensor&token=6d5979eca3c585f9a91dcd83ded3f3a6\"\n",
        "!aria2c -x 16 -s 16 -d /content/Fooocus/models/loras -o MeiAihara.safetensors \"https://civitai.com/api/download/models/1438165?type=Model&format=SafeTensor&token=6d5979eca3c585f9a91dcd83ded3f3a6\""
      ],
      "metadata": {
        "id": "u-UMrrh2FDe4"
      },
      "execution_count": null,
      "outputs": []
    },
    {
      "cell_type": "code",
      "source": [
        "# Hinako Note\n",
        "!aria2c -x 16 -s 16 -d /content/Fooocus/models/loras -o HinakoSakuragi.safetensors \"https://civitai.com/api/download/models/1433972?type=Model&format=SafeTensor&token=6d5979eca3c585f9a91dcd83ded3f3a6\"\n",
        "!aria2c -x 16 -s 16 -d /content/Fooocus/models/loras -o KuinaNatsukawa.safetensors \"https://civitai.com/api/download/models/1433629?type=Model&format=SafeTensor&token=6d5979eca3c585f9a91dcd83ded3f3a6\""
      ],
      "metadata": {
        "id": "wn0GLFFBD2LK"
      },
      "execution_count": null,
      "outputs": []
    },
    {
      "cell_type": "code",
      "source": [
        "# HELLO WORLD\n",
        "!aria2c -x 16 -s 16 -d /content/Fooocus/models/loras -o RuriIchigyou.safetensors \"https://civitai.com/api/download/models/1430324?type=Model&format=SafeTensor&token=6d5979eca3c585f9a91dcd83ded3f3a6\""
      ],
      "metadata": {
        "id": "qPYNaUlrESDW"
      },
      "execution_count": null,
      "outputs": []
    },
    {
      "cell_type": "code",
      "source": [
        "# Toaru Kagaku no Railgun\n",
        "!aria2c -x 16 -s 16 -d /content/Fooocus/models/loras -o SatenRuiko.safetensors \"https://civitai.com/api/download/models/1349118?type=Model&format=SafeTensor&token=6d5979eca3c585f9a91dcd83ded3f3a6\"\n",
        "!aria2c -x 16 -s 16 -d /content/Fooocus/models/loras -o UiharuKazari.safetensors \"https://civitai.com/api/download/models/1351057?type=Model&format=SafeTensor&token=6d5979eca3c585f9a91dcd83ded3f3a6\"\n",
        "!aria2c -x 16 -s 16 -d /content/Fooocus/models/loras -o ShiraiKuroko.safetensors \"https://civitai.com/api/download/models/1350770?type=Model&format=SafeTensor&token=6d5979eca3c585f9a91dcd83ded3f3a6\"\n",
        "!aria2c -x 16 -s 16 -d /content/Fooocus/models/loras -o ShokuhoMisaki.safetensors \"https://civitai.com/api/download/models/1350970?type=Model&format=SafeTensor&token=6d5979eca3c585f9a91dcd83ded3f3a6\"\n",
        "!aria2c -x 16 -s 16 -d /content/Fooocus/models/loras -o MisakaMikotoKing_Dong.safetensors \"https://civitai.com/api/download/models/1349170?type=Model&format=SafeTensor&token=6d5979eca3c585f9a91dcd83ded3f3a6\"\n",
        "!aria2c -x 16 -s 16 -d /content/Fooocus/models/loras -o MisakaMikotoNochekaiser881.safetensors \"https://civitai.com/api/download/models/1529810?type=Model&format=SafeTensor&token=6d5979eca3c585f9a91dcd83ded3f3a6\""
      ],
      "metadata": {
        "id": "c-izWWKYzFbt"
      },
      "execution_count": null,
      "outputs": []
    },
    {
      "cell_type": "code",
      "execution_count": null,
      "metadata": {
        "id": "dzrx-kGtXjk4"
      },
      "outputs": [],
      "source": [
        "# All in One\n",
        "!aria2c -x 16 -s 16 -d /content/Fooocus/models/loras -o MorfonicaALLinOne.safetensors \"https://civitai.com/api/download/models/1174227?type=Model&format=SafeTensor&token=6d5979eca3c585f9a91dcd83ded3f3a6\"\n",
        "!aria2c -x 16 -s 16 -d /content/Fooocus/models/loras -o MyGO7in1.safetensors \"https://civitai.com/api/download/models/965382?type=Model&format=SafeTensor&token=6d5979eca3c585f9a91dcd83ded3f3a6\"\n",
        "!aria2c -x 16 -s 16 -d /content/Fooocus/models/loras -o AveMujicaAllinOne.safetensors \"https://civitai.com/api/download/models/1232373?type=Model&format=SafeTensor&token=6d5979eca3c585f9a91dcd83ded3f3a6\"\n",
        "!aria2c -x 16 -s 16 -d /content/Fooocus/models/loras -o AveMujica5in1NoobXL.safetensors \"https://civitai.com/api/download/models/1545137?type=Model&format=SafeTensor&token=6d5979eca3c585f9a91dcd83ded3f3a6\""
      ]
    },
    {
      "cell_type": "code",
      "execution_count": null,
      "metadata": {
        "id": "4-OAWRh2YbjZ"
      },
      "outputs": [],
      "source": [
        "# Roselia\n",
        "!aria2c -x 16 -s 16 -d /content/Fooocus/models/loras -o ShirokaneRinko.safetensors \"https://civitai.com/api/download/models/1945429?type=Model&format=SafeTensor&token=6d5979eca3c585f9a91dcd83ded3f3a6\"\n",
        "!aria2c -x 16 -s 16 -d /content/Fooocus/models/loras -o HikawaSayo.safetensors \"https://civitai.com/api/download/models/1962826?type=Model&format=SafeTensor&token=6d5979eca3c585f9a91dcd83ded3f3a6\"\n",
        "!aria2c -x 16 -s 16 -d /content/Fooocus/models/loras -o UdagawaAko.safetensors \"https://civitai.com/api/download/models/1939016?type=Model&format=SafeTensor&token=6d5979eca3c585f9a91dcd83ded3f3a6\"\n",
        "!aria2c -x 16 -s 16 -d /content/Fooocus/models/loras -o MinatoYukina.safetensors \"https://civitai.com/api/download/models/1652261?type=Model&format=SafeTensor&token=6d5979eca3c585f9a91dcd83ded3f3a6\"\n",
        "!aria2c -x 16 -s 16 -d /content/Fooocus/models/loras -o LisaImai.safetensors \"https://civitai.com/api/download/models/1779126?type=Model&format=SafeTensor&token=6d5979eca3c585f9a91dcd83ded3f3a6\""
      ]
    },
    {
      "cell_type": "code",
      "execution_count": null,
      "metadata": {
        "id": "x8LDvbBNYyq7"
      },
      "outputs": [],
      "source": [
        "# Blue Archive\n",
        "!aria2c -x 16 -s 16 -d /content/Fooocus/models/loras -o TangaIbukiRegulerClothes.safetensors \"https://civitai.com/api/download/models/1779126?type=Model&format=SafeTensor&token=6d5979eca3c585f9a91dcd83ded3f3a6\"\n",
        "!aria2c -x 16 -s 16 -d /content/Fooocus/models/loras -o TangaIbukiOnePieceDress.safetensors \"https://civitai.com/api/download/models/1188296?type=Model&format=SafeTensor&token=6d5979eca3c585f9a91dcd83ded3f3a6\"\n",
        "!aria2c -x 16 -s 16 -d /content/Fooocus/models/loras -o TangaIbukiSwimsuit.safetensors \"https://civitai.com/api/download/models/1682670?type=Model&format=SafeTensor&token=6d5979eca3c585f9a91dcd83ded3f3a6\"\n",
        "!aria2c -x 16 -s 16 -d /content/Fooocus/models/loras -o AronaPony.safetensors \"https://civitai.com/api/download/models/638450?type=Model&format=SafeTensor&token=6d5979eca3c585f9a91dcd83ded3f3a6\"\n",
        "!aria2c -x 16 -s 16 -d /content/Fooocus/models/loras -o AjitaniHifumi.safetensors \"https://civitai.com/api/download/models/1508388?type=Model&format=SafeTensor&token=6d5979eca3c585f9a91dcd83ded3f3a6\"\n",
        "!aria2c -x 16 -s 16 -d /content/Fooocus/models/loras -o MisonoMika.safetensors \"https://civitai.com/api/download/models/2027410?type=Model&format=SafeTensor&token=6d5979eca3c585f9a91dcd83ded3f3a6\""
      ]
    },
    {
      "cell_type": "code",
      "execution_count": null,
      "metadata": {
        "id": "ZLsyr4fzVMhD"
      },
      "outputs": [],
      "source": [
        "# Afterglow\n",
        "!aria2c -x 16 -s 16 -d /content/Fooocus/models/loras -o MitakeRan.safetensors \"https://civitai.com/api/download/models/1859679?type=Model&format=SafeTensor&token=6d5979eca3c585f9a91dcd83ded3f3a6\"\n",
        "!aria2c -x 16 -s 16 -d /content/Fooocus/models/loras -o HimariUehara.safetensors \"https://civitai.com/api/download/models/1938495?type=Model&format=SafeTensor&token=6d5979eca3c585f9a91dcd83ded3f3a6\"\n",
        "!aria2c -x 16 -s 16 -d /content/Fooocus/models/loras -o AobaMoca.safetensors \"https://civitai.com/api/download/models/1952670?type=Model&format=SafeTensor&token=6d5979eca3c585f9a91dcd83ded3f3a6\"\n",
        "!aria2c -x 16 -s 16 -d /content/Fooocus/models/loras -o UdagawaTomoe.safetensors \"https://civitai.com/api/download/models/1841271?type=Model&format=SafeTensor&token=6d5979eca3c585f9a91dcd83ded3f3a6\""
      ]
    },
    {
      "cell_type": "code",
      "execution_count": null,
      "metadata": {
        "id": "jxMc7Cz9VVfZ"
      },
      "outputs": [],
      "source": [
        "# Raise a Suilen\n",
        "!aria2c -x 16 -s 16 -d /content/Fooocus/models/loras -o NyubaraReona.safetensors \"https://civitai.com/api/download/models/1657298?type=Model&format=SafeTensor&token=6d5979eca3c585f9a91dcd83ded3f3a6\"\n",
        "!aria2c -x 16 -s 16 -d /content/Fooocus/models/loras -o TamadeChiyuPony.safetensors \"https://civitai.com/api/download/models/1209434?type=Model&format=SafeTensor&token=6d5979eca3c585f9a91dcd83ded3f3a6\"\n",
        "!aria2c -x 16 -s 16 -d /content/Fooocus/models/loras -o SatoMasukiPony.safetensors \"https://civitai.com/api/download/models/1202355?type=Model&format=SafeTensor&token=6d5979eca3c585f9a91dcd83ded3f3a6\"\n",
        "!aria2c -x 16 -s 16 -d /content/Fooocus/models/loras -o WakanaReiPony.safetensors \"https://civitai.com/api/download/models/1129228?type=Model&format=SafeTensor&token=6d5979eca3c585f9a91dcd83ded3f3a6\""
      ]
    },
    {
      "cell_type": "code",
      "execution_count": null,
      "metadata": {
        "id": "BFzBiC0gVVhs",
        "collapsed": true
      },
      "outputs": [],
      "source": [
        "# Poppin'Party\n",
        "!aria2c -x 16 -s 16 -d /content/Fooocus/models/loras -o YamabukiSaaya.safetensors \"https://civitai.com/api/download/models/1919702?type=Model&format=SafeTensor&token=6d5979eca3c585f9a91dcd83ded3f3a6\"\n",
        "!aria2c -x 16 -s 16 -d /content/Fooocus/models/loras -o UshigomeRimi.safetensors \"https://civitai.com/api/download/models/1901772?type=Model&format=SafeTensor&token=6d5979eca3c585f9a91dcd83ded3f3a6\"\n",
        "!aria2c -x 16 -s 16 -d /content/Fooocus/models/loras -o IchigayaArisa.safetensors \"https://civitai.com/api/download/models/1648456?type=Model&format=SafeTensor&token=6d5979eca3c585f9a91dcd83ded3f3a6\"\n",
        "!aria2c -x 16 -s 16 -d /content/Fooocus/models/loras -o HanazonoTae.safetensors \"https://civitai.com/api/download/models/1666003?type=Model&format=SafeTensor&token=6d5979eca3c585f9a91dcd83ded3f3a6\"\n",
        "!aria2c -x 16 -s 16 -d /content/Fooocus/models/loras -o ToyamaKasumi.safetensors \"https://civitai.com/api/download/models/1891404?type=Model&format=SafeTensor&token=6d5979eca3c585f9a91dcd83ded3f3a6\""
      ]
    },
    {
      "cell_type": "code",
      "execution_count": null,
      "metadata": {
        "id": "th6XvboEV3Gi"
      },
      "outputs": [],
      "source": [
        "# Morfonica\n",
        "!aria2c -x 16 -s 16 -d /content/Fooocus/models/loras -o KurataMashiroAiden2023.safetensors \"https://civitai.com/api/download/models/1170241?type=Model&format=SafeTensor&token=6d5979eca3c585f9a91dcd83ded3f3a6\"\n",
        "!aria2c -x 16 -s 16 -d /content/Fooocus/models/loras -o KurataMashiroKafuuChino.safetensors \"https://civitai.com/api/download/models/980011?type=Model&format=SafeTensor&token=6d5979eca3c585f9a91dcd83ded3f3a6\"\n",
        "!aria2c -x 16 -s 16 -d /content/Fooocus/models/loras -o KurataMashiroAlterb0x.safetensors \"https://civitai.com/api/download/models/2021201?type=Model&format=SafeTensor&token=6d5979eca3c585f9a91dcd83ded3f3a6\""
      ]
    },
    {
      "cell_type": "code",
      "execution_count": null,
      "metadata": {
        "id": "1Zilb3Koq6v5"
      },
      "outputs": [],
      "source": [
        "# Yuru Yuri\n",
        "!aria2c -x 16 -s 16 -d /content/Fooocus/models/loras -o SugiuraAyano.safetensors \"https://civitai.com/api/download/models/1301392?type=Model&format=SafeTensor&token=6d5979eca3c585f9a91dcd83ded3f3a6\"\n",
        "!aria2c -x 16 -s 16 -d /content/Fooocus/models/loras -o AkazaAkari.safetensors \"https://civitai.com/api/download/models/1301295?type=Model&format=SafeTensor&token=6d5979eca3c585f9a91dcd83ded3f3a6\"\n",
        "!aria2c -x 16 -s 16 -d /content/Fooocus/models/loras -o ToshinoKyouko.safetensors \"https://civitai.com/api/download/models/1301554?type=Model&format=SafeTensor&token=6d5979eca3c585f9a91dcd83ded3f3a6\"\n",
        "!aria2c -x 16 -s 16 -d /content/Fooocus/models/loras -o FunamiYui.safetensors \"https://civitai.com/api/download/models/1301531?type=Model&format=SafeTensor&token=6d5979eca3c585f9a91dcd83ded3f3a6\"\n",
        "!aria2c -x 16 -s 16 -d /content/Fooocus/models/loras -o MatsumotoRise.safetensors \"https://civitai.com/api/download/models/1301492?type=Model&format=SafeTensor&token=6d5979eca3c585f9a91dcd83ded3f3a6\"\n",
        "!aria2c -x 16 -s 16 -d /content/Fooocus/models/loras -o IkedaChitose.safetensors \"https://civitai.com/api/download/models/1301465?type=Model&format=SafeTensor&token=6d5979eca3c585f9a91dcd83ded3f3a6\"\n",
        "!aria2c -x 16 -s 16 -d /content/Fooocus/models/loras -o YoshikawaChinatsu.safetensors \"https://civitai.com/api/download/models/1301433?type=Model&format=SafeTensor&token=6d5979eca3c585f9a91dcd83ded3f3a6\"\n",
        "!aria2c -x 16 -s 16 -d /content/Fooocus/models/loras -o OomuroSakurako.safetensors \"https://civitai.com/api/download/models/1293184?type=Model&format=SafeTensor&token=6d5979eca3c585f9a91dcd83ded3f3a6\"\n",
        "!aria2c -x 16 -s 16 -d /content/Fooocus/models/loras -o FurutaniHimawari.safetensors \"https://civitai.com/api/download/models/546226?type=Model&format=SafeTensor&token=6d5979eca3c585f9a91dcd83ded3f3a6\""
      ]
    },
    {
      "cell_type": "code",
      "execution_count": null,
      "metadata": {
        "id": "FH_XDimErn_J"
      },
      "outputs": [],
      "source": [
        "# Vocaloid\n",
        "!aria2c -x 16 -s 16 -d /content/Fooocus/models/loras -o HatsuneMikuRemake.safetensors \"https://civitai.com/api/download/models/1296787?type=Model&format=SafeTensor&token=6d5979eca3c585f9a91dcd83ded3f3a6\"\n",
        "!aria2c -x 16 -s 16 -d /content/Fooocus/models/loras -o KagamineRinRemake.safetensors \"https://civitai.com/api/download/models/1296796?type=Model&format=SafeTensor&token=6d5979eca3c585f9a91dcd83ded3f3a6\""
      ]
    },
    {
      "cell_type": "code",
      "execution_count": null,
      "metadata": {
        "id": "mvy7GGYGm4vn"
      },
      "outputs": [],
      "source": [
        "# Uma Musume\n",
        "!aria2c -x 16 -s 16 -d /content/Fooocus/models/loras -o MejiroArdanNocheKaiser.safetensors \"https://civitai.com/api/download/models/1954956?type=Model&format=SafeTensor&token=6d5979eca3c585f9a91dcd83ded3f3a6\"\n",
        "!aria2c -x 16 -s 16 -d /content/Fooocus/models/loras -o OguriCapNocheKaiser.safetensors \"https://civitai.com/api/download/models/1954973?type=Model&format=SafeTensor&token=6d5979eca3c585f9a91dcd83ded3f3a6\""
      ]
    },
    {
      "cell_type": "code",
      "execution_count": null,
      "metadata": {
        "id": "Y7-2gAmmroDX"
      },
      "outputs": [],
      "source": [
        "# Hololive\n",
        "!aria2c -x 16 -s 16 -d /content/Fooocus/models/loras -o ShigureUi.safetensors \"https://civitai.com/api/download/models/1634366?type=Model&format=SafeTensor&token=6d5979eca3c585f9a91dcd83ded3f3a6\"\n",
        "!aria2c -x 16 -s 16 -d /content/Fooocus/models/loras -o OozoraSubaru.safetensors \"https://civitai.com/api/download/models/2027294?type=Model&format=SafeTensor&token=6d5979eca3c585f9a91dcd83ded3f3a6\""
      ]
    },
    {
      "cell_type": "code",
      "execution_count": null,
      "metadata": {
        "id": "FLlEPbRoS4n-",
        "collapsed": true
      },
      "outputs": [],
      "source": [
        "# Bocchi the Rock\n",
        "!aria2c -x 16 -s 16 -d /content/Fooocus/models/loras -o IkuyoKita.safetensors \"https://civitai.com/api/download/models/1546601?type=Model&format=SafeTensor&token=6d5979eca3c585f9a91dcd83ded3f3a6\"\n",
        "!aria2c -x 16 -s 16 -d /content/Fooocus/models/loras -o IjichiNijika.safetensors \"https://civitai.com/api/download/models/1566761?type=Model&format=SafeTensor&token=6d5979eca3c585f9a91dcd83ded3f3a6\"\n",
        "!aria2c -x 16 -s 16 -d /content/Fooocus/models/loras -o YamadaRyo.safetensors \"https://civitai.com/api/download/models/1405037?type=Model&format=SafeTensor&token=6d5979eca3c585f9a91dcd83ded3f3a6\"\n",
        "!aria2c -x 16 -s 16 -d /content/Fooocus/models/loras -o GotohHitori.safetensors \"https://civitai.com/api/download/models/1375057?type=Model&format=SafeTensor&token=6d5979eca3c585f9a91dcd83ded3f3a6\""
      ]
    },
    {
      "cell_type": "code",
      "execution_count": null,
      "metadata": {
        "id": "CE3xHKIVDp9r"
      },
      "outputs": [],
      "source": [
        "# Takopi no Genzai\n",
        "!aria2c -x 16 -s 16 -d /content/Fooocus/models/loras -o MarinaKirazaka.safetensors \"https://civitai.com/api/download/models/1958010?type=Model&format=SafeTensor&token=6d5979eca3c585f9a91dcd83ded3f3a6\"\n",
        "!aria2c -x 16 -s 16 -d /content/Fooocus/models/loras -o ShizukaKuze.safetensors \"https://civitai.com/api/download/models/1958011?type=Model&format=SafeTensor&token=6d5979eca3c585f9a91dcd83ded3f3a6\""
      ]
    },
    {
      "cell_type": "code",
      "source": [
        "# K-ON\n",
        "!aria2c -x 16 -s 16 -d /content/Fooocus/models/loras -o HirasawaYui.safetensors \"https://civitai.com/api/download/models/1730290?type=Model&format=SafeTensor&token=6d5979eca3c585f9a91dcd83ded3f3a6\"\n",
        "!aria2c -x 16 -s 16 -d /content/Fooocus/models/loras -o MioAKiyama.safetensors \"https://civitai.com/api/download/models/1730292?type=Model&format=SafeTensor&token=6d5979eca3c585f9a91dcd83ded3f3a6\"\n",
        "!aria2c -x 16 -s 16 -d /content/Fooocus/models/loras -o AzusaNakano.safetensors \"https://civitai.com/api/download/models/1730322?type=Model&format=SafeTensor&token=6d5979eca3c585f9a91dcd83ded3f3a6\"\n",
        "!aria2c -x 16 -s 16 -d /content/Fooocus/models/loras -o TsumugiKotobuki.safetensors \"https://civitai.com/api/download/models/1730323?type=Model&format=SafeTensor&token=6d5979eca3c585f9a91dcd83ded3f3a6\"\n",
        "!aria2c -x 16 -s 16 -d /content/Fooocus/models/loras -o RitsuTainaka.safetensors \"https://civitai.com/api/download/models/1730294?type=Model&format=SafeTensor&token=6d5979eca3c585f9a91dcd83ded3f3a6\"\n",
        "!aria2c -x 16 -s 16 -d /content/Fooocus/models/loras -o HirasawaUi.safetensors \"https://civitai.com/api/download/models/1730324?type=Model&format=SafeTensor&token=6d5979eca3c585f9a91dcd83ded3f3a6\""
      ],
      "metadata": {
        "id": "rhYUSxcy3C5K"
      },
      "execution_count": null,
      "outputs": []
    },
    {
      "cell_type": "code",
      "execution_count": null,
      "metadata": {
        "id": "-AHhqSqzBqQc",
        "collapsed": true
      },
      "outputs": [],
      "source": [
        "# Clothing\n",
        "!aria2c -x 16 -s 16 -d /content/Fooocus/models/loras -o KindergartenClothing.safetensors \"https://civitai.com/api/download/models/1869048?type=Model&format=SafeTensor&token=6d5979eca3c585f9a91dcd83ded3f3a6\"\n",
        "!aria2c -x 16 -s 16 -d /content/Fooocus/models/loras -o HospitalGown.safetensors \"https://civitai.com/api/download/models/1806743?type=Model&format=SafeTensor&token=6d5979eca3c585f9a91dcd83ded3f3a6\"\n",
        "!aria2c -x 16 -s 16 -d /content/Fooocus/models/loras -o PlayboyBunnySuit.safetensors \"https://civitai.com/api/download/models/1618535?type=Model&format=SafeTensor&token=6d5979eca3c585f9a91dcd83ded3f3a6\"\n",
        "!aria2c -x 16 -s 16 -d /content/Fooocus/models/loras -o SiriusRabbitofParadise.safetensors \"https://civitai.com/api/download/models/1121716?type=Model&format=SafeTensor&token=6d5979eca3c585f9a91dcd83ded3f3a6\"\n",
        "!aria2c -x 16 -s 16 -d /content/Fooocus/models/loras -o MicroBikini.safetensors \"https://civitai.com/api/download/models/1687553?type=Model&format=SafeTensor&token=6d5979eca3c585f9a91dcd83ded3f3a6\"\n",
        "!aria2c -x 16 -s 16 -d /content/Fooocus/models/loras -o SailorBikiniUniform.safetensors \"https://civitai.com/api/download/models/1973711?type=Model&format=SafeTensor&token=6d5979eca3c585f9a91dcd83ded3f3a6\"\n",
        "!aria2c -x 16 -s 16 -d /content/Fooocus/models/loras -o RuffleBikini.safetensors \"https://civitai.com/api/download/models/1640416?type=Model&format=SafeTensor&token=6d5979eca3c585f9a91dcd83ded3f3a6\"\n",
        "!aria2c -x 16 -s 16 -d /content/Fooocus/models/loras -o NurseryTeacherApron.safetensors \"https://civitai.com/api/download/models/1438444?type=Model&format=SafeTensor&token=6d5979eca3c585f9a91dcd83ded3f3a6\"\n",
        "!aria2c -x 16 -s 16 -d /content/Fooocus/models/loras -o SportsBraandPanties.safetensors \"https://civitai.com/api/download/models/1990291?type=Model&format=SafeTensor&token=6d5979eca3c585f9a91dcd83ded3f3a6\"\n",
        "!aria2c -x 16 -s 16 -d /content/Fooocus/models/loras -o IdolOutfit.safetensors \"https://civitai.com/api/download/models/1467517?type=Model&format=SafeTensor&token=6d5979eca3c585f9a91dcd83ded3f3a6\"\n",
        "!aria2c -x 16 -s 16 -d /content/Fooocus/models/loras -o GlitteringIdolOutfit.safetensors \"https://civitai.com/api/download/models/1438461?type=Model&format=SafeTensor&token=6d5979eca3c585f9a91dcd83ded3f3a6\"\n",
        "!aria2c -x 16 -s 16 -d /content/Fooocus/models/loras -o GymUniform.safetensors \"https://civitai.com/api/download/models/1205178?type=Model&format=SafeTensor&token=6d5979eca3c585f9a91dcd83ded3f3a6\""
      ]
    },
    {
      "cell_type": "code",
      "execution_count": null,
      "metadata": {
        "id": "GUkxbkx-B5Te",
        "collapsed": true
      },
      "outputs": [],
      "source": [
        "# Concept\n",
        "!aria2c -x 16 -s 16 -d /content/Fooocus/models/loras -o HusbandAndWifePregnant.safetensors \"https://civitai.com/api/download/models/1698137?type=Model&format=SafeTensor&token=6d5979eca3c585f9a91dcd83ded3f3a6\"\n",
        "!aria2c -x 16 -s 16 -d /content/Fooocus/models/loras -o LightingCigarette.safetensors \"https://civitai.com/api/download/models/1874325?type=Model&format=SafeTensor&token=6d5979eca3c585f9a91dcd83ded3f3a6\"\n",
        "!aria2c -x 16 -s 16 -d /content/Fooocus/models/loras -o IncomingPockyKiss.safetensors \"https://civitai.com/api/download/models/1762096?type=Model&format=SafeTensor&token=6d5979eca3c585f9a91dcd83ded3f3a6\"\n",
        "!aria2c -x 16 -s 16 -d /content/Fooocus/models/loras -o MoeMoeKyun.safetensors \"https://civitai.com/api/download/models/1130919?type=Model&format=SafeTensor&token=6d5979eca3c585f9a91dcd83ded3f3a6\"\n",
        "!aria2c -x 16 -s 16 -d /content/Fooocus/models/loras -o LapPillow.safetensors \"https://civitai.com/api/download/models/1551883?type=Model&format=SafeTensor&token=6d5979eca3c585f9a91dcd83ded3f3a6\"\n",
        "!aria2c -x 16 -s 16 -d /content/Fooocus/models/loras -o LeaningOnPersonSide-By-Side.safetensors \"https://civitai.com/api/download/models/1547960?type=Model&format=SafeTensor&token=6d5979eca3c585f9a91dcd83ded3f3a6\"\n",
        "!aria2c -x 16 -s 16 -d /content/Fooocus/models/loras -o AnimeFeet.safetensors \"https://civitai.com/api/download/models/1277962?type=Model&format=SafeTensor&token=6d5979eca3c585f9a91dcd83ded3f3a6\"\n",
        "!aria2c -x 16 -s 16 -d /content/Fooocus/models/loras -o PussySandwitch.safetensors \"https://civitai.com/api/download/models/1693313?type=Model&format=SafeTensor&token=6d5979eca3c585f9a91dcd83ded3f3a6\"\n",
        "!aria2c -x 16 -s 16 -d /content/Fooocus/models/loras -o BetterDetailedPussyandAnus.safetensors \"https://civitai.com/api/download/models/1785482?type=Model&format=SafeTensor&token=6d5979eca3c585f9a91dcd83ded3f3a6\"\n",
        "!aria2c -x 16 -s 16 -d /content/Fooocus/models/loras -o AestheticQualityModifiers-BestQuality.safetensors \"https://civitai.com/api/download/models/1116960?type=Model&format=SafeTensor&token=6d5979eca3c585f9a91dcd83ded3f3a6\"\n",
        "!aria2c -x 16 -s 16 -d /content/Fooocus/models/loras -o AestheticQualityModifiers-Masterpiece.safetensors \"https://civitai.com/api/download/models/1050644?type=Model&format=SafeTensor&token=6d5979eca3c585f9a91dcd83ded3f3a6\"\n",
        "!aria2c -x 16 -s 16 -d /content/Fooocus/models/loras -o PregnancyTest.safetensors \"https://civitai.com/api/download/models/1173621?type=Model&format=SafeTensor&token=6d5979eca3c585f9a91dcd83ded3f3a6\"\n",
        "!aria2c -x 16 -s 16 -d /content/Fooocus/models/loras -o SmokingLyCoris.safetensors \"https://civitai.com/api/download/models/1191354?type=Model&format=SafeTensor&token=6d5979eca3c585f9a91dcd83ded3f3a6\"\n",
        "!aria2c -x 16 -s 16 -d /content/Fooocus/models/loras -o TalkingonPhone.safetensors \"https://civitai.com/api/download/models/1026463?type=Model&format=SafeTensor&token=6d5979eca3c585f9a91dcd83ded3f3a6\"\n",
        "!aria2c -x 16 -s 16 -d /content/Fooocus/models/loras -o BackLighting.safetensors \"https://civitai.com/api/download/models/1151740?type=Model&format=SafeTensor&token=6d5979eca3c585f9a91dcd83ded3f3a6\"\n",
        "!aria2c -x 16 -s 16 -d /content/Fooocus/models/loras -o Humping_GrindingMasturbation.safetensors \"https://civitai.com/api/download/models/1827633?type=Model&format=SafeTensor&token=6d5979eca3c585f9a91dcd83ded3f3a6\"\n",
        "!aria2c -x 16 -s 16 -d /content/Fooocus/models/loras -o IDCard.safetensors \"https://civitai.com/api/download/models/1979072?type=Model&format=SafeTensor&token=6d5979eca3c585f9a91dcd83ded3f3a6\"\n",
        "!aria2c -x 16 -s 16 -d /content/Fooocus/models/loras -o Defloration.safetensors \"https://civitai.com/api/download/models/1022303?type=Model&format=SafeTensor&token=6d5979eca3c585f9a91dcd83ded3f3a6\"\n",
        "!aria2c -x 16 -s 16 -d /content/Fooocus/models/loras -o UnderWater.safetensors \"https://civitai.com/api/download/models/1016010?type=Model&format=SafeTensor&token=6d5979eca3c585f9a91dcd83ded3f3a6\"\n",
        "!aria2c -x 16 -s 16 -d /content/Fooocus/models/loras -o DoubleInsertion.safetensors \"https://civitai.com/api/download/models/1173606?type=Model&format=SafeTensor&token=6d5979eca3c585f9a91dcd83ded3f3a6\"\n",
        "!aria2c -x 16 -s 16 -d /content/Fooocus/models/loras -o CrotchonPussyLyCorisNoobAI.safetensors \"https://civitai.com/api/download/models/1979009?type=Model&format=SafeTensor&token=6d5979eca3c585f9a91dcd83ded3f3a6\"\n",
        "!aria2c -x 16 -s 16 -d /content/Fooocus/models/loras -o SmellingMasturbationLyCoris.safetensors \"https://civitai.com/api/download/models/1193397?type=Model&format=SafeTensor&token=6d5979eca3c585f9a91dcd83ded3f3a6\"\n",
        "!aria2c -x 16 -s 16 -d /content/Fooocus/models/loras -o ClothesPull.safetensors \"https://civitai.com/api/download/models/1019729?type=Model&format=SafeTensor&token=6d5979eca3c585f9a91dcd83ded3f3a6\"\n",
        "!aria2c -x 16 -s 16 -d /content/Fooocus/models/loras -o MultiplePussy.safetensors \"https://civitai.com/api/download/models/1127384?type=Model&format=SafeTensor&token=6d5979eca3c585f9a91dcd83ded3f3a6\"\n",
        "!aria2c -x 16 -s 16 -d /content/Fooocus/models/loras -o PresentPanties.safetensors \"https://civitai.com/api/download/models/1077910?type=Model&format=SafeTensor&token=6d5979eca3c585f9a91dcd83ded3f3a6\"\n",
        "!aria2c -x 16 -s 16 -d /content/Fooocus/models/loras -o PantyPullLyCoris.safetensors \"https://civitai.com/api/download/models/1120792?type=Model&format=SafeTensor&token=6d5979eca3c585f9a91dcd83ded3f3a6\"\n",
        "!aria2c -x 16 -s 16 -d /content/Fooocus/models/loras -o CoveringPrivates.safetensors \"https://civitai.com/api/download/models/1016594?type=Model&format=SafeTensor&token=6d5979eca3c585f9a91dcd83ded3f3a6\"\n",
        "!aria2c -x 16 -s 16 -d /content/Fooocus/models/loras -o SuspendedCongressBolero537.safetensors \"https://civitai.com/api/download/models/1158089?type=Model&format=SafeTensor&token=6d5979eca3c585f9a91dcd83ded3f3a6\"\n",
        "!aria2c -x 16 -s 16 -d /content/Fooocus/models/loras -o PussyJuice.safetensors \"https://civitai.com/api/download/models/1135306?type=Model&format=SafeTensor&token=6d5979eca3c585f9a91dcd83ded3f3a6\"\n",
        "!aria2c -x 16 -s 16 -d /content/Fooocus/models/loras -o AnalRose.safetensors \"https://civitai.com/api/download/models/1176549?type=Model&format=SafeTensor&token=6d5979eca3c585f9a91dcd83ded3f3a6\"\n",
        "!aria2c -x 16 -s 16 -d /content/Fooocus/models/loras -o FrenchKiss.safetensors \"https://civitai.com/api/download/models/1552761?type=Model&format=SafeTensor&token=6d5979eca3c585f9a91dcd83ded3f3a6\"\n",
        "!aria2c -x 16 -s 16 -d /content/Fooocus/models/loras -o NetorareTalkingOnPhoneV2.safetensors \"https://civitai.com/api/download/models/2000759?type=Model&format=SafeTensor&token=6d5979eca3c585f9a91dcd83ded3f3a6\"\n",
        "!aria2c -x 16 -s 16 -d /content/Fooocus/models/loras -o AssAgainstGlass.safetensors \"https://civitai.com/api/download/models/2011139?type=Model&format=SafeTensor&token=6d5979eca3c585f9a91dcd83ded3f3a6\"\n",
        "!aria2c -x 16 -s 16 -d /content/Fooocus/models/loras -o LegLockIrrumatio.safetensors \"https://civitai.com/api/download/models/1959733?type=Model&format=SafeTensor&token=6d5979eca3c585f9a91dcd83ded3f3a6\"\n",
        "!aria2c -x 16 -s 16 -d /content/Fooocus/models/loras -o PantyPullPOV.safetensors \"https://civitai.com/api/download/models/1954976?type=Model&format=SafeTensor&token=6d5979eca3c585f9a91dcd83ded3f3a6\"\n",
        "!aria2c -x 16 -s 16 -d /content/Fooocus/models/loras -o HandsUpSittingSex.safetensors \"https://civitai.com/api/download/models/1950942?type=Model&format=SafeTensor&token=6d5979eca3c585f9a91dcd83ded3f3a6\"\n",
        "!aria2c -x 16 -s 16 -d /content/Fooocus/models/loras -o SuspendedCongressNochekaiser881.safetensors \"https://civitai.com/api/download/models/1955458?type=Model&format=SafeTensor&token=6d5979eca3c585f9a91dcd83ded3f3a6\"\n",
        "!aria2c -x 16 -s 16 -d /content/Fooocus/models/loras -o PantyPullUndressingFromBehind.safetensors \"https://civitai.com/api/download/models/1976993?type=Model&format=SafeTensor&token=6d5979eca3c585f9a91dcd83ded3f3a6\"\n",
        "!aria2c -x 16 -s 16 -d /content/Fooocus/models/loras -o TawawaonMondaySmugBentOverBikiniTowel.safetensors \"https://civitai.com/api/download/models/1963073?type=Model&format=SafeTensor&token=6d5979eca3c585f9a91dcd83ded3f3a6\"\n",
        "!aria2c -x 16 -s 16 -d /content/Fooocus/models/loras -o TawawaonMondayWaterSplashing.safetensors \"https://civitai.com/api/download/models/1963071?type=Model&format=SafeTensor&token=6d5979eca3c585f9a91dcd83ded3f3a6\"\n",
        "!aria2c -x 16 -s 16 -d /content/Fooocus/models/loras -o BedInvitation.safetensors \"https://civitai.com/api/download/models/1778920?type=Model&format=SafeTensor&token=6d5979eca3c585f9a91dcd83ded3f3a6\"\n",
        "!aria2c -x 16 -s 16 -d /content/Fooocus/models/loras -o LegUpPantyPull.safetensors \"https://civitai.com/api/download/models/1639087?type=Model&format=SafeTensor&token=6d5979eca3c585f9a91dcd83ded3f3a6\"\n",
        "!aria2c -x 16 -s 16 -d /content/Fooocus/models/loras -o CondominMouth.safetensors \"https://civitai.com/api/download/models/1627730?type=Model&format=SafeTensor&token=6d5979eca3c585f9a91dcd83ded3f3a6\"\n",
        "!aria2c -x 16 -s 16 -d /content/Fooocus/models/loras -o Deepthroat.safetensors \"https://civitai.com/api/download/models/1627736?type=Model&format=SafeTensor&token=6d5979eca3c585f9a91dcd83ded3f3a6\"\n",
        "!aria2c -x 16 -s 16 -d /content/Fooocus/models/loras -o GrabbingAnothersHair.safetensors \"https://civitai.com/api/download/models/1615717?type=Model&format=SafeTensor&token=6d5979eca3c585f9a91dcd83ded3f3a6\"\n",
        "!aria2c -x 16 -s 16 -d /content/Fooocus/models/loras -o CunnilingusFromSide.safetensors \"https://civitai.com/api/download/models/1554669?type=Model&format=SafeTensor&token=6d5979eca3c585f9a91dcd83ded3f3a6\"\n",
        "!aria2c -x 16 -s 16 -d /content/Fooocus/models/loras -o GuyTiredAfterSex.safetensors \"https://civitai.com/api/download/models/1517782?type=Model&format=SafeTensor&token=6d5979eca3c585f9a91dcd83ded3f3a6\"\n",
        "!aria2c -x 16 -s 16 -d /content/Fooocus/models/loras -o StraddlingPaizuri.safetensors \"https://civitai.com/api/download/models/1525680?type=Model&format=SafeTensor&token=6d5979eca3c585f9a91dcd83ded3f3a6\"\n",
        "!aria2c -x 16 -s 16 -d /content/Fooocus/models/loras -o IDCardAfterSex.safetensors \"https://civitai.com/api/download/models/1515219?type=Model&format=SafeTensor&token=6d5979eca3c585f9a91dcd83ded3f3a6\"\n",
        "!aria2c -x 16 -s 16 -d /content/Fooocus/models/loras -o CheekonGlass.safetensors \"https://civitai.com/api/download/models/1428484?type=Model&format=SafeTensor&token=6d5979eca3c585f9a91dcd83ded3f3a6\"\n",
        "!aria2c -x 16 -s 16 -d /content/Fooocus/models/loras -o PenisShadow.safetensors \"https://civitai.com/api/download/models/1489271?type=Model&format=SafeTensor&token=6d5979eca3c585f9a91dcd83ded3f3a6\"\n",
        "!aria2c -x 16 -s 16 -d /content/Fooocus/models/loras -o ReverseNursingHandjob.safetensors \"https://civitai.com/api/download/models/1428703?type=Model&format=SafeTensor&token=6d5979eca3c585f9a91dcd83ded3f3a6\"\n",
        "!aria2c -x 16 -s 16 -d /content/Fooocus/models/loras -o PenisOverOneEye.safetensors \"https://civitai.com/api/download/models/1428425?type=Model&format=SafeTensor&token=6d5979eca3c585f9a91dcd83ded3f3a6\"\n",
        "!aria2c -x 16 -s 16 -d /content/Fooocus/models/loras -o DoggystyleAsphyxiation.safetensors \"https://civitai.com/api/download/models/1417364?type=Model&format=SafeTensor&token=6d5979eca3c585f9a91dcd83ded3f3a6\"\n",
        "!aria2c -x 16 -s 16 -d /content/Fooocus/models/loras -o MtuVirus.safetensors \"https://civitai.com/api/download/models/1419456?type=Model&format=SafeTensor&token=6d5979eca3c585f9a91dcd83ded3f3a6\"\n",
        "!aria2c -x 16 -s 16 -d /content/Fooocus/models/loras -o X-rayGlasses.safetensors \"https://civitai.com/api/download/models/1391141?type=Model&format=SafeTensor&token=6d5979eca3c585f9a91dcd83ded3f3a6\"\n",
        "!aria2c -x 16 -s 16 -d /content/Fooocus/models/loras -o FemaleMasturbation.safetensors \"https://civitai.com/api/download/models/1388230?type=Model&format=SafeTensor&token=6d5979eca3c585f9a91dcd83ded3f3a6\"\n",
        "!aria2c -x 16 -s 16 -d /content/Fooocus/models/loras -o GlossySkin.safetensors \"https://civitai.com/api/download/models/1467892?type=Model&format=SafeTensor&token=6d5979eca3c585f9a91dcd83ded3f3a6\"\n",
        "!aria2c -x 16 -s 16 -d /content/Fooocus/models/loras -o EnchantingEyesDetailedEyes.safetensors \"https://civitai.com/api/download/models/1463317?type=Model&format=SafeTensor&token=6d5979eca3c585f9a91dcd83ded3f3a6\"\n",
        "!aria2c -x 16 -s 16 -d /content/Fooocus/models/loras -o LickingPenisFromSide.safetensors \"https://civitai.com/api/download/models/1635386?type=Model&format=SafeTensor&token=6d5979eca3c585f9a91dcd83ded3f3a6\"\n",
        "!aria2c -x 16 -s 16 -d /content/Fooocus/models/loras -o HugeCumOnFace.safetensors \"https://civitai.com/api/download/models/1790942?type=Model&format=SafeTensor&token=6d5979eca3c585f9a91dcd83ded3f3a6\"\n",
        "!aria2c -x 16 -s 16 -d /content/Fooocus/models/loras -o HandsUpPaizuri.safetensors \"https://civitai.com/api/download/models/1659787?type=Model&format=SafeTensor&token=6d5979eca3c585f9a91dcd83ded3f3a6\"\n",
        "!aria2c -x 16 -s 16 -d /content/Fooocus/models/loras -o BreastDrop.safetensors \"https://civitai.com/api/download/models/1495425?type=Model&format=SafeTensor&token=6d5979eca3c585f9a91dcd83ded3f3a6\"\n",
        "!aria2c -x 16 -s 16 -d /content/Fooocus/models/loras -o IL_hymenVagina.safetensors \"https://civitai.com/api/download/models/1847517?type=Model&format=SafeTensor&token=6d5979eca3c585f9a91dcd83ded3f3a6\"\n",
        "!aria2c -x 16 -s 16 -d /content/Fooocus/models/loras -o MissionaryAsphyxiation.safetensors \"https://civitai.com/api/download/models/1423957?type=Model&format=SafeTensor&token=6d5979eca3c585f9a91dcd83ded3f3a6\"\n",
        "!aria2c -x 16 -s 16 -d /content/Fooocus/models/loras -o StarryHair.safetensors \"https://civitai.com/api/download/models/1455059?type=Model&format=SafeTensor&token=6d5979eca3c585f9a91dcd83ded3f3a6\"\n",
        "!aria2c -x 16 -s 16 -d /content/Fooocus/models/loras -o HomelessPerson_AbandonedGirl_PoorPerson.safetensors \"https://civitai.com/api/download/models/1336166?type=Model&format=SafeTensor&token=6d5979eca3c585f9a91dcd83ded3f3a6\"\n",
        "!aria2c -x 16 -s 16 -d /content/Fooocus/models/loras -o AfterFellatiowithMizumizuniStyle.safetensors \"https://civitai.com/api/download/models/1765969?type=Model&format=SafeTensor&token=6d5979eca3c585f9a91dcd83ded3f3a6\""
      ]
    },
    {
      "cell_type": "code",
      "execution_count": null,
      "metadata": {
        "id": "fxklDXZbnpoh",
        "collapsed": true
      },
      "outputs": [],
      "source": [
        "# Style\n",
        "!aria2c -x 16 -s 16 -d /content/Fooocus/models/loras -o AnimeFigureNendroidStyles.safetensors \"https://civitai.com/api/download/models/1025465?type=Model&format=SafeTensor&token=6d5979eca3c585f9a91dcd83ded3f3a6\"\n",
        "!aria2c -x 16 -s 16 -d /content/Fooocus/models/loras -o LineArtStyles.safetensors \"https://civitai.com/api/download/models/1224875?type=Model&format=SafeTensor&token=6d5979eca3c585f9a91dcd83ded3f3a6\"\n",
        "!aria2c -x 16 -s 16 -d /content/Fooocus/models/loras -o T1kosewadStyles.safetensors \"https://civitai.com/api/download/models/1796684?type=Model&format=SafeTensor&token=6d5979eca3c585f9a91dcd83ded3f3a6\"\n",
        "!aria2c -x 16 -s 16 -d /content/Fooocus/models/loras -o MangamasterStyles.safetensors \"https://civitai.com/api/download/models/1168742?type=Model&format=SafeTensor&token=6d5979eca3c585f9a91dcd83ded3f3a6\"\n",
        "!aria2c -x 16 -s 16 -d /content/Fooocus/models/loras -o AnimePosterStyles.safetensors \"https://civitai.com/api/download/models/972368?type=Model&format=SafeTensor&token=6d5979eca3c585f9a91dcd83ded3f3a6\"\n",
        "!aria2c -x 16 -s 16 -d /content/Fooocus/models/loras -o HLStyleWSSKXAestheticBloomStyles.safetensors \"https://civitai.com/api/download/models/1261280?type=Model&format=SafeTensor&token=6d5979eca3c585f9a91dcd83ded3f3a6\"\n",
        "!aria2c -x 16 -s 16 -d /content/Fooocus/models/loras -o STYLESGENillust0_2v.safetensors \"https://civitai.com/api/download/models/1099179?type=Model&format=SafeTensor&token=6d5979eca3c585f9a91dcd83ded3f3a6\"\n",
        "!aria2c -x 16 -s 16 -d /content/Fooocus/models/loras -o Haraid21ShiiroStyles.safetensors \"https://civitai.com/api/download/models/1436066?type=Model&format=SafeTensor&token=6d5979eca3c585f9a91dcd83ded3f3a6\"\n",
        "!aria2c -x 16 -s 16 -d /content/Fooocus/models/loras -o ZenlessZoneZeroShiiroStyles.safetensors \"https://civitai.com/api/download/models/1579846?type=Model&format=SafeTensor&token=6d5979eca3c585f9a91dcd83ded3f3a6\"\n",
        "!aria2c -x 16 -s 16 -d /content/Fooocus/models/loras -o Aosiai123ShiiroStyles.safetensors \"https://civitai.com/api/download/models/1520880?type=Model&format=SafeTensor&token=6d5979eca3c585f9a91dcd83ded3f3a6\"\n",
        "!aria2c -x 16 -s 16 -d /content/Fooocus/models/loras -o BrightShiiroStyles.safetensors \"https://civitai.com/api/download/models/1570117?type=Model&format=SafeTensor&token=6d5979eca3c585f9a91dcd83ded3f3a6\"\n",
        "!aria2c -x 16 -s 16 -d /content/Fooocus/models/loras -o JimaShiiroStyles.safetensors \"https://civitai.com/api/download/models/1503239?type=Model&format=SafeTensor&token=6d5979eca3c585f9a91dcd83ded3f3a6\"\n",
        "!aria2c -x 16 -s 16 -d /content/Fooocus/models/loras -o CunnyStyleV7.safetensors \"https://civitai.com/api/download/models/1920055?type=Model&format=SafeTensor&token=6d5979eca3c585f9a91dcd83ded3f3a6\"\n",
        "!aria2c -x 16 -s 16 -d /content/Fooocus/models/loras -o EdanomaMeuShiiroStyles.safetensors \"https://civitai.com/api/download/models/1508808?type=Model&format=SafeTensor&token=6d5979eca3c585f9a91dcd83ded3f3a6\"\n",
        "!aria2c -x 16 -s 16 -d /content/Fooocus/models/loras -o BangDreamStyles.safetensors \"https://civitai.com/api/download/models/1887502?type=Model&format=SafeTensor&token=6d5979eca3c585f9a91dcd83ded3f3a6\"\n",
        "!aria2c -x 16 -s 16 -d /content/Fooocus/models/loras -o IdolyPrideStyles.safetensors \"https://civitai.com/api/download/models/1397229?type=Model&format=SafeTensor&token=6d5979eca3c585f9a91dcd83ded3f3a6\"\n",
        "!aria2c -x 16 -s 16 -d /content/Fooocus/models/loras -o THEIDOLM@STERCINDERELLAGIRLSU149Styles.safetensors \"https://civitai.com/api/download/models/1855160?type=Model&format=SafeTensor&token=6d5979eca3c585f9a91dcd83ded3f3a6\"\n",
        "!aria2c -x 16 -s 16 -d /content/Fooocus/models/loras -o ToaruStyles.safetensors \"https://civitai.com/api/download/models/1432451?type=Model&format=SafeTensor&token=6d5979eca3c585f9a91dcd83ded3f3a6\"\n",
        "!aria2c -x 16 -s 16 -d /content/Fooocus/models/loras -o LycorisRecoilStyles.safetensors \"https://civitai.com/api/download/models/1512741?type=Model&format=SafeTensor&token=6d5979eca3c585f9a91dcd83ded3f3a6\"\n",
        "!aria2c -x 16 -s 16 -d /content/Fooocus/models/loras -o TokidokiBosottoRussiagoDeDereruTonariNoAlyasanStyles.safetensors \"https://civitai.com/api/download/models/1469888?type=Model&format=SafeTensor&token=6d5979eca3c585f9a91dcd83ded3f3a6\"\n",
        "!aria2c -x 16 -s 16 -d /content/Fooocus/models/loras -o DateALiveAnimeStyles.safetensors \"https://civitai.com/api/download/models/1414917?type=Model&format=SafeTensor&token=6d5979eca3c585f9a91dcd83ded3f3a6\"\n",
        "!aria2c -x 16 -s 16 -d /content/Fooocus/models/loras -o DateALiveTsunakoNovelStyles.safetensors \"https://civitai.com/api/download/models/1372780?type=Model&format=SafeTensor&token=6d5979eca3c585f9a91dcd83ded3f3a6\"\n",
        "!aria2c -x 16 -s 16 -d /content/Fooocus/models/loras -o EromangaSenseiStyles.safetensors \"https://civitai.com/api/download/models/1423569?type=Model&format=SafeTensor&token=6d5979eca3c585f9a91dcd83ded3f3a6\"\n",
        "!aria2c -x 16 -s 16 -d /content/Fooocus/models/loras -o Himouto!Umaru-chanStyles.safetensors \"https://civitai.com/api/download/models/1410854?type=Model&format=SafeTensor&token=6d5979eca3c585f9a91dcd83ded3f3a6\"\n",
        "!aria2c -x 16 -s 16 -d /content/Fooocus/models/loras -o GabrielDropOutStyles.safetensors \"https://civitai.com/api/download/models/1397865?type=Model&format=SafeTensor&token=6d5979eca3c585f9a91dcd83ded3f3a6\"\n",
        "!aria2c -x 16 -s 16 -d /content/Fooocus/models/loras -o KuraChi151Styles.safetensors \"https://civitai.com/api/download/models/1764220?type=Model&format=SafeTensor&token=6d5979eca3c585f9a91dcd83ded3f3a6\"\n",
        "!aria2c -x 16 -s 16 -d /content/Fooocus/models/loras -o OpenVlStyles.safetensors \"https://civitai.com/api/download/models/1875948?type=Model&format=SafeTensor&token=6d5979eca3c585f9a91dcd83ded3f3a6\"\n",
        "!aria2c -x 16 -s 16 -d /content/Fooocus/models/loras -o OdayakaStyles.safetensors \"https://civitai.com/api/download/models/1675650?type=Model&format=SafeTensor&token=6d5979eca3c585f9a91dcd83ded3f3a6\"\n",
        "!aria2c -x 16 -s 16 -d /content/Fooocus/models/loras -o Shikishi_TraditionalMediaStyles.safetensors \"https://civitai.com/api/download/models/1204692?type=Model&format=SafeTensor&token=6d5979eca3c585f9a91dcd83ded3f3a6\"\n",
        "!aria2c -x 16 -s 16 -d /content/Fooocus/models/loras -o BubukkaStyles.safetensors \"https://civitai.com/api/download/models/2049312?type=Model&format=SafeTensor&token=6d5979eca3c585f9a91dcd83ded3f3a6\"\n",
        "!aria2c -x 16 -s 16 -d /content/Fooocus/models/loras -o FuyuichiMonmeStyles.safetensors \"https://civitai.com/api/download/models/1397718?type=Model&format=SafeTensor&token=6d5979eca3c585f9a91dcd83ded3f3a6\"\n",
        "!aria2c -x 16 -s 16 -d /content/Fooocus/models/loras -o USNRStyles.safetensors \"https://civitai.com/api/download/models/1552087?type=Model&format=SafeTensor&token=6d5979eca3c585f9a91dcd83ded3f3a6\"\n",
        "!aria2c -x 16 -s 16 -d /content/Fooocus/models/loras -o GenesisStyles.safetensors \"https://civitai.com/api/download/models/2004152?type=Model&format=SafeTensor&token=6d5979eca3c585f9a91dcd83ded3f3a6\"\n",
        "!aria2c -x 16 -s 16 -d /content/Fooocus/models/loras -o EufoniuzStyles.safetensors \"https://civitai.com/api/download/models/1577456?type=Model&format=SafeTensor&token=6d5979eca3c585f9a91dcd83ded3f3a6\"\n",
        "!aria2c -x 16 -s 16 -d /content/Fooocus/models/loras -o ArimonStyles.safetensors \"https://civitai.com/api/download/models/919595?type=Model&format=SafeTensor&token=6d5979eca3c585f9a91dcd83ded3f3a6\"\n",
        "!aria2c -x 16 -s 16 -d /content/Fooocus/models/loras -o MizumizuniStyles.safetensors \"https://civitai.com/api/download/models/960410?type=Model&format=SafeTensor&token=6d5979eca3c585f9a91dcd83ded3f3a6\"\n",
        "!aria2c -x 16 -s 16 -d /content/Fooocus/models/loras -o CustomUdonStyles.safetensors \"https://civitai.com/api/download/models/1727866?type=Model&format=SafeTensor&token=6d5979eca3c585f9a91dcd83ded3f3a6\"\n",
        "!aria2c -x 16 -s 16 -d /content/Fooocus/models/loras -o VicinekoStyles.safetensors \"https://civitai.com/api/download/models/1731487?type=Model&format=SafeTensor&token=6d5979eca3c585f9a91dcd83ded3f3a6\"\n",
        "!aria2c -x 16 -s 16 -d /content/Fooocus/models/loras -o SincosStyles.safetensors \"https://civitai.com/api/download/models/1258357?type=Model&format=SafeTensor&token=6d5979eca3c585f9a91dcd83ded3f3a6\"\n",
        "!aria2c -x 16 -s 16 -d /content/Fooocus/models/loras -o NukitashiStyles.safetensors \"https://civitai.com/api/download/models/2025429?type=Model&format=SafeTensor&token=6d5979eca3c585f9a91dcd83ded3f3a6\"\n"
      ]
    },
    {
      "cell_type": "code",
      "execution_count": null,
      "metadata": {
        "id": "GMuEPlJcp_1t",
        "collapsed": true
      },
      "outputs": [],
      "source": [
        "# Tool\n",
        "!aria2c -x 16 -s 16 -d /content/Fooocus/models/loras -o Above_BelowAngleSlider.safetensors \"https://civitai.com/api/download/models/1331815?type=Model&format=SafeTensor&token=6d5979eca3c585f9a91dcd83ded3f3a6\"\n",
        "!aria2c -x 16 -s 16 -d /content/Fooocus/models/loras -o AddMicroDetailsV5.safetensors \"https://civitai.com/api/download/models/1963644?type=Model&format=SafeTensor&token=6d5979eca3c585f9a91dcd83ded3f3a6\"\n",
        "!aria2c -x 16 -s 16 -d /content/Fooocus/models/loras -o DetailedEyesV3.safetensors \"https://civitai.com/api/download/models/145907?type=Model&format=SafeTensor&token=6d5979eca3c585f9a91dcd83ded3f3a6\"\n",
        "!aria2c -x 16 -s 16 -d /content/Fooocus/models/loras -o HandXLILLUV1.1.safetensors \"https://civitai.com/api/download/models/2212079?type=Model&format=SafeTensor&token=6d5979eca3c585f9a91dcd83ded3f3a6\"\n",
        "!aria2c -x 16 -s 16 -d /content/Fooocus/models/loras -o DynamicPosesSlider.safetensors \"https://civitai.com/api/download/models/1607510?type=Model&format=SafeTensor&token=6d5979eca3c585f9a91dcd83ded3f3a6\"\n",
        "!aria2c -x 16 -s 16 -d /content/Fooocus/models/loras -o DramaticLightingSliderStyles.safetensors \"https://civitai.com/api/download/models/1268294?type=Model&format=SafeTensor&token=6d5979eca3c585f9a91dcd83ded3f3a6\""
      ]
    },
    {
      "cell_type": "code",
      "execution_count": null,
      "metadata": {
        "id": "CVbDvM0UoL2b",
        "collapsed": true
      },
      "outputs": [],
      "source": [
        "# Poses\n",
        "!aria2c -x 16 -s 16 -d /content/Fooocus/models/loras -o MaruchanAkaiKitsuneUdon.safetensors \"https://civitai.com/api/download/models/1429662?type=Model&format=SafeTensor&token=6d5979eca3c585f9a91dcd83ded3f3a6\"\n",
        "!aria2c -x 16 -s 16 -d /content/Fooocus/models/loras -o BandagedArm.safetensors \"https://civitai.com/api/download/models/1863701?type=Model&format=SafeTensor&token=6d5979eca3c585f9a91dcd83ded3f3a6\"\n",
        "!aria2c -x 16 -s 16 -d /content/Fooocus/models/loras -o FanSpeaking.safetensors \"https://civitai.com/api/download/models/1935308?type=Model&format=SafeTensor&token=6d5979eca3c585f9a91dcd83ded3f3a6\"\n",
        "!aria2c -x 16 -s 16 -d /content/Fooocus/models/loras -o WaterMasturbation.safetensors \"https://civitai.com/api/download/models/2018081?type=Model&format=SafeTensor&token=6d5979eca3c585f9a91dcd83ded3f3a6\"\n",
        "!aria2c -x 16 -s 16 -d /content/Fooocus/models/loras -o LiftingDress.safetensors \"https://civitai.com/api/download/models/1612228?type=Model&format=SafeTensor&token=6d5979eca3c585f9a91dcd83ded3f3a6\"\n",
        "!aria2c -x 16 -s 16 -d /content/Fooocus/models/loras -o HeartArms.safetensors \"https://civitai.com/api/download/models/1604366?type=Model&format=SafeTensor&token=6d5979eca3c585f9a91dcd83ded3f3a6\"\n",
        "!aria2c -x 16 -s 16 -d /content/Fooocus/models/loras -o WaterFight.safetensors \"https://civitai.com/api/download/models/1912986?type=Model&format=SafeTensor&token=6d5979eca3c585f9a91dcd83ded3f3a6\"\n",
        "!aria2c -x 16 -s 16 -d /content/Fooocus/models/loras -o Akanbe.safetensors \"https://civitai.com/api/download/models/946088?type=Model&format=SafeTensor&token=6d5979eca3c585f9a91dcd83ded3f3a6\"\n",
        "!aria2c -x 16 -s 16 -d /content/Fooocus/models/loras -o TuckingHair.safetensors \"https://civitai.com/api/download/models/1778841?type=Model&format=SafeTensor&token=6d5979eca3c585f9a91dcd83ded3f3a6\"\n",
        "!aria2c -x 16 -s 16 -d /content/Fooocus/models/loras -o WaterKicking.safetensors \"https://civitai.com/api/download/models/1916698?type=Model&format=SafeTensor&token=6d5979eca3c585f9a91dcd83ded3f3a6\"\n",
        "!aria2c -x 16 -s 16 -d /content/Fooocus/models/loras -o POVFellatio+Glansjob.safetensors \"https://civitai.com/api/download/models/1684810?type=Model&format=SafeTensor&token=6d5979eca3c585f9a91dcd83ded3f3a6\"\n",
        "!aria2c -x 16 -s 16 -d /content/Fooocus/models/loras -o StompingandSex.safetensors \"https://civitai.com/api/download/models/1880548?type=Model&format=SafeTensor&token=6d5979eca3c585f9a91dcd83ded3f3a6\"\n",
        "!aria2c -x 16 -s 16 -d /content/Fooocus/models/loras -o RamenJiro.safetensors \"https://civitai.com/api/download/models/1254792?type=Model&format=SafeTensor&token=6d5979eca3c585f9a91dcd83ded3f3a6\"\n",
        "!aria2c -x 16 -s 16 -d /content/Fooocus/models/loras -o JapaneseSquatToiletType1.safetensors \"https://civitai.com/api/download/models/1565334?type=Model&format=SafeTensor&token=6d5979eca3c585f9a91dcd83ded3f3a6\"\n",
        "!aria2c -x 16 -s 16 -d /content/Fooocus/models/loras -o Kissonlips.safetensors \"https://civitai.com/api/download/models/1186557?type=Model&format=SafeTensor&token=6d5979eca3c585f9a91dcd83ded3f3a6\"\n",
        "!aria2c -x 16 -s 16 -d /content/Fooocus/models/loras -o BunnyRabbitPiece.safetensors \"https://civitai.com/api/download/models/1547356?type=Model&format=SafeTensor&token=6d5979eca3c585f9a91dcd83ded3f3a6\"\n",
        "!aria2c -x 16 -s 16 -d /content/Fooocus/models/loras -o OverflowVomitCum.safetensors \"https://civitai.com/api/download/models/1835458?type=Model&format=SafeTensor&token=6d5979eca3c585f9a91dcd83ded3f3a6\"\n",
        "!aria2c -x 16 -s 16 -d /content/Fooocus/models/loras -o OneFootinTheWater.safetensors \"https://civitai.com/api/download/models/1476471?type=Model&format=SafeTensor&token=6d5979eca3c585f9a91dcd83ded3f3a6\"\n",
        "!aria2c -x 16 -s 16 -d /content/Fooocus/models/loras -o MarriageProposal.safetensors \"https://civitai.com/api/download/models/1762741?type=Model&format=SafeTensor&token=6d5979eca3c585f9a91dcd83ded3f3a6\"\n",
        "!aria2c -x 16 -s 16 -d /content/Fooocus/models/loras -o DryingHair.safetensors \"https://civitai.com/api/download/models/1683056?type=Model&format=SafeTensor&token=6d5979eca3c585f9a91dcd83ded3f3a6\"\n",
        "!aria2c -x 16 -s 16 -d /content/Fooocus/models/loras -o Seesaw.safetensors \"https://civitai.com/api/download/models/1502924?type=Model&format=SafeTensor&token=6d5979eca3c585f9a91dcd83ded3f3a6\"\n",
        "!aria2c -x 16 -s 16 -d /content/Fooocus/models/loras -o SmellingPanties.safetensors \"https://civitai.com/api/download/models/1177307?type=Model&format=SafeTensor&token=6d5979eca3c585f9a91dcd83ded3f3a6\"\n",
        "!aria2c -x 16 -s 16 -d /content/Fooocus/models/loras -o MoonlightGreatsword.safetensors \"https://civitai.com/api/download/models/1371003?type=Model&format=SafeTensor&token=6d5979eca3c585f9a91dcd83ded3f3a6\"\n",
        "!aria2c -x 16 -s 16 -d /content/Fooocus/models/loras -o HeadLockSex.safetensors \"https://civitai.com/api/download/models/1855459?type=Model&format=SafeTensor&token=6d5979eca3c585f9a91dcd83ded3f3a6\"\n",
        "!aria2c -x 16 -s 16 -d /content/Fooocus/models/loras -o GroupSex.safetensors \"https://civitai.com/api/download/models/1987286?type=Model&format=SafeTensor&token=6d5979eca3c585f9a91dcd83ded3f3a6\"\n",
        "!aria2c -x 16 -s 16 -d /content/Fooocus/models/loras -o DoorChain.safetensors \"https://civitai.com/api/download/models/1403455?type=Model&format=SafeTensor&token=6d5979eca3c585f9a91dcd83ded3f3a6\"\n",
        "!aria2c -x 16 -s 16 -d /content/Fooocus/models/loras -o PovCowgirlLookingDown.safetensors \"https://civitai.com/api/download/models/2003586?type=Model&format=SafeTensor&token=6d5979eca3c585f9a91dcd83ded3f3a6\"\n",
        "!aria2c -x 16 -s 16 -d /content/Fooocus/models/loras -o 土下座DogezaLyCoris.safetensors \"https://civitai.com/api/download/models/1225761?type=Model&format=SafeTensor&token=6d5979eca3c585f9a91dcd83ded3f3a6\"\n",
        "!aria2c -x 16 -s 16 -d /content/Fooocus/models/loras -o PantyPullStandingOnTheOneLegLyCoris.safetensors \"https://civitai.com/api/download/models/1399516?type=Model&format=SafeTensor&token=6d5979eca3c585f9a91dcd83ded3f3a6\"\n",
        "!aria2c -x 16 -s 16 -d /content/Fooocus/models/loras -o SkirtTug.safetensors \"https://civitai.com/api/download/models/1151574?type=Model&format=SafeTensor&token=6d5979eca3c585f9a91dcd83ded3f3a6\"\n",
        "!aria2c -x 16 -s 16 -d /content/Fooocus/models/loras -o HoshinoAiPose.safetensors \"https://civitai.com/api/download/models/1411818?type=Model&format=SafeTensor&token=6d5979eca3c585f9a91dcd83ded3f3a6\"\n",
        "!aria2c -x 16 -s 16 -d /content/Fooocus/models/loras -o DrinkingBottle.safetensors \"https://civitai.com/api/download/models/1109772?type=Model&format=SafeTensor&token=6d5979eca3c585f9a91dcd83ded3f3a6\"\n",
        "!aria2c -x 16 -s 16 -d /content/Fooocus/models/loras -o Crouching.safetensors \"https://civitai.com/api/download/models/1168677?type=Model&format=SafeTensor&token=6d5979eca3c585f9a91dcd83ded3f3a6\"\n",
        "!aria2c -x 16 -s 16 -d /content/Fooocus/models/loras -o Megaphone.safetensors \"https://civitai.com/api/download/models/1197483?type=Model&format=SafeTensor&token=6d5979eca3c585f9a91dcd83ded3f3a6\"\n",
        "!aria2c -x 16 -s 16 -d /content/Fooocus/models/loras -o BattoujutsuStance.safetensors \"https://civitai.com/api/download/models/1314402?type=Model&format=SafeTensor&token=6d5979eca3c585f9a91dcd83ded3f3a6\"\n",
        "!aria2c -x 16 -s 16 -d /content/Fooocus/models/loras -o RabbitPose.safetensors \"https://civitai.com/api/download/models/1778842?type=Model&format=SafeTensor&token=6d5979eca3c585f9a91dcd83ded3f3a6\"\n",
        "!aria2c -x 16 -s 16 -d /content/Fooocus/models/loras -o LookingBack,ReachingTowardsViewerPoses.safetensors \"https://civitai.com/api/download/models/1336173?type=Model&format=SafeTensor&token=6d5979eca3c585f9a91dcd83ded3f3a6\"\n",
        "!aria2c -x 16 -s 16 -d /content/Fooocus/models/loras -o CenterAxisRelockStancePoses.safetensors \"https://civitai.com/api/download/models/1360770?type=Model&format=SafeTensor&token=6d5979eca3c585f9a91dcd83ded3f3a6\"\n",
        "!aria2c -x 16 -s 16 -d /content/Fooocus/models/loras -o HeartHandsDuoPoses.safetensors \"https://civitai.com/api/download/models/1479281?type=Model&format=SafeTensor&token=6d5979eca3c585f9a91dcd83ded3f3a6\"\n",
        "!aria2c -x 16 -s 16 -d /content/Fooocus/models/loras -o GatotsuStancePoses.safetensors \"https://civitai.com/api/download/models/1307087?type=Model&format=SafeTensor&token=6d5979eca3c585f9a91dcd83ded3f3a6\"\n",
        "!aria2c -x 16 -s 16 -d /content/Fooocus/models/loras -o SwordGuardStancePoses.safetensors \"https://civitai.com/api/download/models/1336738?type=Model&format=SafeTensor&token=6d5979eca3c585f9a91dcd83ded3f3a6\"\n",
        "!aria2c -x 16 -s 16 -d /content/Fooocus/models/loras -o BetterYuriKiss.safetensors \"https://civitai.com/api/download/models/1188399?type=Model&format=SafeTensor&token=6d5979eca3c585f9a91dcd83ded3f3a6\"\n",
        "!aria2c -x 16 -s 16 -d /content/Fooocus/models/loras -o Mesugaki.safetensors \"https://civitai.com/api/download/models/1042048?type=Model&format=SafeTensor&token=6d5979eca3c585f9a91dcd83ded3f3a6\"\n",
        "!aria2c -x 16 -s 16 -d /content/Fooocus/models/loras -o DressingSocks.safetensors \"https://civitai.com/api/download/models/1065537?type=Model&format=SafeTensor&token=6d5979eca3c585f9a91dcd83ded3f3a6\"\n",
        "!aria2c -x 16 -s 16 -d /content/Fooocus/models/loras -o IaidouPose.safetensors \"https://civitai.com/api/download/models/1024658?type=Model&format=SafeTensor&token=6d5979eca3c585f9a91dcd83ded3f3a6\"\n",
        "!aria2c -x 16 -s 16 -d /content/Fooocus/models/loras -o MutualBreastSucking.safetensors \"https://civitai.com/api/download/models/1771145?type=Model&format=SafeTensor&token=6d5979eca3c585f9a91dcd83ded3f3a6\"\n",
        "!aria2c -x 16 -s 16 -d /content/Fooocus/models/loras -o Disgust.safetensors \"https://civitai.com/api/download/models/1057321?type=Model&format=SafeTensor&token=6d5979eca3c585f9a91dcd83ded3f3a6\"\n",
        "!aria2c -x 16 -s 16 -d /content/Fooocus/models/loras -o CunnilingusGesture.safetensors \"https://civitai.com/api/download/models/1659754?type=Model&format=SafeTensor&token=6d5979eca3c585f9a91dcd83ded3f3a6\"\n",
        "!aria2c -x 16 -s 16 -d /content/Fooocus/models/loras -o Two-HandedChoke.safetensors \"https://civitai.com/api/download/models/1413729?type=Model&format=SafeTensor&token=6d5979eca3c585f9a91dcd83ded3f3a6\"\n",
        "!aria2c -x 16 -s 16 -d /content/Fooocus/models/loras -o SpittingDomination.safetensors \"https://civitai.com/api/download/models/1969737?type=Model&format=SafeTensor&token=6d5979eca3c585f9a91dcd83ded3f3a6\"\n",
        "!aria2c -x 16 -s 16 -d /content/Fooocus/models/loras -o Push-ups.safetensors \"https://civitai.com/api/download/models/1300016?type=Model&format=SafeTensor&token=6d5979eca3c585f9a91dcd83ded3f3a6\"\n",
        "!aria2c -x 16 -s 16 -d /content/Fooocus/models/loras -o Feeding.safetensors \"https://civitai.com/api/download/models/1156433?type=Model&format=SafeTensor&token=6d5979eca3c585f9a91dcd83ded3f3a6\"\n",
        "!aria2c -x 16 -s 16 -d /content/Fooocus/models/loras -o WrapTowel.safetensors \"https://civitai.com/api/download/models/1304009?type=Model&format=SafeTensor&token=6d5979eca3c585f9a91dcd83ded3f3a6\"\n",
        "!aria2c -x 16 -s 16 -d /content/Fooocus/models/loras -o Selfie-Poses.safetensors \"https://civitai.com/api/download/models/1659876?type=Model&format=SafeTensor&token=6d5979eca3c585f9a91dcd83ded3f3a6\"\n",
        "!aria2c -x 16 -s 16 -d /content/Fooocus/models/loras -o FanningSelf.safetensors \"https://civitai.com/api/download/models/1391723?type=Model&format=SafeTensor&token=6d5979eca3c585f9a91dcd83ded3f3a6\"\n",
        "!aria2c -x 16 -s 16 -d /content/Fooocus/models/loras -o TyingHairTwintails.safetensors \"https://civitai.com/api/download/models/1474541?type=Model&format=SafeTensor&token=6d5979eca3c585f9a91dcd83ded3f3a6\"\n",
        "!aria2c -x 16 -s 16 -d /content/Fooocus/models/loras -o SpringRider.safetensors \"https://civitai.com/api/download/models/1481293?type=Model&format=SafeTensor&token=6d5979eca3c585f9a91dcd83ded3f3a6\"\n",
        "!aria2c -x 16 -s 16 -d /content/Fooocus/models/loras -o FromAboveHeadTopView.safetensors \"https://civitai.com/api/download/models/1609618?type=Model&format=SafeTensor&token=6d5979eca3c585f9a91dcd83ded3f3a6\"\n",
        "!aria2c -x 16 -s 16 -d /content/Fooocus/models/loras -o HeartHands_HandsOnOwnStomach.safetensors \"https://civitai.com/api/download/models/1368528?type=Model&format=SafeTensor&token=6d5979eca3c585f9a91dcd83ded3f3a6\"\n",
        "!aria2c -x 16 -s 16 -d /content/Fooocus/models/loras -o Slide.safetensors \"https://civitai.com/api/download/models/1511570?type=Model&format=SafeTensor&token=6d5979eca3c585f9a91dcd83ded3f3a6\"\n",
        "!aria2c -x 16 -s 16 -d /content/Fooocus/models/loras -o WaterSlide.safetensors \"https://civitai.com/api/download/models/1896890?type=Model&format=SafeTensor&token=6d5979eca3c585f9a91dcd83ded3f3a6\"\n",
        "!aria2c -x 16 -s 16 -d /content/Fooocus/models/loras -o EmptyPool.safetensors \"https://civitai.com/api/download/models/1487269?type=Model&format=SafeTensor&token=6d5979eca3c585f9a91dcd83ded3f3a6\"\n",
        "!aria2c -x 16 -s 16 -d /content/Fooocus/models/loras -o Ruler_PenisMeasuring.safetensors \"https://civitai.com/api/download/models/1267094?type=Model&format=SafeTensor&token=6d5979eca3c585f9a91dcd83ded3f3a6\"\n",
        "!aria2c -x 16 -s 16 -d /content/Fooocus/models/loras -o SmallBreastsClevageHandjob_Naizuri.safetensors \"https://civitai.com/api/download/models/1687135?type=Model&format=SafeTensor&token=6d5979eca3c585f9a91dcd83ded3f3a6\"\n",
        "!aria2c -x 16 -s 16 -d /content/Fooocus/models/loras -o TransparentRaincoat.safetensors \"https://civitai.com/api/download/models/1688496?type=Model&format=SafeTensor&token=6d5979eca3c585f9a91dcd83ded3f3a6\"\n",
        "!aria2c -x 16 -s 16 -d /content/Fooocus/models/loras -o ConvenientCensoringInnertube.safetensors \"https://civitai.com/api/download/models/2018044?type=Model&format=SafeTensor&token=6d5979eca3c585f9a91dcd83ded3f3a6\"\n",
        "!aria2c -x 16 -s 16 -d /content/Fooocus/models/loras -o DrinkingFaucet.safetensors \"https://civitai.com/api/download/models/2007836?type=Model&format=SafeTensor&token=6d5979eca3c585f9a91dcd83ded3f3a6\"\n",
        "!aria2c -x 16 -s 16 -d /content/Fooocus/models/loras -o DrinkingFountain.safetensors \"https://civitai.com/api/download/models/1994871?type=Model&format=SafeTensor&token=6d5979eca3c585f9a91dcd83ded3f3a6\"\n",
        "!aria2c -x 16 -s 16 -d /content/Fooocus/models/loras -o HikoboshiTanabata.safetensors \"https://civitai.com/api/download/models/1981817?type=Model&format=SafeTensor&token=6d5979eca3c585f9a91dcd83ded3f3a6\"\n",
        "!aria2c -x 16 -s 16 -d /content/Fooocus/models/loras -o BandagedLeg.safetensors \"https://civitai.com/api/download/models/1863861?type=Model&format=SafeTensor&token=6d5979eca3c585f9a91dcd83ded3f3a6\"\n",
        "!aria2c -x 16 -s 16 -d /content/Fooocus/models/loras -o WringingSkirt.safetensors \"https://civitai.com/api/download/models/1570473?type=Model&format=SafeTensor&token=6d5979eca3c585f9a91dcd83ded3f3a6\"\n",
        "!aria2c -x 16 -s 16 -d /content/Fooocus/models/loras -o Biting_KissingStomach.safetensors \"https://civitai.com/api/download/models/2041315?type=Model&format=SafeTensor&token=6d5979eca3c585f9a91dcd83ded3f3a6\"\n",
        "!aria2c -x 16 -s 16 -d /content/Fooocus/models/loras -o ShoulderToCheek.safetensors \"https://civitai.com/api/download/models/1865867?type=Model&format=SafeTensor&token=6d5979eca3c585f9a91dcd83ded3f3a6\"\n",
        "!aria2c -x 16 -s 16 -d /content/Fooocus/models/loras -o CrawlAwayPose.safetensors \"https://civitai.com/api/download/models/1336363?type=Model&format=SafeTensor&token=6d5979eca3c585f9a91dcd83ded3f3a6\"\n",
        "!aria2c -x 16 -s 16 -d /content/Fooocus/models/loras -o WeCanDoIt!.safetensors \"https://civitai.com/api/download/models/1732694?type=Model&format=SafeTensor&token=6d5979eca3c585f9a91dcd83ded3f3a6\"\n",
        "!aria2c -x 16 -s 16 -d /content/Fooocus/models/loras -o GrapeStomping.safetensors \"https://civitai.com/api/download/models/1045459?type=Model&format=SafeTensor&token=6d5979eca3c585f9a91dcd83ded3f3a6\"\n",
        "!aria2c -x 16 -s 16 -d /content/Fooocus/models/loras -o HeartHandsDuo&FingerFrame.safetensors \"https://civitai.com/api/download/models/1918731?type=Model&format=SafeTensor&token=6d5979eca3c585f9a91dcd83ded3f3a6\"\n",
        "!aria2c -x 16 -s 16 -d /content/Fooocus/models/loras -o NowKiss.safetensors \"https://civitai.com/api/download/models/1920963?type=Model&format=SafeTensor&token=6d5979eca3c585f9a91dcd83ded3f3a6\"\n",
        "!aria2c -x 16 -s 16 -d /content/Fooocus/models/loras -o RiderKickKamenRider.safetensors \"https://civitai.com/api/download/models/1734076?type=Model&format=SafeTensor&token=6d5979eca3c585f9a91dcd83ded3f3a6\"\n",
        "!aria2c -x 16 -s 16 -d /content/Fooocus/models/loras -o Kabedon.safetensors \"https://civitai.com/api/download/models/1892972?type=Model&format=SafeTensor&token=6d5979eca3c585f9a91dcd83ded3f3a6\"\n",
        "!aria2c -x 16 -s 16 -d /content/Fooocus/models/loras -o Soba_ShrimpTempura.safetensors \"https://civitai.com/api/download/models/1199075?type=Model&format=SafeTensor&token=6d5979eca3c585f9a91dcd83ded3f3a6\"\n",
        "!aria2c -x 16 -s 16 -d /content/Fooocus/models/loras -o GoldfishScooping.safetensors \"https://civitai.com/api/download/models/1959708?type=Model&format=SafeTensor&token=6d5979eca3c585f9a91dcd83ded3f3a6\"\n",
        "!aria2c -x 16 -s 16 -d /content/Fooocus/models/loras -o Graduation.safetensors \"https://civitai.com/api/download/models/1493606?type=Model&format=SafeTensor&token=6d5979eca3c585f9a91dcd83ded3f3a6\"\n",
        "!aria2c -x 16 -s 16 -d /content/Fooocus/models/loras -o BreakDance.safetensors \"https://civitai.com/api/download/models/952144?type=Model&format=SafeTensor&token=6d5979eca3c585f9a91dcd83ded3f3a6\"\n"
      ]
    },
    {
      "cell_type": "code",
      "execution_count": null,
      "metadata": {
        "id": "Ez_MAOd76c7G",
        "collapsed": true
      },
      "outputs": [],
      "source": [
        "# Background\n",
        "!aria2c -x 16 -s 16 -d /content/Fooocus/models/loras -o TraininBackground.safetensors \"https://civitai.com/api/download/models/1820808?type=Model&format=SafeTensor&token=6d5979eca3c585f9a91dcd83ded3f3a6\"\n",
        "!aria2c -x 16 -s 16 -d /content/Fooocus/models/loras -o TrainInteriorViewType1.safetensors \"https://civitai.com/api/download/models/1390172?type=Model&format=SafeTensor&token=6d5979eca3c585f9a91dcd83ded3f3a6\"\n",
        "!aria2c -x 16 -s 16 -d /content/Fooocus/models/loras -o SaltFlatsMirror.safetensors \"https://civitai.com/api/download/models/1415141?type=Model&format=SafeTensor&token=6d5979eca3c585f9a91dcd83ded3f3a6\"\n",
        "!aria2c -x 16 -s 16 -d /content/Fooocus/models/loras -o SchoolRooftop.safetensors \"https://civitai.com/api/download/models/1538386?type=Model&format=SafeTensor&token=6d5979eca3c585f9a91dcd83ded3f3a6\"\n",
        "!aria2c -x 16 -s 16 -d /content/Fooocus/models/loras -o Backstage.safetensors \"https://civitai.com/api/download/models/1487364?type=Model&format=SafeTensor&token=6d5979eca3c585f9a91dcd83ded3f3a6\"\n",
        "!aria2c -x 16 -s 16 -d /content/Fooocus/models/loras -o SchoolPoolV2.safetensors \"https://civitai.com/api/download/models/1815788?type=Model&format=SafeTensor&token=6d5979eca3c585f9a91dcd83ded3f3a6\"\n",
        "!aria2c -x 16 -s 16 -d /content/Fooocus/models/loras -o Schoolyard.safetensors \"https://civitai.com/api/download/models/1556740?type=Model&format=SafeTensor&token=6d5979eca3c585f9a91dcd83ded3f3a6\"\n",
        "!aria2c -x 16 -s 16 -d /content/Fooocus/models/loras -o TrainInteriorViewType2.safetensors \"https://civitai.com/api/download/models/1412559?type=Model&format=SafeTensor&token=6d5979eca3c585f9a91dcd83ded3f3a6\"\n",
        "!aria2c -x 16 -s 16 -d /content/Fooocus/models/loras -o WashingBodySceneinthemirror.safetensors \"https://civitai.com/api/download/models/1476626?type=Model&format=SafeTensor&token=6d5979eca3c585f9a91dcd83ded3f3a6\"\n",
        "!aria2c -x 16 -s 16 -d /content/Fooocus/models/loras -o CloudCollection.safetensors \"https://civitai.com/api/download/models/1502308?type=Model&format=SafeTensor&token=6d5979eca3c585f9a91dcd83ded3f3a6\""
      ]
    },
    {
      "cell_type": "code",
      "execution_count": null,
      "metadata": {
        "id": "2LzDguZv6u8-"
      },
      "outputs": [],
      "source": [
        "# Random Character\n",
        "!aria2c -x 16 -s 16 -d /content/Fooocus/models/loras -o MahiroOyama.safetensors \"https://civitai.com/api/download/models/2000635?type=Model&format=SafeTensor&token=6d5979eca3c585f9a91dcd83ded3f3a6\"\n",
        "!aria2c -x 16 -s 16 -d /content/Fooocus/models/loras -o SayuOgiwara.safetensors \"https://civitai.com/api/download/models/1982686?type=Model&format=SafeTensor&token=6d5979eca3c585f9a91dcd83ded3f3a6\"\n",
        "!aria2c -x 16 -s 16 -d /content/Fooocus/models/loras -o KotegawaChisa.safetensors \"https://civitai.com/api/download/models/1573986?type=Model&format=SafeTensor&token=6d5979eca3c585f9a91dcd83ded3f3a6\"\n",
        "!aria2c -x 16 -s 16 -d /content/Fooocus/models/loras -o ChitandaEru.safetensors \"https://civitai.com/api/download/models/1897534?type=Model&format=SafeTensor&token=6d5979eca3c585f9a91dcd83ded3f3a6\"\n",
        "!aria2c -x 16 -s 16 -d /content/Fooocus/models/loras -o NagisaFurukawa.safetensors \"https://civitai.com/api/download/models/1900577?type=Model&format=SafeTensor&token=6d5979eca3c585f9a91dcd83ded3f3a6\"\n",
        "!aria2c -x 16 -s 16 -d /content/Fooocus/models/loras -o VioletEvergarden.safetensors \"https://civitai.com/api/download/models/1942342?type=Model&format=SafeTensor&token=6d5979eca3c585f9a91dcd83ded3f3a6\"\n",
        "!aria2c -x 16 -s 16 -d /content/Fooocus/models/loras -o KaorukoWaguri.safetensors \"https://civitai.com/api/download/models/2015966?type=Model&format=SafeTensor&token=6d5979eca3c585f9a91dcd83ded3f3a6\"+\n",
        "!aria2c -x 16 -s 16 -d /content/Fooocus/models/loras -o MadokaKaname.safetensors \"https://civitai.com/api/download/models/1327447?type=Model&format=SafeTensor&token=6d5979eca3c585f9a91dcd83ded3f3a6\""
      ]
    }
  ],
  "metadata": {
    "accelerator": "GPU",
    "colab": {
      "gpuType": "T4",
      "provenance": [],
      "include_colab_link": true
    },
    "kernelspec": {
      "display_name": "Python 3",
      "name": "python3"
    },
    "language_info": {
      "name": "python"
    }
  },
  "nbformat": 4,
  "nbformat_minor": 0
}